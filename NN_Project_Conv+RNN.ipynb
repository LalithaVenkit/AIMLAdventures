{
 "cells": [
  {
   "cell_type": "markdown",
   "metadata": {},
   "source": [
    "### Gesture Recognition\n",
    "In this group project, you are going to build a 3D Conv model that will be able to predict the 5 gestures correctly. Please import the following libraries to get started."
   ]
  },
  {
   "cell_type": "code",
   "execution_count": 130,
   "metadata": {},
   "outputs": [],
   "source": [
    "import numpy as np\n",
    "import os\n",
    "from scipy.misc import imread, imresize\n",
    "import datetime\n",
    "import os"
   ]
  },
  {
   "cell_type": "markdown",
   "metadata": {},
   "source": [
    "We set the random seed so that the results don't vary drastically."
   ]
  },
  {
   "cell_type": "code",
   "execution_count": 131,
   "metadata": {},
   "outputs": [],
   "source": [
    "np.random.seed(30)\n",
    "import random as rn\n",
    "rn.seed(30)\n",
    "from keras import backend as K\n",
    "import tensorflow as tf\n",
    "tf.random.set_seed(30)   #tf.set_random_seed(30)"
   ]
  },
  {
   "cell_type": "markdown",
   "metadata": {},
   "source": [
    "In this block, you read the folder names for training and validation. You also set the `batch_size` here. Note that you set the batch size in such a way that you are able to use the GPU in full capacity. You keep increasing the batch size until the machine throws an error."
   ]
  },
  {
   "cell_type": "code",
   "execution_count": 132,
   "metadata": {},
   "outputs": [],
   "source": [
    "train_doc = np.random.permutation(open('C:/Users/induj/ML_and_AI/Case_Studies/Deep Learning Project/My Code/Project_data/Project_data/train.csv').readlines())\n",
    "val_doc = np.random.permutation(open('C:/Users/induj/ML_and_AI/Case_Studies/Deep Learning Project/My Code/Project_data/Project_data/val.csv').readlines())\n",
    "batch_size = 10 #70 #30 #experiment with the batch size"
   ]
  },
  {
   "cell_type": "markdown",
   "metadata": {},
   "source": [
    "## Generator\n",
    "This is one of the most important part of the code. The overall structure of the generator has been given. In the generator, you are going to preprocess the images as you have images of 2 different dimensions as well as create a batch of video frames. You have to experiment with `img_idx`, `y`,`z` and normalization such that you get high accuracy."
   ]
  },
  {
   "cell_type": "code",
   "execution_count": 133,
   "metadata": {},
   "outputs": [],
   "source": [
    "def generator(source_path, folder_list, batch_size):\n",
    "    print( 'Source path = ', source_path, '; batch size =', batch_size)\n",
    "    img_idx = [0,3,6,9,12,15,18,21,24,27,29] #[0,2,5,7,10,12,15,17,20,22,25,27,29]#[0,2,4,7,10,12,15,16,18,20,22,25,27,28,29] #create a list of image numbers you want to use for a particular video\n",
    "    while True:\n",
    "        t = np.random.permutation(folder_list)\n",
    "        num_batches = int(len(t)/batch_size) # calculate the number of batches\n",
    "        for batch in range(num_batches): # we iterate over the number of batches\n",
    "            batch_data = np.zeros((batch_size,11,120,120,3)) # x is the number of images you use for each video, (y,z) is the final size of the input images and 3 is the number of channels RGB\n",
    "            batch_labels = np.zeros((batch_size,5)) # batch_labels is the one hot representation of the output\n",
    "            for folder in range(batch_size): # iterate over the batch_size\n",
    "                imgs = os.listdir(source_path+'/'+ t[folder + (batch*batch_size)].split(';')[0]) # read all the images in the folder\n",
    "                for idx,item in enumerate(img_idx): #  Iterate iver the frames/images of a folder to read them in\n",
    "                    image = imread(source_path+'/'+ t[folder + (batch*batch_size)].strip().split(';')[0]+'/'+imgs[item]).astype(np.float32)\n",
    "                    \n",
    "                    #crop the images and resize them. Note that the images are of 2 different shape \n",
    "                    #and the conv3D will throw error if the inputs in a batch have different shapes\n",
    "                    if image.shape[1] == 160:\n",
    "                        resized_image = imresize(image[:,20:140,:],(120,120)).astype(np.float32)\n",
    "                    else:\n",
    "                        resized_image = imresize(image,(120,120)).astype(np.float32)\n",
    "                        \n",
    "                    \n",
    "                    batch_data[folder,idx,:,:,0] = resized_image[:,:,0] - 104 #normalise and feed in the image\n",
    "                    batch_data[folder,idx,:,:,1] = resized_image[:,:,1] - 117 #normalise and feed in the image\n",
    "                    batch_data[folder,idx,:,:,2] = resized_image[:,:,2] - 123 #normalise and feed in the image\n",
    "                    \n",
    "                batch_labels[folder, int(t[folder + (batch*batch_size)].strip().split(';')[2])] = 1\n",
    "            yield batch_data, batch_labels #you yield the batch_data and the batch_labels, remember what does yield do\n",
    "\n",
    "            \n",
    "# write the code for the remaining data points which are left after full batches      \n",
    "\n",
    "\n",
    "            if (len(t)%batch_size) != 0:\n",
    "                batch_data = np.zeros((len(t)%batch_size,11,120,120,3))\n",
    "                batch_labels = np.zeros((len(t)%batch_size,5))\n",
    "            for folder in range(len(t)%batch_size):\n",
    "                imgs = os.listdir(source_path+'/'+ t[folder + (num_batches*batch_size)].split(';')[0])\n",
    "                for idx,item in enumerate(img_idx):\n",
    "                    image = imread(source_path+'/'+ t[folder + (num_batches*batch_size)].strip().split(';')[0]+'/'+imgs[item]).astype(np.float32)\n",
    "                    if image.shape[1] == 160:\n",
    "                        resized_image = imresize(image[:,20:140,:],(120,120)).astype(np.float32)\n",
    "                    else:\n",
    "                        resized_image = imresize(image,(120,120)).astype(np.float32)\n",
    "\n",
    "                    batch_data[folder,idx,:,:,0] = resized_image[:,:,0] - 104\n",
    "                    batch_data[folder,idx,:,:,1] = resized_image[:,:,1] - 117\n",
    "                    batch_data[folder,idx,:,:,2] = resized_image[:,:,2] - 123\n",
    "\n",
    "                batch_labels[folder, int(t[folder + (num_batches*batch_size)].strip().split(';')[2])] = 1\n",
    "\n",
    "            yield batch_data, batch_labels\n",
    "\n"
   ]
  },
  {
   "cell_type": "markdown",
   "metadata": {},
   "source": [
    "Note here that a video is represented above in the generator as (number of images, height, width, number of channels). Take this into consideration while creating the model architecture."
   ]
  },
  {
   "cell_type": "code",
   "execution_count": 134,
   "metadata": {},
   "outputs": [
    {
     "name": "stdout",
     "output_type": "stream",
     "text": [
      "# training sequences = 663\n",
      "# validation sequences = 100\n",
      "# epochs = 20\n"
     ]
    }
   ],
   "source": [
    "curr_dt_time = datetime.datetime.now()\n",
    "train_path = 'C:/Users/induj/ML_and_AI/Case_Studies/Deep Learning Project/My Code/Project_data/Project_data/train'\n",
    "val_path = 'C:/Users/induj/ML_and_AI/Case_Studies/Deep Learning Project/My Code/Project_data/Project_data/val'\n",
    "num_train_sequences = len(train_doc)\n",
    "print('# training sequences =', num_train_sequences)\n",
    "num_val_sequences = len(val_doc)\n",
    "print('# validation sequences =', num_val_sequences)\n",
    "num_epochs = 20 #50 #70 # choose the number of epochs\n",
    "print ('# epochs =', num_epochs)"
   ]
  },
  {
   "cell_type": "markdown",
   "metadata": {},
   "source": [
    "## Model\n",
    "Here you make the model using different functionalities that Keras provides. Remember to use `Conv3D` and `MaxPooling3D` and not `Conv2D` and `Maxpooling2D` for a 3D convolution model. You would want to use `TimeDistributed` while building a Conv2D + RNN model. Also remember that the last layer is the softmax. Design the network in such a way that the model is able to give good accuracy on the least number of parameters so that it can fit in the memory of the webcam."
   ]
  },
  {
   "cell_type": "code",
   "execution_count": 135,
   "metadata": {},
   "outputs": [],
   "source": [
    "from keras.models import Sequential, Model\n",
    "from keras.layers import Dense, GRU, Flatten, TimeDistributed, Dropout, BatchNormalization, Activation\n",
    "from keras.layers.convolutional import Conv3D, MaxPooling3D\n",
    "from keras.callbacks import ModelCheckpoint, ReduceLROnPlateau\n",
    "from keras import optimizers\n",
    "\n",
    "#write your model here\n",
    "\n",
    "from keras.applications.vgg16 import VGG16\n",
    "\n",
    "base = VGG16(include_top=False, weights='imagenet', input_shape=(120,120,3))\n",
    "x = base.output\n",
    "x = Flatten()(x)\n",
    "\n",
    "features = Dense(64, activation='relu')(x)\n",
    "conv_model = Model(inputs=base.input, outputs=features)\n",
    "    \n",
    "for layer in base.layers:\n",
    "    layer.trainable = False\n",
    "        \n",
    "model2d = Sequential()\n",
    "model2d.add(TimeDistributed(conv_model, input_shape=(11,120,120,3)))\n",
    "model2d.add(GRU(32, return_sequences=True))\n",
    "model2d.add(GRU(16))\n",
    "model2d.add(Dropout(0.5))\n",
    "model2d.add(Dense(8, activation='relu'))\n",
    "model2d.add(Dense(5, activation='softmax'))"
   ]
  },
  {
   "cell_type": "markdown",
   "metadata": {},
   "source": [
    "Now that you have written the model, the next step is to `compile` the model. When you print the `summary` of the model, you'll see the total number of parameters you have to train."
   ]
  },
  {
   "cell_type": "code",
   "execution_count": 136,
   "metadata": {
    "scrolled": true
   },
   "outputs": [
    {
     "name": "stdout",
     "output_type": "stream",
     "text": [
      "Model: \"sequential_10\"\n",
      "_________________________________________________________________\n",
      "Layer (type)                 Output Shape              Param #   \n",
      "=================================================================\n",
      "time_distributed_10 (TimeDis (None, 11, 64)            15009664  \n",
      "_________________________________________________________________\n",
      "gru_19 (GRU)                 (None, 11, 32)            9312      \n",
      "_________________________________________________________________\n",
      "gru_20 (GRU)                 (None, 16)                2352      \n",
      "_________________________________________________________________\n",
      "dropout_10 (Dropout)         (None, 16)                0         \n",
      "_________________________________________________________________\n",
      "dense_30 (Dense)             (None, 8)                 136       \n",
      "_________________________________________________________________\n",
      "dense_31 (Dense)             (None, 5)                 45        \n",
      "=================================================================\n",
      "Total params: 15,021,509\n",
      "Trainable params: 306,821\n",
      "Non-trainable params: 14,714,688\n",
      "_________________________________________________________________\n",
      "None\n"
     ]
    }
   ],
   "source": [
    "from keras.optimizers import Adam\n",
    "\n",
    "optimiser =Adam(learning_rate=0.001) #write your optimizer\n",
    "\n",
    "model2d.compile(optimizer=optimiser, loss='categorical_crossentropy', metrics=['categorical_accuracy'])\n",
    "print (model2d.summary())"
   ]
  },
  {
   "cell_type": "markdown",
   "metadata": {},
   "source": [
    "Let us create the `train_generator` and the `val_generator` which will be used in `.fit_generator`."
   ]
  },
  {
   "cell_type": "code",
   "execution_count": 137,
   "metadata": {},
   "outputs": [],
   "source": [
    "train_generator = generator(train_path, train_doc, batch_size)\n",
    "val_generator = generator(val_path, val_doc, batch_size)"
   ]
  },
  {
   "cell_type": "code",
   "execution_count": 138,
   "metadata": {},
   "outputs": [],
   "source": [
    "model_name = 'model2d' + '_' + str(curr_dt_time).replace(' ','').replace(':','_') + '/'\n",
    "    \n",
    "if not os.path.exists(model_name):\n",
    "    os.mkdir(model_name)\n",
    "        \n",
    "filepath = model_name + 'model-{epoch:05d}-{loss:.5f}-{categorical_accuracy:.5f}-{val_loss:.5f}-{val_categorical_accuracy:.5f}.h5'\n",
    "\n",
    "checkpoint = ModelCheckpoint(filepath, monitor='val_loss', verbose=1, save_best_only=False, save_weights_only=False, mode='auto', period=1)\n",
    "\n",
    "LR = ReduceLROnPlateau(monitor='val_loss', factor=0.5, patience=2, verbose=1, mode='auto', min_delta=0.0001, cooldown=0, min_lr=0.00001) # write the REducelronplateau code here\n",
    "callbacks_list = [checkpoint, LR]"
   ]
  },
  {
   "cell_type": "markdown",
   "metadata": {},
   "source": [
    "The `steps_per_epoch` and `validation_steps` are used by `fit_generator` to decide the number of next() calls it need to make."
   ]
  },
  {
   "cell_type": "code",
   "execution_count": 139,
   "metadata": {},
   "outputs": [],
   "source": [
    "if (num_train_sequences%batch_size) == 0:\n",
    "    steps_per_epoch = int(num_train_sequences/batch_size)\n",
    "else:\n",
    "    steps_per_epoch = (num_train_sequences//batch_size) + 1\n",
    "\n",
    "if (num_val_sequences%batch_size) == 0:\n",
    "    validation_steps = int(num_val_sequences/batch_size)\n",
    "else:\n",
    "    validation_steps = (num_val_sequences//batch_size) + 1"
   ]
  },
  {
   "cell_type": "markdown",
   "metadata": {},
   "source": [
    "Let us now fit the model. This will start training the model and with the help of the checkpoints, you'll be able to save the model at the end of each epoch."
   ]
  },
  {
   "cell_type": "code",
   "execution_count": 140,
   "metadata": {},
   "outputs": [
    {
     "name": "stdout",
     "output_type": "stream",
     "text": [
      "Epoch 1/20\n",
      "Source path =  C:/Users/induj/ML_and_AI/Case_Studies/Deep Learning Project/My Code/Project_data/Project_data/val ; batch size = 10\n",
      "Source path =  C:/Users/induj/ML_and_AI/Case_Studies/Deep Learning Project/My Code/Project_data/Project_data/train ; batch size = 10\n"
     ]
    },
    {
     "name": "stderr",
     "output_type": "stream",
     "text": [
      "C:\\ProgramData\\Anaconda3\\lib\\site-packages\\ipykernel_launcher.py:13: DeprecationWarning: `imread` is deprecated!\n",
      "`imread` is deprecated in SciPy 1.0.0, and will be removed in 1.2.0.\n",
      "Use ``imageio.imread`` instead.\n",
      "  del sys.path[0]\n",
      "C:\\ProgramData\\Anaconda3\\lib\\site-packages\\ipykernel_launcher.py:18: DeprecationWarning: `imresize` is deprecated!\n",
      "`imresize` is deprecated in SciPy 1.0.0, and will be removed in 1.3.0.\n",
      "Use Pillow instead: ``numpy.array(Image.fromarray(arr).resize())``.\n",
      "C:\\ProgramData\\Anaconda3\\lib\\site-packages\\ipykernel_launcher.py:20: DeprecationWarning: `imresize` is deprecated!\n",
      "`imresize` is deprecated in SciPy 1.0.0, and will be removed in 1.3.0.\n",
      "Use Pillow instead: ``numpy.array(Image.fromarray(arr).resize())``.\n",
      "C:\\ProgramData\\Anaconda3\\lib\\site-packages\\ipykernel_launcher.py:40: DeprecationWarning: `imread` is deprecated!\n",
      "`imread` is deprecated in SciPy 1.0.0, and will be removed in 1.2.0.\n",
      "Use ``imageio.imread`` instead.\n",
      "C:\\ProgramData\\Anaconda3\\lib\\site-packages\\ipykernel_launcher.py:42: DeprecationWarning: `imresize` is deprecated!\n",
      "`imresize` is deprecated in SciPy 1.0.0, and will be removed in 1.3.0.\n",
      "Use Pillow instead: ``numpy.array(Image.fromarray(arr).resize())``.\n",
      "C:\\ProgramData\\Anaconda3\\lib\\site-packages\\ipykernel_launcher.py:44: DeprecationWarning: `imresize` is deprecated!\n",
      "`imresize` is deprecated in SciPy 1.0.0, and will be removed in 1.3.0.\n",
      "Use Pillow instead: ``numpy.array(Image.fromarray(arr).resize())``.\n"
     ]
    },
    {
     "name": "stdout",
     "output_type": "stream",
     "text": [
      "67/67 [==============================] - 511s 8s/step - loss: 1.2770 - categorical_accuracy: 0.3781 - val_loss: 1.4513 - val_categorical_accuracy: 0.3000\n",
      "\n",
      "Epoch 00001: saving model to model2d_2020-05-0415_51_27.088527/model-00001-1.52098-0.37813-1.45128-0.30000.h5\n",
      "Epoch 2/20\n",
      "67/67 [==============================] - 519s 8s/step - loss: 0.9985 - categorical_accuracy: 0.5278 - val_loss: 1.4747 - val_categorical_accuracy: 0.3800\n",
      "\n",
      "Epoch 00002: saving model to model2d_2020-05-0415_51_27.088527/model-00002-1.28784-0.52778-1.47468-0.38000.h5\n",
      "Epoch 3/20\n",
      "67/67 [==============================] - 540s 8s/step - loss: 1.0808 - categorical_accuracy: 0.4989 - val_loss: 1.0700 - val_categorical_accuracy: 0.5600\n",
      "\n",
      "Epoch 00003: saving model to model2d_2020-05-0415_51_27.088527/model-00003-1.23607-0.49886-1.06995-0.56000.h5\n",
      "Epoch 4/20\n",
      "67/67 [==============================] - 510s 8s/step - loss: 0.8991 - categorical_accuracy: 0.5440 - val_loss: 1.4672 - val_categorical_accuracy: 0.3600\n",
      "\n",
      "Epoch 00004: saving model to model2d_2020-05-0415_51_27.088527/model-00004-1.16687-0.54398-1.46721-0.36000.h5\n",
      "Epoch 5/20\n",
      "67/67 [==============================] - 507s 8s/step - loss: 0.8803 - categorical_accuracy: 0.5672 - val_loss: 0.8125 - val_categorical_accuracy: 0.4600\n",
      "\n",
      "Epoch 00005: saving model to model2d_2020-05-0415_51_27.088527/model-00005-1.10116-0.56720-0.81248-0.46000.h5\n",
      "Epoch 6/20\n",
      "67/67 [==============================] - 468s 7s/step - loss: 0.7325 - categorical_accuracy: 0.6296 - val_loss: 1.5362 - val_categorical_accuracy: 0.3800\n",
      "\n",
      "Epoch 00006: saving model to model2d_2020-05-0415_51_27.088527/model-00006-0.96384-0.62963-1.53618-0.38000.h5\n",
      "Epoch 7/20\n",
      "67/67 [==============================] - 462s 7s/step - loss: 0.8036 - categorical_accuracy: 0.6241 - val_loss: 0.8716 - val_categorical_accuracy: 0.5000\n",
      "\n",
      "Epoch 00007: saving model to model2d_2020-05-0415_51_27.088527/model-00007-0.91313-0.62415-0.87156-0.50000.h5\n",
      "\n",
      "Epoch 00007: ReduceLROnPlateau reducing learning rate to 0.0005000000237487257.\n",
      "Epoch 8/20\n",
      "67/67 [==============================] - 452s 7s/step - loss: 0.6935 - categorical_accuracy: 0.6435 - val_loss: 1.1374 - val_categorical_accuracy: 0.4800\n",
      "\n",
      "Epoch 00008: saving model to model2d_2020-05-0415_51_27.088527/model-00008-0.83668-0.64352-1.13740-0.48000.h5\n",
      "Epoch 9/20\n",
      "67/67 [==============================] - 465s 7s/step - loss: 0.7827 - categorical_accuracy: 0.6310 - val_loss: 1.1113 - val_categorical_accuracy: 0.5400\n",
      "\n",
      "Epoch 00009: saving model to model2d_2020-05-0415_51_27.088527/model-00009-0.88110-0.63098-1.11125-0.54000.h5\n",
      "\n",
      "Epoch 00009: ReduceLROnPlateau reducing learning rate to 0.0002500000118743628.\n",
      "Epoch 10/20\n",
      "67/67 [==============================] - 456s 7s/step - loss: 0.6497 - categorical_accuracy: 0.7130 - val_loss: 0.6214 - val_categorical_accuracy: 0.7400\n",
      "\n",
      "Epoch 00010: saving model to model2d_2020-05-0415_51_27.088527/model-00010-0.74394-0.71296-0.62141-0.74000.h5\n",
      "Epoch 11/20\n",
      "67/67 [==============================] - 459s 7s/step - loss: 0.7317 - categorical_accuracy: 0.6606 - val_loss: 0.7449 - val_categorical_accuracy: 0.7000\n",
      "\n",
      "Epoch 00011: saving model to model2d_2020-05-0415_51_27.088527/model-00011-0.76693-0.66059-0.74489-0.70000.h5\n",
      "Epoch 12/20\n",
      "67/67 [==============================] - 451s 7s/step - loss: 0.6508 - categorical_accuracy: 0.7245 - val_loss: 0.7260 - val_categorical_accuracy: 0.6000\n",
      "\n",
      "Epoch 00012: saving model to model2d_2020-05-0415_51_27.088527/model-00012-0.71533-0.72454-0.72599-0.60000.h5\n",
      "\n",
      "Epoch 00012: ReduceLROnPlateau reducing learning rate to 0.0001250000059371814.\n",
      "Epoch 13/20\n",
      "67/67 [==============================] - 458s 7s/step - loss: 0.5338 - categorical_accuracy: 0.7608 - val_loss: 0.6475 - val_categorical_accuracy: 0.6400\n",
      "\n",
      "Epoch 00013: saving model to model2d_2020-05-0415_51_27.088527/model-00013-0.59547-0.76082-0.64747-0.64000.h5\n",
      "Epoch 14/20\n",
      "67/67 [==============================] - 452s 7s/step - loss: 0.5156 - categorical_accuracy: 0.7546 - val_loss: 0.9657 - val_categorical_accuracy: 0.4800\n",
      "\n",
      "Epoch 00014: saving model to model2d_2020-05-0415_51_27.088527/model-00014-0.61100-0.75463-0.96570-0.48000.h5\n",
      "\n",
      "Epoch 00014: ReduceLROnPlateau reducing learning rate to 6.25000029685907e-05.\n",
      "Epoch 15/20\n",
      "67/67 [==============================] - 459s 7s/step - loss: 0.4770 - categorical_accuracy: 0.7904 - val_loss: 0.7920 - val_categorical_accuracy: 0.6800\n",
      "\n",
      "Epoch 00015: saving model to model2d_2020-05-0415_51_27.088527/model-00015-0.54665-0.79043-0.79202-0.68000.h5\n",
      "Epoch 16/20\n",
      "67/67 [==============================] - 453s 7s/step - loss: 0.4950 - categorical_accuracy: 0.7870 - val_loss: 0.5774 - val_categorical_accuracy: 0.6400\n",
      "\n",
      "Epoch 00016: saving model to model2d_2020-05-0415_51_27.088527/model-00016-0.57198-0.78704-0.57739-0.64000.h5\n",
      "Epoch 17/20\n",
      "67/67 [==============================] - 458s 7s/step - loss: 0.4944 - categorical_accuracy: 0.7995 - val_loss: 0.8685 - val_categorical_accuracy: 0.6400\n",
      "\n",
      "Epoch 00017: saving model to model2d_2020-05-0415_51_27.088527/model-00017-0.57095-0.79954-0.86847-0.64000.h5\n",
      "Epoch 18/20\n",
      "67/67 [==============================] - 456s 7s/step - loss: 0.4975 - categorical_accuracy: 0.7940 - val_loss: 0.6298 - val_categorical_accuracy: 0.6800\n",
      "\n",
      "Epoch 00018: saving model to model2d_2020-05-0415_51_27.088527/model-00018-0.55052-0.79398-0.62985-0.68000.h5\n",
      "\n",
      "Epoch 00018: ReduceLROnPlateau reducing learning rate to 3.125000148429535e-05.\n",
      "Epoch 19/20\n",
      "67/67 [==============================] - 459s 7s/step - loss: 0.5578 - categorical_accuracy: 0.7403 - val_loss: 0.6008 - val_categorical_accuracy: 0.6600\n",
      "\n",
      "Epoch 00019: saving model to model2d_2020-05-0415_51_27.088527/model-00019-0.59647-0.74032-0.60077-0.66000.h5\n",
      "Epoch 20/20\n",
      "67/67 [==============================] - 453s 7s/step - loss: 0.4618 - categorical_accuracy: 0.7731 - val_loss: 1.1000 - val_categorical_accuracy: 0.6600\n",
      "\n",
      "Epoch 00020: saving model to model2d_2020-05-0415_51_27.088527/model-00020-0.53162-0.77315-1.10002-0.66000.h5\n",
      "\n",
      "Epoch 00020: ReduceLROnPlateau reducing learning rate to 1.5625000742147677e-05.\n"
     ]
    },
    {
     "data": {
      "text/plain": [
       "<keras.callbacks.callbacks.History at 0x1e337f25fd0>"
      ]
     },
     "execution_count": 140,
     "metadata": {},
     "output_type": "execute_result"
    }
   ],
   "source": [
    "model2d.fit_generator(train_generator, steps_per_epoch=steps_per_epoch, epochs=num_epochs, verbose=1, \n",
    "                    callbacks=callbacks_list, validation_data=val_generator, \n",
    "                    validation_steps=validation_steps, class_weight=None, workers=1, initial_epoch=0)"
   ]
  },
  {
   "cell_type": "code",
   "execution_count": null,
   "metadata": {},
   "outputs": [],
   "source": []
  }
 ],
 "metadata": {
  "kernelspec": {
   "display_name": "Python 3",
   "language": "python",
   "name": "python3"
  },
  "language_info": {
   "codemirror_mode": {
    "name": "ipython",
    "version": 3
   },
   "file_extension": ".py",
   "mimetype": "text/x-python",
   "name": "python",
   "nbconvert_exporter": "python",
   "pygments_lexer": "ipython3",
   "version": "3.7.3"
  }
 },
 "nbformat": 4,
 "nbformat_minor": 2
}
