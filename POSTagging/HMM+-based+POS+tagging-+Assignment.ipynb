{
 "cells": [
  {
   "cell_type": "markdown",
   "metadata": {},
   "source": [
    "## POS tagging using modified Viterbi"
   ]
  },
  {
   "cell_type": "markdown",
   "metadata": {},
   "source": [
    "### Data Preparation"
   ]
  },
  {
   "cell_type": "code",
   "execution_count": 1,
   "metadata": {},
   "outputs": [],
   "source": [
    "#Importing libraries\n",
    "import nltk\n",
    "import random\n",
    "import numpy as np\n",
    "import pandas as pd\n",
    "import matplotlib.pyplot as plt\n",
    "import seaborn as sns\n",
    "import pprint, time\n",
    "from sklearn.model_selection import train_test_split\n",
    "from nltk.tokenize import word_tokenize\n",
    "import codecs\n",
    "from collections import Counter"
   ]
  },
  {
   "cell_type": "code",
   "execution_count": 2,
   "metadata": {},
   "outputs": [],
   "source": [
    "# reading the Treebank tagged sentences\n",
    "nltk_data = list(nltk.corpus.treebank.tagged_sents(tagset='universal'))"
   ]
  },
  {
   "cell_type": "code",
   "execution_count": 3,
   "metadata": {},
   "outputs": [
    {
     "name": "stdout",
     "output_type": "stream",
     "text": [
      "[[('Pierre', 'NOUN'), ('Vinken', 'NOUN'), (',', '.'), ('61', 'NUM'), ('years', 'NOUN'), ('old', 'ADJ'), (',', '.'), ('will', 'VERB'), ('join', 'VERB'), ('the', 'DET'), ('board', 'NOUN'), ('as', 'ADP'), ('a', 'DET'), ('nonexecutive', 'ADJ'), ('director', 'NOUN'), ('Nov.', 'NOUN'), ('29', 'NUM'), ('.', '.')], [('Mr.', 'NOUN'), ('Vinken', 'NOUN'), ('is', 'VERB'), ('chairman', 'NOUN'), ('of', 'ADP'), ('Elsevier', 'NOUN'), ('N.V.', 'NOUN'), (',', '.'), ('the', 'DET'), ('Dutch', 'NOUN'), ('publishing', 'VERB'), ('group', 'NOUN'), ('.', '.')], [('Rudolph', 'NOUN'), ('Agnew', 'NOUN'), (',', '.'), ('55', 'NUM'), ('years', 'NOUN'), ('old', 'ADJ'), ('and', 'CONJ'), ('former', 'ADJ'), ('chairman', 'NOUN'), ('of', 'ADP'), ('Consolidated', 'NOUN'), ('Gold', 'NOUN'), ('Fields', 'NOUN'), ('PLC', 'NOUN'), (',', '.'), ('was', 'VERB'), ('named', 'VERB'), ('*-1', 'X'), ('a', 'DET'), ('nonexecutive', 'ADJ'), ('director', 'NOUN'), ('of', 'ADP'), ('this', 'DET'), ('British', 'ADJ'), ('industrial', 'ADJ'), ('conglomerate', 'NOUN'), ('.', '.')], [('A', 'DET'), ('form', 'NOUN'), ('of', 'ADP'), ('asbestos', 'NOUN'), ('once', 'ADV'), ('used', 'VERB'), ('*', 'X'), ('*', 'X'), ('to', 'PRT'), ('make', 'VERB'), ('Kent', 'NOUN'), ('cigarette', 'NOUN'), ('filters', 'NOUN'), ('has', 'VERB'), ('caused', 'VERB'), ('a', 'DET'), ('high', 'ADJ'), ('percentage', 'NOUN'), ('of', 'ADP'), ('cancer', 'NOUN'), ('deaths', 'NOUN'), ('among', 'ADP'), ('a', 'DET'), ('group', 'NOUN'), ('of', 'ADP'), ('workers', 'NOUN'), ('exposed', 'VERB'), ('*', 'X'), ('to', 'PRT'), ('it', 'PRON'), ('more', 'ADV'), ('than', 'ADP'), ('30', 'NUM'), ('years', 'NOUN'), ('ago', 'ADP'), (',', '.'), ('researchers', 'NOUN'), ('reported', 'VERB'), ('0', 'X'), ('*T*-1', 'X'), ('.', '.')], [('The', 'DET'), ('asbestos', 'NOUN'), ('fiber', 'NOUN'), (',', '.'), ('crocidolite', 'NOUN'), (',', '.'), ('is', 'VERB'), ('unusually', 'ADV'), ('resilient', 'ADJ'), ('once', 'ADP'), ('it', 'PRON'), ('enters', 'VERB'), ('the', 'DET'), ('lungs', 'NOUN'), (',', '.'), ('with', 'ADP'), ('even', 'ADV'), ('brief', 'ADJ'), ('exposures', 'NOUN'), ('to', 'PRT'), ('it', 'PRON'), ('causing', 'VERB'), ('symptoms', 'NOUN'), ('that', 'DET'), ('*T*-1', 'X'), ('show', 'VERB'), ('up', 'PRT'), ('decades', 'NOUN'), ('later', 'ADJ'), (',', '.'), ('researchers', 'NOUN'), ('said', 'VERB'), ('0', 'X'), ('*T*-2', 'X'), ('.', '.')]]\n"
     ]
    }
   ],
   "source": [
    "print(nltk_data[:5])"
   ]
  },
  {
   "cell_type": "code",
   "execution_count": 4,
   "metadata": {},
   "outputs": [
    {
     "name": "stdout",
     "output_type": "stream",
     "text": [
      "3914\n"
     ]
    }
   ],
   "source": [
    "print(len(nltk_data))"
   ]
  },
  {
   "cell_type": "code",
   "execution_count": 5,
   "metadata": {},
   "outputs": [
    {
     "name": "stdout",
     "output_type": "stream",
     "text": [
      "100676\n",
      "100676\n"
     ]
    }
   ],
   "source": [
    "nltk_data_words, nltk_data_tags = [], []\n",
    "nltk_data_words_set, nltk_data_tags_set = set(), set()\n",
    "for sent in nltk_data:\n",
    "    for tup in sent:\n",
    "        nltk_data_words.append(tup[0])\n",
    "        nltk_data_tags.append(tup[1])\n",
    "        nltk_data_words_set.add(tup[0])\n",
    "        nltk_data_tags_set.add(tup[1])\n",
    "print(len(nltk_data_words))\n",
    "print(len(nltk_data_tags))                           "
   ]
  },
  {
   "cell_type": "code",
   "execution_count": 6,
   "metadata": {},
   "outputs": [
    {
     "name": "stdout",
     "output_type": "stream",
     "text": [
      "12408\n",
      "12\n"
     ]
    }
   ],
   "source": [
    "print(len(nltk_data_words_set))\n",
    "print(len(nltk_data_tags_set))"
   ]
  },
  {
   "cell_type": "code",
   "execution_count": 7,
   "metadata": {},
   "outputs": [
    {
     "name": "stdout",
     "output_type": "stream",
     "text": [
      "{'X', 'PRT', 'DET', 'NOUN', 'ADV', '.', 'CONJ', 'VERB', 'ADJ', 'NUM', 'ADP', 'PRON'}\n"
     ]
    }
   ],
   "source": [
    "print(nltk_data_tags_set)"
   ]
  },
  {
   "cell_type": "code",
   "execution_count": 8,
   "metadata": {},
   "outputs": [],
   "source": [
    "# Splitting train and test as 95% and 5%\n",
    "random.seed(100)\n",
    "train_set, test_set = train_test_split(nltk_data,test_size=0.05)"
   ]
  },
  {
   "cell_type": "code",
   "execution_count": 9,
   "metadata": {},
   "outputs": [
    {
     "name": "stdout",
     "output_type": "stream",
     "text": [
      "3718\n",
      "196\n"
     ]
    }
   ],
   "source": [
    "print(len(train_set))\n",
    "print(len(test_set))"
   ]
  },
  {
   "cell_type": "code",
   "execution_count": 10,
   "metadata": {},
   "outputs": [
    {
     "data": {
      "text/plain": [
       "95722"
      ]
     },
     "execution_count": 10,
     "metadata": {},
     "output_type": "execute_result"
    }
   ],
   "source": [
    "# Obtaining list of tagged words\n",
    "train_tagged_words = [tup for sent in train_set for tup in sent]\n",
    "len(train_tagged_words)"
   ]
  },
  {
   "cell_type": "code",
   "execution_count": 11,
   "metadata": {},
   "outputs": [
    {
     "data": {
      "text/plain": [
       "['Sales',\n",
       " 'by',\n",
       " 'these',\n",
       " 'subsidiaries',\n",
       " 'in',\n",
       " 'the',\n",
       " 'fiscal',\n",
       " 'year',\n",
       " 'ending',\n",
       " 'last']"
      ]
     },
     "execution_count": 11,
     "metadata": {},
     "output_type": "execute_result"
    }
   ],
   "source": [
    "# tokens \n",
    "tokens = [pair[0] for pair in train_tagged_words]\n",
    "tokens[:10]"
   ]
  },
  {
   "cell_type": "code",
   "execution_count": 12,
   "metadata": {},
   "outputs": [
    {
     "name": "stdout",
     "output_type": "stream",
     "text": [
      "12079\n"
     ]
    }
   ],
   "source": [
    "# vocabulary\n",
    "V = set(tokens)\n",
    "print(len(V))"
   ]
  },
  {
   "cell_type": "code",
   "execution_count": 13,
   "metadata": {},
   "outputs": [
    {
     "data": {
      "text/plain": [
       "12"
      ]
     },
     "execution_count": 13,
     "metadata": {},
     "output_type": "execute_result"
    }
   ],
   "source": [
    "# number of tags\n",
    "T = set([pair[1] for pair in train_tagged_words])\n",
    "len(T)"
   ]
  },
  {
   "cell_type": "code",
   "execution_count": 14,
   "metadata": {},
   "outputs": [
    {
     "name": "stdout",
     "output_type": "stream",
     "text": [
      "{'X', 'PRT', 'DET', 'NOUN', 'ADV', '.', 'CONJ', 'VERB', 'ADJ', 'NUM', 'ADP', 'PRON'}\n"
     ]
    }
   ],
   "source": [
    "print(T)"
   ]
  },
  {
   "cell_type": "markdown",
   "metadata": {},
   "source": [
    "### Emission Probabilities"
   ]
  },
  {
   "cell_type": "code",
   "execution_count": 15,
   "metadata": {},
   "outputs": [],
   "source": [
    "# computing P(w/t) and storing in T x V matrix\n",
    "t = len(T)\n",
    "v = len(V)\n",
    "w_given_t = np.zeros((t, v))\n",
    "\n",
    "# compute word given tag: Emission Probability\n",
    "def word_given_tag(word, tag, train_bag = train_tagged_words):\n",
    "    tag_list = [pair for pair in train_bag if pair[1]==tag]\n",
    "    count_tag = len(tag_list)\n",
    "    w_given_tag_list = [pair[0] for pair in tag_list if pair[0]==word]\n",
    "    count_w_given_tag = len(w_given_tag_list)\n",
    "    \n",
    "    return (count_w_given_tag, count_tag)"
   ]
  },
  {
   "cell_type": "markdown",
   "metadata": {},
   "source": [
    "### Transition Probabilities"
   ]
  },
  {
   "cell_type": "code",
   "execution_count": 16,
   "metadata": {},
   "outputs": [],
   "source": [
    "# compute tag given tag: tag2(t2) given tag1 (t1), i.e. Transition Probability\n",
    "\n",
    "def t2_given_t1(t2, t1, train_bag = train_tagged_words):\n",
    "    tags = [pair[1] for pair in train_bag]\n",
    "    count_t1 = len([t for t in tags if t==t1])\n",
    "    count_t2_t1 = 0\n",
    "    for index in range(len(tags)-1):\n",
    "        if tags[index]==t1 and tags[index+1] == t2:\n",
    "            count_t2_t1 += 1\n",
    "    return (count_t2_t1, count_t1)\n",
    "\n",
    "# creating t x t transition matrix of tags\n",
    "# each column is t2, each row is t1\n",
    "# thus M(i, j) represents P(tj given ti)\n",
    "\n",
    "tags_matrix = np.zeros((len(T), len(T)), dtype='float32')\n",
    "for i, t1 in enumerate(list(T)):\n",
    "    for j, t2 in enumerate(list(T)): \n",
    "        tags_matrix[i, j] = t2_given_t1(t2, t1)[0]/t2_given_t1(t2, t1)[1]\n",
    "\n",
    "# convert the matrix to a df for better readability\n",
    "tags_df = pd.DataFrame(tags_matrix, columns = list(T), index=list(T))"
   ]
  },
  {
   "cell_type": "code",
   "execution_count": 17,
   "metadata": {},
   "outputs": [
    {
     "data": {
      "text/html": [
       "<div>\n",
       "<style scoped>\n",
       "    .dataframe tbody tr th:only-of-type {\n",
       "        vertical-align: middle;\n",
       "    }\n",
       "\n",
       "    .dataframe tbody tr th {\n",
       "        vertical-align: top;\n",
       "    }\n",
       "\n",
       "    .dataframe thead th {\n",
       "        text-align: right;\n",
       "    }\n",
       "</style>\n",
       "<table border=\"1\" class=\"dataframe\">\n",
       "  <thead>\n",
       "    <tr style=\"text-align: right;\">\n",
       "      <th></th>\n",
       "      <th>X</th>\n",
       "      <th>PRT</th>\n",
       "      <th>DET</th>\n",
       "      <th>NOUN</th>\n",
       "      <th>ADV</th>\n",
       "      <th>.</th>\n",
       "      <th>CONJ</th>\n",
       "      <th>VERB</th>\n",
       "      <th>ADJ</th>\n",
       "      <th>NUM</th>\n",
       "      <th>ADP</th>\n",
       "      <th>PRON</th>\n",
       "    </tr>\n",
       "  </thead>\n",
       "  <tbody>\n",
       "    <tr>\n",
       "      <th>X</th>\n",
       "      <td>0.074492</td>\n",
       "      <td>0.186785</td>\n",
       "      <td>0.054797</td>\n",
       "      <td>0.061468</td>\n",
       "      <td>0.025413</td>\n",
       "      <td>0.164390</td>\n",
       "      <td>0.010483</td>\n",
       "      <td>0.203621</td>\n",
       "      <td>0.017471</td>\n",
       "      <td>0.002859</td>\n",
       "      <td>0.141995</td>\n",
       "      <td>0.056226</td>\n",
       "    </tr>\n",
       "    <tr>\n",
       "      <th>PRT</th>\n",
       "      <td>0.012638</td>\n",
       "      <td>0.001944</td>\n",
       "      <td>0.101102</td>\n",
       "      <td>0.244005</td>\n",
       "      <td>0.010045</td>\n",
       "      <td>0.043746</td>\n",
       "      <td>0.002268</td>\n",
       "      <td>0.403435</td>\n",
       "      <td>0.085224</td>\n",
       "      <td>0.058004</td>\n",
       "      <td>0.019443</td>\n",
       "      <td>0.018146</td>\n",
       "    </tr>\n",
       "    <tr>\n",
       "      <th>DET</th>\n",
       "      <td>0.045394</td>\n",
       "      <td>0.000241</td>\n",
       "      <td>0.005554</td>\n",
       "      <td>0.638295</td>\n",
       "      <td>0.012677</td>\n",
       "      <td>0.017626</td>\n",
       "      <td>0.000483</td>\n",
       "      <td>0.039961</td>\n",
       "      <td>0.204153</td>\n",
       "      <td>0.022456</td>\n",
       "      <td>0.009538</td>\n",
       "      <td>0.003622</td>\n",
       "    </tr>\n",
       "    <tr>\n",
       "      <th>NOUN</th>\n",
       "      <td>0.029225</td>\n",
       "      <td>0.044129</td>\n",
       "      <td>0.013046</td>\n",
       "      <td>0.264412</td>\n",
       "      <td>0.016908</td>\n",
       "      <td>0.239378</td>\n",
       "      <td>0.042745</td>\n",
       "      <td>0.146892</td>\n",
       "      <td>0.012098</td>\n",
       "      <td>0.009475</td>\n",
       "      <td>0.177064</td>\n",
       "      <td>0.004628</td>\n",
       "    </tr>\n",
       "    <tr>\n",
       "      <th>ADV</th>\n",
       "      <td>0.023333</td>\n",
       "      <td>0.014000</td>\n",
       "      <td>0.068667</td>\n",
       "      <td>0.031667</td>\n",
       "      <td>0.078000</td>\n",
       "      <td>0.136667</td>\n",
       "      <td>0.006667</td>\n",
       "      <td>0.344667</td>\n",
       "      <td>0.129333</td>\n",
       "      <td>0.031667</td>\n",
       "      <td>0.119667</td>\n",
       "      <td>0.015667</td>\n",
       "    </tr>\n",
       "    <tr>\n",
       "      <th>.</th>\n",
       "      <td>0.026811</td>\n",
       "      <td>0.002429</td>\n",
       "      <td>0.172919</td>\n",
       "      <td>0.223032</td>\n",
       "      <td>0.052722</td>\n",
       "      <td>0.093207</td>\n",
       "      <td>0.058030</td>\n",
       "      <td>0.087719</td>\n",
       "      <td>0.043365</td>\n",
       "      <td>0.081152</td>\n",
       "      <td>0.092398</td>\n",
       "      <td>0.066127</td>\n",
       "    </tr>\n",
       "    <tr>\n",
       "      <th>CONJ</th>\n",
       "      <td>0.008821</td>\n",
       "      <td>0.005107</td>\n",
       "      <td>0.118384</td>\n",
       "      <td>0.355153</td>\n",
       "      <td>0.053389</td>\n",
       "      <td>0.033890</td>\n",
       "      <td>0.000464</td>\n",
       "      <td>0.155525</td>\n",
       "      <td>0.116063</td>\n",
       "      <td>0.040854</td>\n",
       "      <td>0.052461</td>\n",
       "      <td>0.059889</td>\n",
       "    </tr>\n",
       "    <tr>\n",
       "      <th>VERB</th>\n",
       "      <td>0.218372</td>\n",
       "      <td>0.031318</td>\n",
       "      <td>0.134574</td>\n",
       "      <td>0.109767</td>\n",
       "      <td>0.081550</td>\n",
       "      <td>0.034729</td>\n",
       "      <td>0.005426</td>\n",
       "      <td>0.169380</td>\n",
       "      <td>0.065736</td>\n",
       "      <td>0.022946</td>\n",
       "      <td>0.090543</td>\n",
       "      <td>0.035659</td>\n",
       "    </tr>\n",
       "    <tr>\n",
       "      <th>ADJ</th>\n",
       "      <td>0.021438</td>\n",
       "      <td>0.011049</td>\n",
       "      <td>0.005112</td>\n",
       "      <td>0.699538</td>\n",
       "      <td>0.004617</td>\n",
       "      <td>0.063489</td>\n",
       "      <td>0.016821</td>\n",
       "      <td>0.011873</td>\n",
       "      <td>0.065963</td>\n",
       "      <td>0.020943</td>\n",
       "      <td>0.078661</td>\n",
       "      <td>0.000495</td>\n",
       "    </tr>\n",
       "    <tr>\n",
       "      <th>NUM</th>\n",
       "      <td>0.209968</td>\n",
       "      <td>0.027426</td>\n",
       "      <td>0.003244</td>\n",
       "      <td>0.352993</td>\n",
       "      <td>0.002949</td>\n",
       "      <td>0.117370</td>\n",
       "      <td>0.013270</td>\n",
       "      <td>0.018284</td>\n",
       "      <td>0.032439</td>\n",
       "      <td>0.184901</td>\n",
       "      <td>0.035683</td>\n",
       "      <td>0.001474</td>\n",
       "    </tr>\n",
       "    <tr>\n",
       "      <th>ADP</th>\n",
       "      <td>0.034762</td>\n",
       "      <td>0.001493</td>\n",
       "      <td>0.323843</td>\n",
       "      <td>0.321710</td>\n",
       "      <td>0.013329</td>\n",
       "      <td>0.039667</td>\n",
       "      <td>0.000853</td>\n",
       "      <td>0.008211</td>\n",
       "      <td>0.106633</td>\n",
       "      <td>0.063446</td>\n",
       "      <td>0.017061</td>\n",
       "      <td>0.068991</td>\n",
       "    </tr>\n",
       "    <tr>\n",
       "      <th>PRON</th>\n",
       "      <td>0.091083</td>\n",
       "      <td>0.012629</td>\n",
       "      <td>0.009185</td>\n",
       "      <td>0.209338</td>\n",
       "      <td>0.034443</td>\n",
       "      <td>0.041332</td>\n",
       "      <td>0.004975</td>\n",
       "      <td>0.486414</td>\n",
       "      <td>0.072713</td>\n",
       "      <td>0.006889</td>\n",
       "      <td>0.023345</td>\n",
       "      <td>0.007654</td>\n",
       "    </tr>\n",
       "  </tbody>\n",
       "</table>\n",
       "</div>"
      ],
      "text/plain": [
       "             X       PRT       DET      NOUN       ADV         .      CONJ  \\\n",
       "X     0.074492  0.186785  0.054797  0.061468  0.025413  0.164390  0.010483   \n",
       "PRT   0.012638  0.001944  0.101102  0.244005  0.010045  0.043746  0.002268   \n",
       "DET   0.045394  0.000241  0.005554  0.638295  0.012677  0.017626  0.000483   \n",
       "NOUN  0.029225  0.044129  0.013046  0.264412  0.016908  0.239378  0.042745   \n",
       "ADV   0.023333  0.014000  0.068667  0.031667  0.078000  0.136667  0.006667   \n",
       ".     0.026811  0.002429  0.172919  0.223032  0.052722  0.093207  0.058030   \n",
       "CONJ  0.008821  0.005107  0.118384  0.355153  0.053389  0.033890  0.000464   \n",
       "VERB  0.218372  0.031318  0.134574  0.109767  0.081550  0.034729  0.005426   \n",
       "ADJ   0.021438  0.011049  0.005112  0.699538  0.004617  0.063489  0.016821   \n",
       "NUM   0.209968  0.027426  0.003244  0.352993  0.002949  0.117370  0.013270   \n",
       "ADP   0.034762  0.001493  0.323843  0.321710  0.013329  0.039667  0.000853   \n",
       "PRON  0.091083  0.012629  0.009185  0.209338  0.034443  0.041332  0.004975   \n",
       "\n",
       "          VERB       ADJ       NUM       ADP      PRON  \n",
       "X     0.203621  0.017471  0.002859  0.141995  0.056226  \n",
       "PRT   0.403435  0.085224  0.058004  0.019443  0.018146  \n",
       "DET   0.039961  0.204153  0.022456  0.009538  0.003622  \n",
       "NOUN  0.146892  0.012098  0.009475  0.177064  0.004628  \n",
       "ADV   0.344667  0.129333  0.031667  0.119667  0.015667  \n",
       ".     0.087719  0.043365  0.081152  0.092398  0.066127  \n",
       "CONJ  0.155525  0.116063  0.040854  0.052461  0.059889  \n",
       "VERB  0.169380  0.065736  0.022946  0.090543  0.035659  \n",
       "ADJ   0.011873  0.065963  0.020943  0.078661  0.000495  \n",
       "NUM   0.018284  0.032439  0.184901  0.035683  0.001474  \n",
       "ADP   0.008211  0.106633  0.063446  0.017061  0.068991  \n",
       "PRON  0.486414  0.072713  0.006889  0.023345  0.007654  "
      ]
     },
     "execution_count": 17,
     "metadata": {},
     "output_type": "execute_result"
    }
   ],
   "source": [
    "tags_df"
   ]
  },
  {
   "cell_type": "code",
   "execution_count": 18,
   "metadata": {},
   "outputs": [
    {
     "data": {
      "image/png": "[encoded data removed]",
      "text/plain": [
       "<Figure size 1296x864 with 2 Axes>"
      ]
     },
     "metadata": {
      "needs_background": "light"
     },
     "output_type": "display_data"
    }
   ],
   "source": [
    "# heatmap of tags matrix\n",
    "# T(i, j) means P(tag j given tag i)\n",
    "plt.figure(figsize=(18, 12))\n",
    "sns.heatmap(tags_df)\n",
    "plt.show()"
   ]
  },
  {
   "cell_type": "code",
   "execution_count": 19,
   "metadata": {},
   "outputs": [
    {
     "data": {
      "image/png": "[encoded data removed]",
      "text/plain": [
       "<Figure size 1296x864 with 2 Axes>"
      ]
     },
     "metadata": {
      "needs_background": "light"
     },
     "output_type": "display_data"
    }
   ],
   "source": [
    "# frequent tags\n",
    "# filter the df to get P(t2, t1) > 0.5\n",
    "tags_frequent = tags_df[tags_df>0.5]\n",
    "plt.figure(figsize=(18, 12))\n",
    "sns.heatmap(tags_frequent)\n",
    "plt.show()"
   ]
  },
  {
   "cell_type": "markdown",
   "metadata": {},
   "source": [
    "### Build the vanilla Viterbi based POS tagger"
   ]
  },
  {
   "cell_type": "code",
   "execution_count": 20,
   "metadata": {},
   "outputs": [],
   "source": [
    "# Viterbi Heuristic\n",
    "def Viterbi(words, train_bag = train_tagged_words):\n",
    "    state = []\n",
    "    T = list(set([pair[1] for pair in train_bag]))\n",
    "    \n",
    "    for key, word in enumerate(words):\n",
    "        #initialise list of probability column for a given observation\n",
    "        p = [] \n",
    "        for tag in T:\n",
    "            if key == 0:\n",
    "                transition_p = tags_df.loc['.', tag]\n",
    "            else:\n",
    "                transition_p = tags_df.loc[state[-1], tag]\n",
    "                \n",
    "            # compute emission and state probabilities\n",
    "            emission_p = word_given_tag(words[key], tag)[0]/word_given_tag(words[key], tag)[1]\n",
    "            state_probability = emission_p * transition_p    \n",
    "            p.append(state_probability)\n",
    "            \n",
    "        pmax = max(p)\n",
    "        # Obtaining state for which probability is maximum\n",
    "        state_max = T[p.index(pmax)] \n",
    "        state.append(state_max)\n",
    "    return list(zip(words, state))\n"
   ]
  },
  {
   "cell_type": "markdown",
   "metadata": {},
   "source": [
    "### Test Evaluation"
   ]
  },
  {
   "cell_type": "code",
   "execution_count": 21,
   "metadata": {},
   "outputs": [],
   "source": [
    "# list of tagged words\n",
    "test_run_base = [tup for sent in test_set for tup in sent]\n",
    "\n",
    "# list of untagged words\n",
    "test_tagged_words = [tup[0] for sent in test_set for tup in sent]"
   ]
  },
  {
   "cell_type": "code",
   "execution_count": 22,
   "metadata": {},
   "outputs": [],
   "source": [
    "# tagging the test sentences\n",
    "start = time.time()\n",
    "tagged_seq = Viterbi(test_tagged_words)\n",
    "end = time.time()\n",
    "difference = end-start"
   ]
  },
  {
   "cell_type": "code",
   "execution_count": 23,
   "metadata": {},
   "outputs": [
    {
     "name": "stdout",
     "output_type": "stream",
     "text": [
      "Time taken in seconds:  703.2087814807892\n",
      "[('The', 'DET'), ('October', 'NOUN'), ('survey', 'NOUN'), ('of', 'ADP'), ('corporate', 'ADJ'), ('purchasing', 'NOUN'), ('managers', 'NOUN'), (',', '.'), ('as', 'ADP'), ('*', 'X'), ('expected', 'VERB'), (',', '.'), ('provided', 'VERB'), ('evidence', 'NOUN'), ('that', 'ADP'), ('economic', 'ADJ'), ('growth', 'NOUN'), ('remains', 'VERB'), ('subdued', 'VERB'), ('.', '.'), ('Municipal', 'NOUN'), ('bonds', 'NOUN'), ('were', 'VERB'), ('mostly', 'ADV'), ('unchanged', 'ADJ'), ('to', 'PRT'), ('up', 'ADV'), ('1\\\\/8', 'NUM'), ('point', 'NOUN'), ('in', 'ADP'), ('light', 'ADJ'), (',', '.'), ('cautious', 'ADJ'), ('trading', 'NOUN'), ('prior', 'ADV'), ('to', 'PRT'), ('tomorrow', 'NOUN'), (\"'s\", 'PRT'), ('unemployment', 'NOUN'), ('report', 'NOUN'), ('.', '.'), ('In', 'ADP'), ('addition', 'NOUN'), (',', '.'), ('the', 'DET'), ('company', 'NOUN'), ('has', 'VERB'), ('replaced', 'VERB'), ('its', 'PRON'), ('president', 'NOUN'), ('and', 'CONJ'), ('chief', 'NOUN'), ('executive', 'NOUN'), (',', '.'), ('*-1', 'X'), ('naming', 'VERB'), ('W.', 'NOUN'), ('James', 'NOUN'), ('Nichol', 'NOUN'), (',', '.'), ('head', 'NOUN'), ('of', 'ADP'), ('the', 'DET'), ('company', 'NOUN'), (\"'s\", 'PRT'), ('contract', 'NOUN'), ('health', 'NOUN'), ('services', 'NOUN'), (',', '.'), ('to', 'PRT'), ('succeed', 'VERB'), ('B.', 'NOUN'), ('Lee', 'NOUN'), ('Karns', 'NOUN'), ('.', '.'), ('The', 'DET'), ('Japanese', 'ADJ'), ('companies', 'NOUN'), ('bankroll', 'X'), ('many', 'ADJ'), ('small', 'ADJ'), ('U.S.', 'NOUN'), ('companies', 'NOUN'), ('with', 'ADP'), ('promising', 'X'), ('products', 'NOUN'), ('or', 'CONJ'), ('ideas', 'NOUN'), (',', '.'), ('*-1', 'X'), ('frequently', 'ADV'), ('putting', 'VERB'), ('their', 'PRON'), ('money', 'NOUN'), ('behind', 'ADP'), ('projects', 'NOUN'), ('that', 'ADP'), ('commercial', 'ADJ'), ('banks', 'NOUN'), ('wo', 'VERB'), (\"n't\", 'ADV'), ('touch', 'VERB'), ('*T*-191', 'X'), ('.', '.'), ('The', 'DET'), ('senior', 'ADJ'), ('of', 'ADP'), ('the', 'DET'), ('three', 'NUM'), ('executives', 'NOUN'), ('who', 'PRON'), ('*T*-1', 'X'), ('will', 'VERB'), ('assume', 'VERB'), ('Mr.', 'NOUN'), ('Reupke', 'NOUN'), (\"'s\", 'PRT'), ('duties', 'NOUN'), ('is', 'VERB'), ('Nigel', 'X'), ('Judah', 'X'), (',', '.'), ('58', 'NUM'), (',', '.'), ('finance', 'NOUN'), ('director', 'NOUN'), ('and', 'CONJ'), ('a', 'DET'), ('Reuters', 'NOUN'), ('board', 'NOUN'), ('director', 'NOUN'), ('.', '.'), ('ORTEGA', 'X'), ('ENDED', 'X'), ('a', 'DET'), ('truce', 'NOUN'), ('with', 'ADP'), ('the', 'DET'), ('Contras', 'NOUN'), ('and', 'CONJ'), ('said', 'VERB'), ('0', 'X'), ('elections', 'NOUN'), ('were', 'VERB'), ('threatened', 'VERB'), ('*-1', 'X'), ('.', '.'), ('As', 'ADP'), ('banks', 'NOUN'), (\"'\", 'PRT'), ('earnings', 'NOUN'), ('were', 'VERB'), ('squeezed', 'VERB'), ('*-122', 'X'), ('in', 'ADP'), ('the', 'DET'), ('mid-1970s', 'X'), (',', '.'), ('the', 'DET'), ('emphasis', 'NOUN'), ('switched', 'VERB'), ('to', 'PRT'), ('*', 'X'), ('finding', 'VERB'), ('ways', 'NOUN'), ('0', 'X'), ('*', 'X'), ('to', 'PRT'), ('cut', 'VERB'), ('costs', 'NOUN'), ('*T*-1', 'X'), ('.', '.'), ('In', 'ADP'), ('October', 'NOUN'), ('1988', 'NUM'), (',', '.'), ('3.7', 'NUM'), ('%', 'NOUN'), ('said', 'VERB'), ('0', 'X'), ('they', 'PRON'), ('would', 'VERB'), ('buy', 'VERB'), ('a', 'DET'), ('house', 'NOUN'), ('.', '.'), ('Mortgage', 'NOUN'), ('securities', 'NOUN'), ('ended', 'VERB'), ('slightly', 'ADV'), ('higher', 'ADJ'), ('but', 'CONJ'), ('trailed', 'VERB'), ('gains', 'NOUN'), ('in', 'ADP'), ('the', 'DET'), ('Treasury', 'NOUN'), ('market', 'NOUN'), ('.', '.'), ('Mr.', 'NOUN'), ('Stearn', 'NOUN'), (',', '.'), ('who', 'PRON'), ('*T*-196', 'X'), ('had', 'VERB'), ('been', 'VERB'), ('with', 'ADP'), ('the', 'DET'), ('company', 'NOUN'), ('more', 'ADV'), ('than', 'ADP'), ('20', 'NUM'), ('years', 'NOUN'), ('and', 'CONJ'), ('had', 'VERB'), ('been', 'VERB'), ('president', 'NOUN'), ('since', 'ADP'), ('1984', 'NUM'), (',', '.'), ('will', 'VERB'), ('act', 'VERB'), ('as', 'ADP'), ('a', 'DET'), ('consultant', 'NOUN'), ('to', 'PRT'), ('Hudson', 'NOUN'), ('General', 'NOUN'), ('.', '.'), ('Mr.', 'NOUN'), ('Simmons', 'NOUN'), ('and', 'CONJ'), ('NL', 'NOUN'), ('already', 'ADV'), ('own', 'ADJ'), ('a', 'DET'), ('9.9', 'NUM'), ('%', 'NOUN'), ('stake', 'NOUN'), ('in', 'ADP'), ('Georgia', 'NOUN'), ('Gulf', 'NOUN'), ('.', '.'), ('Shortly', 'X'), ('afterwards', 'X'), (',', '.'), ('Mr.', 'NOUN'), ('Bush', 'NOUN'), ('imposed', 'VERB'), ('a', 'DET'), ('series', 'NOUN'), ('of', 'ADP'), ('anti-China', 'X'), ('sanctions', 'VERB'), (',', '.'), ('including', 'VERB'), ('suspension', 'NOUN'), ('of', 'ADP'), ('most', 'ADJ'), ('high-level', 'X'), ('talks', 'NOUN'), (',', '.'), ('which', 'DET'), ('*T*-1', 'X'), ('could', 'VERB'), ('be', 'VERB'), ('codified', 'X'), ('*-147', 'X'), ('in', 'ADP'), ('U.S.', 'NOUN'), ('congressional', 'ADJ'), ('legislation', 'NOUN'), ('in', 'ADP'), ('the', 'DET'), ('coming', 'VERB'), ('weeks', 'NOUN'), ('.', '.'), ('Most', 'ADJ'), ('contracts', 'NOUN'), ('are', 'VERB'), ('simply', 'ADV'), ('nullified', 'X'), ('*-1', 'X'), ('by', 'ADP'), ('an', 'DET'), ('opposite', 'X'), ('trade', 'VERB'), ('before', 'ADP'), ('they', 'PRON'), ('come', 'VERB'), ('due', 'ADJ'), ('.', '.'), ('Its', 'PRON'), ('backers', 'NOUN'), ('fielded', 'X'), ('every', 'DET'), ('important', 'ADJ'), ('interest', 'NOUN'), ('on', 'ADP'), ('their', 'PRON'), ('team', 'NOUN'), ('--', '.'), ('a', 'DET'), ('popular', 'ADJ'), ('mayor', 'NOUN'), (',', '.'), ('the', 'DET'), ('Chamber', 'NOUN'), ('of', 'ADP'), ('Commerce', 'NOUN'), (',', '.'), ('the', 'DET'), ('major', 'ADJ'), ('media', 'NOUN'), ('--', '.'), ('and', 'CONJ'), ('spent', 'VERB'), ('$', '.'), ('100,000', 'NUM'), ('*U*', 'X'), ('on', 'ADP'), ('promotion', 'NOUN'), ('.', '.'), ('Dealers', 'NOUN'), ('led', 'VERB'), ('the', 'DET'), ('market', 'NOUN'), ('Wednesday', 'NOUN'), ('by', 'ADP'), ('*-1', 'X'), ('actively', 'ADV'), ('trading', 'VERB'), ('for', 'ADP'), ('their', 'PRON'), ('own', 'ADJ'), ('accounts', 'NOUN'), (',', '.'), ('observers', 'NOUN'), ('said', 'VERB'), ('0', 'X'), ('*T*-2', 'X'), ('.', '.'), ('Nissan', 'NOUN'), ('cited', 'VERB'), ('strong', 'ADJ'), ('domestic', 'ADJ'), ('sales', 'NOUN'), ('against', 'ADP'), ('the', 'DET'), ('backdrop', 'X'), ('of', 'ADP'), ('continuous', 'X'), ('economic', 'ADJ'), ('expansion', 'NOUN'), ('.', '.'), ('Mr.', 'NOUN'), ('Courter', 'NOUN'), (\"'s\", 'PRT'), ('long', 'ADJ'), ('nose', 'NOUN'), ('shrinks', 'VERB'), ('while', 'ADP'), ('Mr.', 'NOUN'), ('Florio', 'NOUN'), (\"'s\", 'PRT'), ('grows', 'VERB'), ('.', '.'), ('If', 'ADP'), ('the', 'DET'), ('Japanese', 'ADJ'), ('companies', 'NOUN'), ('are', 'VERB'), ('seriously', 'ADV'), ('considering', 'VERB'), ('their', 'PRON'), ('survival', 'NOUN'), (',', '.'), ('they', 'PRON'), ('could', 'VERB'), ('do', 'VERB'), ('at', 'ADP'), ('least', 'ADJ'), ('three', 'NUM'), ('things', 'NOUN'), ('*ICH*-2', 'X'), ('*-1', 'X'), ('to', 'PRT'), ('improve', 'VERB'), ('the', 'DET'), ('situation', 'NOUN'), (':', '.'), ('raise', 'VERB'), ('salaries', 'X'), ('higher', 'ADJ'), ('than', 'ADP'), ('those', 'DET'), ('of', 'ADP'), ('financial', 'ADJ'), ('institutions', 'NOUN'), (';', '.'), ('improve', 'VERB'), ('working', 'VERB'), ('conditions', 'NOUN'), ('-LRB-', '.'), ('better', 'ADV'), ('offices', 'NOUN'), ('and', 'CONJ'), ('more', 'ADJ'), ('vacations', 'NOUN'), (',', '.'), ('for', 'ADP'), ('example', 'NOUN'), ('-RRB-', '.'), (';', '.'), ('accept', 'VERB'), ('and', 'CONJ'), ('hire', 'VERB'), ('more', 'ADV'), ('labor', 'NOUN'), ('from', 'ADP'), ('outside', 'ADJ'), ('Japan', 'NOUN'), ('.', '.'), ('Carnival', 'NOUN'), ('Cruise', 'NOUN'), ('Lines', 'NOUN'), ('Inc.', 'NOUN'), ('said', 'VERB'), ('0', 'X'), ('potential', 'ADJ'), ('problems', 'NOUN'), ('with', 'ADP'), ('the', 'DET'), ('construction', 'NOUN'), ('of', 'ADP'), ('two', 'NUM'), ('big', 'ADJ'), ('cruise', 'NOUN'), ('ships', 'NOUN'), ('from', 'ADP'), ('Finland', 'NOUN'), ('have', 'VERB'), ('been', 'VERB'), ('averted', 'X'), ('*-1', 'X'), ('.', '.'), ('Mr.', 'NOUN'), ('Steinberg', 'NOUN'), (',', '.'), ('he', 'PRON'), ('suggested', 'VERB'), ('0', 'X'), ('*T*-2', 'X'), (',', '.'), ('could', 'VERB'), ('replace', 'VERB'), ('British', 'ADJ'), ('Airways', 'X'), ('PLC', 'NOUN'), (',', '.'), ('which', 'DET'), ('*T*-1', 'X'), ('has', 'VERB'), ('withdrawn', 'VERB'), ('from', 'ADP'), ('the', 'DET'), ('buy-out', 'NOUN'), ('group', 'NOUN'), ('.', '.'), ('Moreover', 'ADV'), (',', '.'), ('the', 'DET'), ('electorate', 'X'), ('would', 'VERB'), ('have', 'VERB'), ('received', 'VERB'), ('a', 'DET'), ('valuable', 'X'), ('civics', 'X'), ('lesson', 'NOUN'), ('in', 'ADP'), ('how', 'ADV'), ('the', 'DET'), ('separation', 'NOUN'), ('of', 'ADP'), ('powers', 'NOUN'), ('works', 'NOUN'), ('in', 'ADP'), ('practice', 'NOUN'), ('*T*-1', 'X'), ('.', '.'), ('Intelogic', 'NOUN'), ('Trace', 'X'), ('Inc.', 'NOUN'), (',', '.'), ('San', 'NOUN'), ('Antonio', 'NOUN'), (',', '.'), ('Texas', 'NOUN'), (',', '.'), ('said', 'VERB'), ('0', 'X'), ('it', 'PRON'), ('bought', 'VERB'), ('2.7', 'NUM'), ('million', 'NUM'), ('shares', 'NOUN'), ('*RNR*-1', 'X'), (',', '.'), ('or', 'CONJ'), ('about', 'ADP'), ('18', 'NUM'), ('%', 'NOUN'), ('*RNR*-1', 'X'), (',', '.'), ('of', 'ADP'), ('its', 'PRON'), ('common', 'ADJ'), ('stock', 'NOUN'), ('from', 'ADP'), ('an', 'DET'), ('unaffiliated', 'X'), ('shareholder', 'NOUN'), ('for', 'ADP'), ('$', '.'), ('3.625', 'X'), ('*U*', 'X'), ('a', 'DET'), ('share', 'NOUN'), (',', '.'), ('or', 'CONJ'), ('$', '.'), ('9.9', 'NUM'), ('million', 'NUM'), ('*U*', 'X'), ('.', '.'), ('``', '.'), ('But', 'CONJ'), ('you', 'PRON'), ('have', 'VERB'), ('*-1', 'X'), ('to', 'PRT'), ('recognize', 'VERB'), ('that', 'ADP'), ('these', 'DET'), ('events', 'NOUN'), ('took', 'VERB'), ('place', 'NOUN'), ('35', 'NUM'), ('years', 'NOUN'), ('ago', 'ADP'), ('.', '.'), ('The', 'DET'), ('nonprofit', 'ADJ'), (',', '.'), ('industry-supported', 'X'), ('group', 'NOUN'), ('said', 'VERB'), ('0', 'X'), ('its', 'PRON'), ('Consumer', 'NOUN'), ('Confidence', 'X'), ('Index', 'NOUN'), ('was', 'VERB'), ('116.4', 'X'), ('in', 'ADP'), ('October', 'NOUN'), (',', '.'), ('*-1', 'X'), ('barely', 'X'), ('changed', 'VERB'), ('*-2', 'X'), ('from', 'ADP'), ('a', 'DET'), ('revised', 'X'), ('116.3', 'X'), ('in', 'ADP'), ('September', 'NOUN'), ('.', '.'), ('Market', 'NOUN'), ('professionals', 'NOUN'), ('said', 'VERB'), ('0', 'X'), ('London', 'NOUN'), ('has', 'VERB'), ('several', 'ADJ'), ('attractions', 'NOUN'), ('.', '.'), ('And', 'CONJ'), ('because', 'ADP'), ('of', 'ADP'), ('the', 'DET'), ('time', 'NOUN'), ('difference', 'NOUN'), (',', '.'), ('the', 'DET'), ('Japanese', 'ADJ'), ('*RNR*-1', 'X'), ('and', 'CONJ'), ('the', 'DET'), ('U.S.', 'NOUN'), ('*RNR*-1', 'X'), ('markets', 'NOUN'), (\"'\", 'PRT'), ('trading', 'NOUN'), ('hours', 'NOUN'), ('do', 'VERB'), (\"n't\", 'ADV'), ('overlap', 'X'), ('.', '.'), ('Columbia', 'NOUN'), ('has', 'VERB'), ('only', 'ADV'), ('about', 'ADP'), ('10', 'NUM'), ('million', 'NUM'), ('common', 'ADJ'), ('shares', 'NOUN'), ('in', 'ADP'), ('public', 'ADJ'), ('hands', 'NOUN'), ('.', '.'), ('Vicar', 'NOUN'), ('Marshall', 'NOUN'), ('admits', 'VERB'), ('to', 'PRT'), ('mixed', 'VERB'), ('feelings', 'X'), ('about', 'ADP'), ('this', 'DET'), ('issue', 'NOUN'), (',', '.'), ('since', 'ADP'), ('he', 'PRON'), ('is', 'VERB'), ('both', 'DET'), ('a', 'DET'), ('vicar', 'NOUN'), ('and', 'CONJ'), ('an', 'DET'), ('active', 'ADJ'), ('bell-ringer', 'X'), ('himself', 'PRON'), ('.', '.'), ('The', 'DET'), ('study', 'NOUN'), ('shows', 'VERB'), ('that', 'ADP'), ('nearly', 'ADV'), ('40', 'NUM'), ('%', 'NOUN'), ('of', 'ADP'), ('the', 'DET'), ('homeless', 'ADJ'), ('population', 'NOUN'), ('is', 'VERB'), ('made', 'VERB'), ('up', 'ADV'), ('*-21', 'X'), ('of', 'ADP'), ('women', 'NOUN'), ('and', 'CONJ'), ('children', 'NOUN'), ('and', 'CONJ'), ('that', 'DET'), ('only', 'ADJ'), ('25', 'NUM'), ('%', 'NOUN'), ('of', 'ADP'), ('the', 'DET'), ('homeless', 'ADJ'), ('exhibits', 'X'), ('some', 'DET'), ('combination', 'NOUN'), ('of', 'ADP'), ('drug', 'NOUN'), (',', '.'), ('alcohol', 'NOUN'), ('and', 'CONJ'), ('mental', 'ADJ'), ('problems', 'NOUN'), ('.', '.'), ('The', 'DET'), ('Soviet', 'ADJ'), ('Union', 'NOUN'), ('usually', 'ADV'), ('begins', 'VERB'), ('*-1', 'X'), ('buying', 'VERB'), ('U.S.', 'NOUN'), ('crops', 'NOUN'), ('earlier', 'ADV'), ('in', 'ADP'), ('the', 'DET'), ('fall', 'NOUN'), ('.', '.'), ('Odyssey', 'X'), ('Partners', 'NOUN'), ('Limited', 'NOUN'), ('Partnership', 'NOUN'), (',', '.'), ('an', 'DET'), ('investment', 'NOUN'), ('firm', 'NOUN'), (',', '.'), ('completed', 'VERB'), ('the', 'DET'), ('purchase', 'NOUN'), ('of', 'ADP'), ('May', 'NOUN'), ('Department', 'NOUN'), ('Stores', 'NOUN'), ('Co.', 'NOUN'), (\"'s\", 'PRT'), ('Caldor', 'NOUN'), ('discount', 'NOUN'), ('chain', 'NOUN'), ('for', 'ADP'), ('$', '.'), ('500', 'NUM'), ('million', 'NUM'), ('*U*', 'X'), ('plus', 'CONJ'), ('the', 'DET'), ('assumption', 'NOUN'), ('of', 'ADP'), ('$', '.'), ('52', 'NUM'), ('million', 'NUM'), ('*U*', 'X'), ('in', 'ADP'), ('debt', 'NOUN'), ('.', '.'), ('The', 'DET'), ('less', 'ADJ'), ('complicated', 'ADJ'), ('version', 'NOUN'), ('of', 'ADP'), ('*', 'X'), ('playing', 'VERB'), ('tunes', 'X'), ('on', 'ADP'), ('bells', 'NOUN'), (',', '.'), ('as', 'ADP'), ('do', 'VERB'), ('*?*', 'X'), ('the', 'DET'), ('carillons', 'X'), ('of', 'ADP'), ('continental', 'X'), ('Europe', 'NOUN'), (',', '.'), ('is', 'VERB'), ('considered', 'VERB'), ('by', 'ADP'), ('the', 'DET'), ('English', 'ADJ'), ('*-136', 'X'), ('to', 'PRT'), ('be', 'VERB'), ('childish', 'X'), (',', '.'), ('fit', 'NOUN'), ('only', 'ADV'), ('for', 'ADP'), ('foreigners', 'X'), ('.', '.'), ('It', 'PRON'), ('*EXP*-1', 'X'), (\"'s\", 'PRT'), ('also', 'ADV'), ('refreshing', 'X'), ('*', 'X'), ('to', 'PRT'), ('read', 'VERB'), ('a', 'DET'), ('Japanese', 'ADJ'), ('author', 'NOUN'), ('who', 'PRON'), ('*T*-52', 'X'), ('clearly', 'ADV'), ('does', 'VERB'), (\"n't\", 'ADV'), ('belong', 'VERB'), ('to', 'PRT'), ('the', 'DET'), ('self-aggrandizing', 'X'), ('``', '.'), ('we-Japanese', 'X'), (\"''\", '.'), ('school', 'NOUN'), ('of', 'ADP'), ('writers', 'NOUN'), ('who', 'PRON'), ('*T*-53', 'X'), ('perpetuate', 'X'), ('the', 'DET'), ('notion', 'NOUN'), ('of', 'ADP'), ('the', 'DET'), ('unique', 'X'), ('Japanese', 'ADJ'), (',', '.'), ('unfathomable', 'X'), ('by', 'ADP'), ('outsiders', 'X'), ('.', '.'), ('Mrs.', 'NOUN'), ('Yeargin', 'NOUN'), ('admits', 'VERB'), ('0', 'X'), ('she', 'PRON'), ('made', 'VERB'), ('a', 'DET'), ('big', 'ADJ'), ('mistake', 'NOUN'), ('but', 'CONJ'), ('insists', 'VERB'), ('0', 'X'), ('her', 'PRON'), ('motives', 'X'), ('were', 'VERB'), ('correct', 'VERB'), ('.', '.'), ('A', 'DET'), ('year', 'NOUN'), ('earlier', 'ADV'), (',', '.'), ('net', 'ADJ'), ('income', 'NOUN'), ('was', 'VERB'), ('$', '.'), ('2.1', 'NUM'), ('million', 'NUM'), ('*U*', 'X'), (',', '.'), ('or', 'CONJ'), ('six', 'NUM'), ('cents', 'NOUN'), ('a', 'DET'), ('share', 'NOUN'), (',', '.'), ('on', 'ADP'), ('revenue', 'NOUN'), ('of', 'ADP'), ('$', '.'), ('169.9', 'X'), ('million', 'NUM'), ('*U*', 'X'), ('.', '.'), ('The', 'DET'), ('deal', 'NOUN'), ('also', 'ADV'), ('gave', 'VERB'), ('Mitsui', 'NOUN'), ('access', 'NOUN'), ('to', 'PRT'), ('a', 'DET'), ('high-tech', 'ADJ'), ('medical', 'ADJ'), ('product', 'NOUN'), ('.', '.'), ('``', '.'), ('If', 'ADP'), ('you', 'PRON'), ('could', 'VERB'), ('get', 'VERB'), ('the', 'DET'), ('rhythm', 'NOUN'), ('of', 'ADP'), ('the', 'DET'), ('program', 'NOUN'), ('trading', 'NOUN'), (',', '.'), ('you', 'PRON'), ('could', 'VERB'), ('take', 'VERB'), ('advantage', 'NOUN'), ('of', 'ADP'), ('it', 'PRON'), ('.', '.'), (\"''\", '.'), ('Labor', 'NOUN'), ('unions', 'NOUN'), ('and', 'CONJ'), ('Democrats', 'NOUN'), ('long', 'ADV'), ('fought', 'X'), ('the', 'DET'), ('idea', 'NOUN'), (',', '.'), ('but', 'CONJ'), ('recently', 'ADV'), ('acceded', 'X'), ('to', 'PRT'), ('it', 'PRON'), ('in', 'ADP'), ('the', 'DET'), ('face', 'NOUN'), ('of', 'ADP'), ('Bush', 'NOUN'), ('administration', 'NOUN'), ('insistence', 'X'), ('.', '.'), ('In', 'ADP'), ('his', 'PRON'), ('lawsuit', 'NOUN'), (',', '.'), ('Mr.', 'NOUN'), ('Trudeau', 'NOUN'), ('says', 'VERB'), ('0', 'X'), ('the', 'DET'), ('strike', 'NOUN'), ('illegally', 'ADV'), ('included', 'VERB'), ('Darkhorse', 'NOUN'), (',', '.'), ('and', 'CONJ'), ('the', 'DET'), ('cartoonist', 'X'), ('refused', 'VERB'), ('*-1', 'X'), ('to', 'PRT'), ('honor', 'VERB'), ('the', 'DET'), ('strike', 'NOUN'), ('against', 'ADP'), ('the', 'DET'), ('company', 'NOUN'), ('.', '.'), ('Rockwell', 'NOUN'), ('International', 'NOUN'), ('Corp.', 'NOUN'), ('won', 'VERB'), ('a', 'DET'), ('$', '.'), ('130.7', 'X'), ('million', 'NUM'), ('*U*', 'X'), ('Air', 'NOUN'), ('Force', 'NOUN'), ('contract', 'NOUN'), ('for', 'ADP'), ('AC-130U', 'X'), ('gunship', 'NOUN'), ('replacement', 'NOUN'), ('aircraft', 'NOUN'), ('.', '.'), ('Charles', 'NOUN'), ('Wohlstetter', 'X'), (',', '.'), ('the', 'DET'), ('chairman', 'NOUN'), ('of', 'ADP'), ('Contel', 'NOUN'), ('Corp.', 'NOUN'), ('who', 'PRON'), ('*T*-66', 'X'), ('is', 'VERB'), ('rallying', 'X'), ('other', 'ADJ'), ('CEOs', 'NOUN'), ('to', 'PRT'), ('the', 'DET'), ('anti-program', 'X'), ('trading', 'NOUN'), ('cause', 'VERB'), (',', '.'), ('says', 'VERB'), ('0', 'X'), ('he', 'PRON'), ('has', 'VERB'), ('received', 'VERB'), ('``', '.'), ('countless', 'X'), (\"''\", '.'), ('letters', 'NOUN'), ('offering', 'NOUN'), ('support', 'VERB'), ('.', '.'), ('West', 'NOUN'), ('Texas', 'NOUN'), ('Intermediate', 'NOUN'), ('for', 'ADP'), ('December', 'NOUN'), ('delivery', 'NOUN'), ('advanced', 'VERB'), ('22', 'NUM'), ('cents', 'NOUN'), ('to', 'PRT'), ('$', '.'), ('19.94', 'X'), ('*U*', 'X'), ('a', 'DET'), ('barrel', 'NOUN'), ('.', '.'), ('Travelers', 'NOUN'), ('Corp.', 'NOUN'), (\"'s\", 'PRT'), ('third-quarter', 'NOUN'), ('net', 'NOUN'), ('income', 'NOUN'), ('rose', 'VERB'), ('11', 'NUM'), ('%', 'NOUN'), (',', '.'), ('even', 'ADV'), ('though', 'ADP'), ('claims', 'NOUN'), ('stemming', 'VERB'), ('from', 'ADP'), ('Hurricane', 'NOUN'), ('Hugo', 'NOUN'), ('reduced', 'VERB'), ('results', 'NOUN'), ('$', '.'), ('40', 'NUM'), ('million', 'NUM'), ('*U*', 'X'), ('.', '.'), ('Japanese', 'ADJ'), ('press', 'NOUN'), ('reports', 'NOUN'), ('have', 'VERB'), ('speculated', 'VERB'), ('that', 'ADP'), ('the', 'DET'), ('Japanese', 'ADJ'), ('contribution', 'X'), ('could', 'VERB'), ('rise', 'VERB'), ('to', 'PRT'), ('between', 'ADP'), ('20', 'NUM'), ('%', 'NOUN'), ('and', 'CONJ'), ('25', 'NUM'), ('%', 'NOUN'), ('*U*', 'X'), ('under', 'ADP'), ('the', 'DET'), ('new', 'ADJ'), ('program', 'NOUN'), ('.', '.'), ('Buick', 'NOUN'), ('has', 'VERB'), ('been', 'VERB'), ('seeking', 'VERB'), ('for', 'ADP'), ('the', 'DET'), ('past', 'ADJ'), ('few', 'ADJ'), ('years', 'NOUN'), ('*-1', 'X'), ('to', 'PRT'), ('restore', 'VERB'), ('its', 'PRON'), ('reputation', 'NOUN'), ('as', 'ADP'), ('``', '.'), ('the', 'DET'), ('doctor', 'X'), (\"'s\", 'PRT'), ('car', 'NOUN'), (\"''\", '.'), ('--', '.'), ('a', 'DET'), ('product', 'NOUN'), ('for', 'ADP'), ('upscale', 'ADJ'), ('professionals', 'NOUN'), ('.', '.'), ('The', 'DET'), ('most', 'ADJ'), ('common', 'ADJ'), ('program-trading', 'ADJ'), ('vehicles', 'NOUN'), ('are', 'VERB'), ('futures', 'NOUN'), ('contracts', 'NOUN'), ('on', 'ADP'), ('Standard', 'NOUN'), ('&', 'CONJ'), ('poor', 'ADJ'), (\"'s\", 'PRT'), ('500-stock', 'ADJ'), ('index', 'NOUN'), ('-LRB-', '.'), ('traded', 'VERB'), ('*', 'X'), ('on', 'ADP'), ('the', 'DET'), ('Chicago', 'NOUN'), ('Mercantile', 'NOUN'), ('Exchange', 'NOUN'), ('-RRB-', '.'), (';', '.'), ('the', 'DET'), ('Major', 'NOUN'), ('Market', 'NOUN'), ('Index', 'NOUN'), (',', '.'), ('a', 'DET'), ('20-stock', 'X'), ('index', 'NOUN'), ('that', 'ADP'), ('*T*-1', 'X'), ('mimics', 'X'), ('the', 'DET'), ('Dow', 'NOUN'), ('Jones', 'NOUN'), ('Industrial', 'NOUN'), ('Average', 'NOUN'), ('-LRB-', '.'), ('traded', 'VERB'), ('*', 'X'), ('on', 'ADP'), ('the', 'DET'), ('chicago', 'X'), ('Board', 'NOUN'), ('of', 'ADP'), ('Trade', 'NOUN'), ('-RRB-', '.'), (';', '.'), ('and', 'CONJ'), ('the', 'DET'), ('S&P', 'NOUN'), ('100', 'NUM'), ('options', 'NOUN'), ('-LRB-', '.'), ('traded', 'VERB'), ('*', 'X'), ('on', 'ADP'), ('the', 'DET'), ('Chicago', 'NOUN'), ('Board', 'NOUN'), ('Options', 'NOUN'), ('Exchange', 'NOUN'), (',', '.'), ('and', 'CONJ'), ('based', 'VERB'), ('*', 'X'), ('on', 'ADP'), ('100', 'NUM'), ('stocks', 'NOUN'), ('selected', 'VERB'), ('*', 'X'), ('from', 'ADP'), ('the', 'DET'), ('S&P', 'NOUN'), ('500', 'NUM'), ('-RRB-', '.'), ('.', '.'), ('Even', 'ADV'), ('with', 'ADP'), ('mutual', 'ADJ'), ('funds', 'NOUN'), (',', '.'), ('the', 'DET'), ('little', 'ADJ'), ('investor', 'NOUN'), ('continues', 'VERB'), ('*-1', 'X'), ('to', 'PRT'), ('tolerate', 'VERB'), ('high', 'ADJ'), ('fees', 'NOUN'), (',', '.'), ('high', 'ADJ'), ('commissions', 'NOUN'), ('and', 'CONJ'), ('poor', 'ADJ'), ('performance', 'NOUN'), (',', '.'), ('while', 'ADP'), ('index-fund', 'ADJ'), ('managers', 'NOUN'), ('slowly', 'ADV'), ('amass', 'X'), ('a', 'DET'), ('better', 'ADJ'), ('record', 'NOUN'), ('with', 'ADP'), ('lower', 'ADJ'), ('fees', 'NOUN'), (',', '.'), ('lower', 'ADJ'), ('commissions', 'NOUN'), ('and', 'CONJ'), ('less', 'ADJ'), ('risk', 'NOUN'), ('.', '.'), ('For', 'ADP'), ('the', 'DET'), ('year', 'NOUN'), (',', '.'), ('electronics', 'NOUN'), ('emerged', 'X'), ('as', 'ADP'), ('Rockwell', 'NOUN'), (\"'s\", 'PRT'), ('largest', 'ADJ'), ('sector', 'NOUN'), ('in', 'ADP'), ('terms', 'NOUN'), ('of', 'ADP'), ('sales', 'NOUN'), ('and', 'CONJ'), ('earnings', 'NOUN'), (',', '.'), ('*-1', 'X'), ('muscling', 'X'), ('out', 'PRT'), ('aerospace', 'NOUN'), ('for', 'ADP'), ('the', 'DET'), ('first', 'ADJ'), ('time', 'NOUN'), ('.', '.'), ('For', 'ADP'), ('the', 'DET'), ('fifth', 'ADJ'), ('consecutive', 'ADJ'), ('month', 'NOUN'), (',', '.'), ('purchasing', 'VERB'), ('managers', 'NOUN'), ('said', 'VERB'), ('0', 'X'), ('prices', 'NOUN'), ('for', 'ADP'), ('the', 'DET'), ('goods', 'NOUN'), ('0', 'X'), ('they', 'PRON'), ('purchased', 'VERB'), ('*T*-1', 'X'), ('fell', 'VERB'), ('.', '.'), ('But', 'CONJ'), ('other', 'ADJ'), ('than', 'ADP'), ('the', 'DET'), ('fact', 'NOUN'), ('that', 'ADP'), ('besuboru', 'X'), ('is', 'VERB'), ('played', 'VERB'), ('*-1', 'X'), ('with', 'ADP'), ('a', 'DET'), ('ball', 'X'), ('and', 'CONJ'), ('a', 'DET'), ('bat', 'X'), (',', '.'), ('it', 'PRON'), (\"'s\", 'VERB'), ('unrecognizable', 'ADJ'), (':', '.'), ('Fans', 'X'), ('politely', 'X'), ('return', 'VERB'), ('foul', 'ADJ'), ('balls', 'X'), ('to', 'PRT'), ('stadium', 'NOUN'), ('ushers', 'X'), (';', '.'), ('the', 'DET'), ('strike', 'NOUN'), ('zone', 'NOUN'), ('expands', 'X'), ('depending', 'X'), ('on', 'ADP'), ('the', 'DET'), ('size', 'NOUN'), ('of', 'ADP'), ('the', 'DET'), ('hitter', 'X'), (';', '.'), ('ties', 'NOUN'), ('are', 'VERB'), ('permitted', 'VERB'), ('*-2', 'X'), ('--', '.'), ('even', 'ADV'), ('welcomed', 'VERB'), ('*-2', 'X'), ('--', '.'), ('since', 'ADP'), ('they', 'PRON'), ('honorably', 'X'), ('sidestep', 'VERB'), ('the', 'DET'), ('shame', 'NOUN'), ('of', 'ADP'), ('defeat', 'VERB'), (';', '.'), ('players', 'NOUN'), ('must', 'VERB'), ('abide', 'X'), ('by', 'ADP'), ('strict', 'ADJ'), ('rules', 'NOUN'), ('of', 'ADP'), ('conduct', 'VERB'), ('even', 'ADV'), ('in', 'ADP'), ('their', 'PRON'), ('personal', 'ADJ'), ('lives', 'NOUN'), ('--', '.'), ('players', 'NOUN'), ('for', 'ADP'), ('the', 'DET'), ('Tokyo', 'NOUN'), ('Giants', 'NOUN'), (',', '.'), ('for', 'ADP'), ('example', 'NOUN'), (',', '.'), ('must', 'VERB'), ('always', 'ADV'), ('wear', 'X'), ('ties', 'NOUN'), ('when', 'ADV'), ('on', 'ADP'), ('the', 'DET'), ('road', 'NOUN'), ('.', '.'), ('The', 'DET'), ('Soviet', 'ADJ'), ('Union', 'NOUN'), ('bought', 'VERB'), ('roughly', 'ADV'), ('310', 'NUM'), ('million', 'NUM'), ('bushels', 'NOUN'), ('of', 'ADP'), ('U.S.', 'NOUN'), ('corn', 'NOUN'), ('*ICH*-2', 'X'), ('in', 'ADP'), ('October', 'NOUN'), (',', '.'), ('which', 'DET'), ('*T*-1', 'X'), ('is', 'VERB'), ('the', 'DET'), ('most', 'ADJ'), ('ever', 'ADV'), ('sold', 'VERB'), ('*', 'X'), ('to', 'PRT'), ('the', 'DET'), ('Soviet', 'ADJ'), ('Union', 'NOUN'), ('in', 'ADP'), ('one', 'NUM'), ('month', 'NOUN'), ('from', 'ADP'), ('the', 'DET'), ('U.S.', 'NOUN'), ('.', '.'), ('*', 'X'), ('Depending', 'X'), ('upon', 'ADP'), ('how', 'ADV'), ('many', 'ADJ'), ('warrants', 'NOUN'), ('and', 'CONJ'), ('options', 'NOUN'), ('*T*-2', 'X'), ('are', 'VERB'), ('exercised', 'VERB'), ('*-1', 'X'), ('prior', 'ADV'), ('to', 'PRT'), ('completion', 'NOUN'), ('of', 'ADP'), ('the', 'DET'), ('transaction', 'NOUN'), (',', '.'), ('Heritage', 'NOUN'), ('would', 'VERB'), ('issue', 'NOUN'), ('between', 'ADP'), ('1.8', 'NUM'), ('million', 'NUM'), ('and', 'CONJ'), ('2.35', 'X'), ('million', 'NUM'), ('preferred', 'ADJ'), ('shares', 'NOUN'), (',', '.'), ('a', 'DET'), ('Heritage', 'NOUN'), ('spokesman', 'NOUN'), ('estimated', 'VERB'), ('0', 'X'), ('*T*-3', 'X'), ('.', '.'), ('``', '.'), ('I', 'PRON'), (\"'m\", 'VERB'), ('starting', 'VERB'), ('*-1', 'X'), ('to', 'PRT'), ('see', 'VERB'), ('more', 'ADV'), ('business', 'NOUN'), ('transactions', 'NOUN'), (',', '.'), (\"''\", '.'), ('says', 'VERB'), ('*T*-2', 'X'), ('Andrea', 'X'), ('West', 'NOUN'), ('of', 'ADP'), ('American', 'ADJ'), ('Telephone', 'NOUN'), ('&', 'CONJ'), ('Telegraph', 'NOUN'), ('Co.', 'NOUN'), (',', '.'), ('*-3', 'X'), ('noting', 'VERB'), ('growing', 'VERB'), ('interest', 'NOUN'), ('in', 'ADP'), ('use', 'NOUN'), ('of', 'ADP'), ('900', 'NUM'), ('service', 'NOUN'), ('for', 'ADP'), ('stock', 'NOUN'), ('sales', 'NOUN'), (',', '.'), ('software', 'NOUN'), ('tutorials', 'X'), ('and', 'CONJ'), ('even', 'ADV'), ('service', 'NOUN'), ('contracts', 'NOUN'), ('.', '.'), ('No', 'DET'), ('one', 'NUM'), ('is', 'VERB'), ('more', 'ADV'), ('unhappy', 'ADJ'), ('with', 'ADP'), ('program', 'NOUN'), ('trading', 'NOUN'), ('than', 'ADP'), ('the', 'DET'), ('nation', 'NOUN'), (\"'s\", 'PRT'), ('stockbrokers', 'NOUN'), ('.', '.'), ('Congress', 'NOUN'), ('learned', 'VERB'), ('during', 'ADP'), ('the', 'DET'), ('Reagan', 'NOUN'), ('administration', 'NOUN'), ('that', 'ADP'), ('it', 'PRON'), ('could', 'VERB'), ('intimidate', 'X'), ('the', 'DET'), ('executive', 'ADJ'), ('branch', 'NOUN'), ('by', 'ADP'), ('*-1', 'X'), ('uttering', 'X'), ('again', 'ADV'), ('and', 'CONJ'), ('again', 'ADV'), ('the', 'DET'), ('same', 'ADJ'), ('seven', 'NUM'), ('words', 'NOUN'), (':', '.'), ('``', '.'), ('Provided', 'X'), (',', '.'), ('that', 'DET'), ('no', 'DET'), ('funds', 'NOUN'), ('shall', 'VERB'), ('be', 'VERB'), ('spent', 'VERB'), ('*-48', 'X'), ('...', '.'), ('.', '.'), (\"''\", '.'), ('The', 'DET'), ('sweeping', 'ADJ'), ('nature', 'NOUN'), ('of', 'ADP'), ('the', 'DET'), ('bill', 'NOUN'), ('draws', 'X'), ('a', 'DET'), ('variety', 'NOUN'), ('of', 'ADP'), ('special', 'ADJ'), ('interest', 'NOUN'), ('amendments', 'NOUN'), (',', '.'), ('running', 'VERB'), ('from', 'ADP'), ('an', 'DET'), ('import', 'NOUN'), ('exemption', 'NOUN'), ('for', 'ADP'), ('a', 'DET'), ('California', 'NOUN'), ('airplane', 'X'), ('museum', 'NOUN'), ('to', 'PRT'), ('a', 'DET'), ('small', 'ADJ'), ('but', 'CONJ'), ('intriguing', 'X'), ('struggle', 'NOUN'), ('among', 'ADP'), ('sugar', 'NOUN'), ('producing', 'VERB'), ('nations', 'NOUN'), ('over', 'ADP'), ('the', 'DET'), ('fate', 'NOUN'), ('of', 'ADP'), ('Panama', 'NOUN'), (\"'s\", 'PRT'), ('quota', 'NOUN'), ('of', 'ADP'), ('exports', 'NOUN'), ('to', 'PRT'), ('the', 'DET'), ('profitable', 'ADJ'), ('U.S.', 'NOUN'), ('market', 'NOUN'), ('.', '.'), ('For', 'ADP'), ('stock', 'NOUN'), ('indexes', 'X'), (',', '.'), ('the', 'DET'), ('underlying', 'ADJ'), ('investment', 'NOUN'), ('may', 'VERB'), ('be', 'VERB'), ('a', 'DET'), ('stock-index', 'ADJ'), ('futures', 'NOUN'), ('contract', 'NOUN'), ('or', 'CONJ'), ('the', 'DET'), ('cash', 'NOUN'), ('value', 'NOUN'), ('of', 'ADP'), ('a', 'DET'), ('stock', 'NOUN'), ('index', 'NOUN'), ('.', '.'), ('Savin', 'NOUN'), ('cited', 'VERB'), ('``', '.'), ('a', 'DET'), ('general', 'ADJ'), ('softening', 'X'), ('in', 'ADP'), ('the', 'DET'), ('demand', 'NOUN'), ('for', 'ADP'), ('office', 'NOUN'), ('products', 'NOUN'), ('in', 'ADP'), ('the', 'DET'), ('market', 'NOUN'), ('segments', 'NOUN'), ('in', 'ADP'), ('which', 'DET'), ('Savin', 'NOUN'), ('competes', 'VERB'), ('*T*-1', 'X'), ('.', '.'), ('``', '.'), ('We', 'PRON'), ('have', 'VERB'), ('a', 'DET'), ('long', 'ADJ'), ('history', 'NOUN'), ('of', 'ADP'), ('*', 'X'), ('maintaining', 'VERB'), ('an', 'DET'), ('open', 'ADJ'), ('direct-investment', 'X'), ('policy', 'NOUN'), (',', '.'), (\"''\", '.'), ('Mr.', 'NOUN'), ('Dallara', 'NOUN'), ('says', 'VERB'), ('*T*-1', 'X'), ('.', '.'), ('But', 'CONJ'), ('in', 'ADP'), ('August', 'NOUN'), (',', '.'), ('First', 'NOUN'), ('Atlanta', 'NOUN'), ('National', 'NOUN'), ('Bank', 'NOUN'), ('introduced', 'VERB'), ('its', 'PRON'), ('Crown', 'NOUN'), ('Account', 'NOUN'), (',', '.'), ('a', 'DET'), ('package', 'NOUN'), ('designed', 'VERB'), ('*', 'X'), ('*-1', 'X'), ('to', 'PRT'), ('lure', 'VERB'), ('customers', 'NOUN'), ('such', 'ADJ'), ('as', 'ADP'), ('Ms.', 'NOUN'), ('Driskill', 'NOUN'), ('.', '.'), ('A', 'DET'), ('full', 'ADJ'), (',', '.'), ('four-color', 'X'), ('page', 'NOUN'), ('in', 'ADP'), ('Newsweek', 'NOUN'), ('will', 'VERB'), ('cost', 'NOUN'), ('$', '.'), ('100,980', 'X'), ('*U*', 'X'), ('.', '.'), ('Integra', 'NOUN'), (',', '.'), ('which', 'DET'), ('*T*-174', 'X'), ('owns', 'VERB'), ('and', 'CONJ'), ('operates', 'VERB'), ('hotels', 'X'), (',', '.'), ('said', 'VERB'), ('that', 'ADP'), ('Hallwood', 'NOUN'), ('Group', 'NOUN'), ('Inc.', 'NOUN'), ('has', 'VERB'), ('agreed', 'VERB'), ('*-1', 'X'), ('to', 'PRT'), ('exercise', 'VERB'), ('any', 'DET'), ('rights', 'NOUN'), ('that', 'ADP'), ('*T*-175', 'X'), ('are', 'VERB'), (\"n't\", 'ADV'), ('exercised', 'VERB'), ('*-2', 'X'), ('by', 'ADP'), ('other', 'ADJ'), ('shareholders', 'NOUN'), ('.', '.'), ('And', 'CONJ'), ('many', 'ADJ'), ('emerging', 'X'), ('markets', 'NOUN'), ('have', 'VERB'), ('outpaced', 'X'), ('more', 'ADV'), ('mature', 'VERB'), ('markets', 'NOUN'), (',', '.'), ('such', 'ADJ'), ('as', 'ADP'), ('the', 'DET'), ('U.S.', 'NOUN'), ('and', 'CONJ'), ('Japan', 'NOUN'), ('.', '.'), ('Montedison', 'NOUN'), ('currently', 'ADV'), ('owns', 'VERB'), ('about', 'ADP'), ('72', 'NUM'), ('%', 'NOUN'), ('of', 'ADP'), ('Erbamont', 'NOUN'), (\"'s\", 'PRT'), ('common', 'ADJ'), ('shares', 'NOUN'), ('outstanding', 'ADJ'), ('.', '.'), ('The', 'DET'), ('reason', 'NOUN'), (':', '.'), ('the', 'DET'), ('refusal', 'NOUN'), ('*ICH*-1', 'X'), ('of', 'ADP'), ('Congress', 'NOUN'), ('*', 'X'), ('to', 'PRT'), ('give', 'VERB'), ('federal', 'ADJ'), ('judges', 'NOUN'), ('a', 'DET'), ('raise', 'VERB'), ('.', '.'), ('Preliminary', 'X'), ('tallies', 'X'), ('by', 'ADP'), ('the', 'DET'), ('Trade', 'NOUN'), ('and', 'CONJ'), ('Industry', 'NOUN'), ('Ministry', 'NOUN'), ('showed', 'VERB'), ('another', 'DET'), ('trade', 'NOUN'), ('deficit', 'NOUN'), ('in', 'ADP'), ('October', 'NOUN'), (',', '.'), ('the', 'DET'), ('fifth', 'ADJ'), ('monthly', 'ADJ'), ('setback', 'NOUN'), ('this', 'DET'), ('year', 'NOUN'), (',', '.'), ('*', 'X'), ('casting', 'VERB'), ('a', 'DET'), ('cloud', 'X'), ('on', 'ADP'), ('South', 'NOUN'), ('Korea', 'NOUN'), (\"'s\", 'PRT'), ('export-oriented', 'X'), ('economy', 'NOUN'), ('.', '.'), ('The', 'DET'), ('Sacramento-based', 'X'), ('S&L', 'NOUN'), (',', '.'), ('which', 'DET'), ('*T*-110', 'X'), ('has', 'VERB'), ('44', 'NUM'), ('branch', 'NOUN'), ('offices', 'NOUN'), ('in', 'ADP'), ('north', 'X'), ('central', 'ADJ'), ('California', 'NOUN'), (',', '.'), ('had', 'VERB'), ('assets', 'NOUN'), ('of', 'ADP'), ('$', '.'), ('2.4', 'NUM'), ('billion', 'NUM'), ('*U*', 'X'), ('at', 'ADP'), ('the', 'DET'), ('end', 'NOUN'), ('of', 'ADP'), ('September', 'NOUN'), ('.', '.'), ('``', '.'), ('Unemployment', 'X'), ('continues', 'VERB'), ('at', 'ADP'), ('a', 'DET'), ('relatively', 'ADV'), ('low', 'ADJ'), ('level', 'NOUN'), (',', '.'), ('*', 'X'), ('providing', 'VERB'), ('a', 'DET'), ('sense', 'NOUN'), ('of', 'ADP'), ('job', 'NOUN'), ('security', 'NOUN'), (',', '.'), ('and', 'CONJ'), ('a', 'DET'), ('low', 'ADJ'), ('inflation', 'NOUN'), ('rate', 'NOUN'), ('has', 'VERB'), ('kept', 'VERB'), ('the', 'DET'), ('purchasing', 'NOUN'), ('power', 'NOUN'), ('of', 'ADP'), ('the', 'DET'), ('weekly', 'ADJ'), ('paycheck', 'X'), ('reasonably', 'X'), ('strong', 'ADJ'), ('.', '.'), (\"''\", '.'), ('Meanwhile', 'ADV'), (',', '.'), ('business', 'NOUN'), ('and', 'CONJ'), ('government', 'NOUN'), ('leaders', 'NOUN'), ('rebuked', 'X'), ('the', 'DET'), ('computer', 'NOUN'), ('makers', 'NOUN'), (',', '.'), ('and', 'CONJ'), ('fretted', 'X'), ('about', 'ADP'), ('the', 'DET'), ('broader', 'ADJ'), ('statement', 'NOUN'), ('0', 'X'), ('the', 'DET'), ('companies', 'NOUN'), (\"'\", 'PRT'), ('actions', 'NOUN'), ('make', 'VERB'), ('*T*-1', 'X'), ('about', 'ADP'), ('Japanese', 'ADJ'), ('cutthroat', 'ADJ'), ('pricing', 'NOUN'), ('.', '.'), ('There', 'DET'), ('may', 'VERB'), ('be', 'VERB'), ('others', 'NOUN'), ('doing', 'VERB'), ('what', 'PRON'), ('she', 'PRON'), ('did', 'VERB'), ('*T*-1', 'X'), ('.', '.'), (\"''\", '.'), ('Meanwhile', 'ADV'), (',', '.'), ('specialists', 'NOUN'), (\"'\", 'PRT'), ('trading', 'NOUN'), ('risks', 'NOUN'), ('have', 'VERB'), ('skyrocketed', 'VERB'), ('as', 'ADP'), ('a', 'DET'), ('result', 'NOUN'), ('of', 'ADP'), ('stock-market', 'NOUN'), ('volatility', 'NOUN'), ('.', '.'), ('He', 'PRON'), ('will', 'VERB'), ('be', 'VERB'), ('eligible', 'ADJ'), ('for', 'ADP'), ('an', 'DET'), ('annual', 'ADJ'), ('pension', 'NOUN'), ('of', 'ADP'), ('more', 'ADJ'), ('than', 'ADP'), ('$', '.'), ('244,000', 'X'), ('*U*', 'X'), ('with', 'ADP'), ('certain', 'ADJ'), ('other', 'ADJ'), ('fringe', 'X'), ('benefits', 'VERB'), ('.', '.'), ('A', 'DET'), ('spokesman', 'NOUN'), ('for', 'ADP'), ('the', 'DET'), ('state', 'NOUN'), (',', '.'), ('however', 'ADV'), (',', '.'), ('calls', 'VERB'), ('the', 'DET'), ('idea', 'NOUN'), ('``', '.'), ('not', 'ADV'), ('effective', 'ADJ'), ('or', 'CONJ'), ('cost', 'NOUN'), ('efficient', 'ADJ'), ('.', '.'), ('It', 'PRON'), ('should', 'VERB'), ('be', 'VERB'), ('the', 'DET'), ('Natural', 'X'), ('Resources', 'NOUN'), ('Defense', 'NOUN'), ('Council', 'NOUN'), ('.', '.'), ('But', 'CONJ'), ('any', 'DET'), ('potential', 'ADJ'), ('acquirer', 'X'), ('must', 'VERB'), ('attempt', 'NOUN'), ('*-2', 'X'), ('to', 'PRT'), ('reach', 'VERB'), ('some', 'DET'), ('kind', 'NOUN'), ('of', 'ADP'), ('accord', 'NOUN'), ('with', 'ADP'), ('the', 'DET'), ('company', 'NOUN'), (\"'s\", 'PRT'), ('employees', 'NOUN'), (',', '.'), ('primarily', 'ADV'), ('its', 'PRON'), ('pilots', 'X'), ('and', 'CONJ'), ('the', 'DET'), ('powerful', 'ADJ'), ('machinists', 'X'), (\"'\", 'PRT'), ('union', 'NOUN'), (',', '.'), ('which', 'DET'), ('*T*-1', 'X'), ('has', 'VERB'), ('opposed', 'VERB'), ('a', 'DET'), ('takeover', 'NOUN'), ('.', '.'), ('She', 'PRON'), ('took', 'VERB'), ('her', 'PRON'), ('business', 'NOUN'), ('to', 'PRT'), ('First', 'NOUN'), ('Atlanta', 'NOUN'), ('.', '.'), ('The', 'DET'), ('Santa', 'NOUN'), ('Ana', 'NOUN'), ('bonds', 'NOUN'), ('were', 'VERB'), ('tentatively', 'ADV'), ('priced', 'VERB'), ('*-1', 'X'), ('*-2', 'X'), ('to', 'PRT'), ('yield', 'VERB'), ('from', 'ADP'), ('6.40', 'NUM'), ('%', 'NOUN'), ('in', 'ADP'), ('1991', 'NUM'), ('to', 'PRT'), ('7.458', 'NUM'), ('%', 'NOUN'), ('in', 'ADP'), ('It', 'PRON'), ('said', 'VERB'), ('0', 'X'), ('that', 'ADP'), ('volume', 'NOUN'), ('makes', 'VERB'), ('it', 'PRON'), ('the', 'DET'), ('largest', 'ADJ'), ('supplier', 'X'), ('of', 'ADP'), ('original', 'ADJ'), ('TV', 'NOUN'), ('programming', 'NOUN'), ('in', 'ADP'), ('Europe', 'NOUN'), ('.', '.'), ('Showa', 'X'), ('Shell', 'X'), ('gained', 'VERB'), ('20', 'NUM'), ('to', 'PRT'), ('1,570', 'X'), ('and', 'CONJ'), ('Mitsubishi', 'NOUN'), ('Oil', 'NOUN'), ('rose', 'VERB'), ('50', 'NUM'), ('to', 'PRT'), ('1,500', 'NUM'), ('.', '.'), ('A', 'DET'), ('former', 'ADJ'), ('member', 'NOUN'), ('of', 'ADP'), ('the', 'DET'), ('prosecution', 'NOUN'), ('team', 'NOUN'), ('in', 'ADP'), ('the', 'DET'), ('Iran\\\\/Contra', 'X'), ('affair', 'X'), ('joined', 'VERB'), ('the', 'DET'), ('Chicago', 'NOUN'), ('firm', 'NOUN'), ('of', 'ADP'), ('Mayer', 'X'), (',', '.'), ('Brown', 'NOUN'), ('&', 'CONJ'), ('Platt', 'NOUN'), ('.', '.'), ('And', 'CONJ'), ('then', 'ADV'), ('this', 'DET'), ('television', 'NOUN'), ('commercial', 'NOUN'), (',', '.'), ('paid', 'VERB'), ('for', 'ADP'), ('*', 'X'), ('by', 'ADP'), ('Republican', 'ADJ'), ('Rudolph', 'NOUN'), ('Giuliani', 'NOUN'), (\"'s\", 'PRT'), ('campaign', 'NOUN'), ('and', 'CONJ'), ('produced', 'VERB'), ('*', 'X'), ('by', 'ADP'), ('Roger', 'NOUN'), ('Ailes', 'NOUN'), (',', '.'), ('the', 'DET'), ('master', 'NOUN'), ('of', 'ADP'), ('negative', 'ADJ'), ('TV', 'NOUN'), ('ads', 'NOUN'), (',', '.'), ('really', 'ADV'), ('gets', 'VERB'), ('down', 'ADV'), ('to', 'PRT'), ('business', 'NOUN'), ('.', '.'), ('As', 'ADP'), ('a', 'DET'), ('result', 'NOUN'), (',', '.'), ('the', 'DET'), ('company', 'NOUN'), ('said', 'VERB'), ('0', 'X'), ('it', 'PRON'), ('decided', 'VERB'), ('*-1', 'X'), ('to', 'PRT'), ('phase', 'X'), ('out', 'PRT'), ('its', 'PRON'), ('oldest', 'ADJ'), ('capacity', 'NOUN'), ('and', 'CONJ'), ('``', '.'), ('make', 'VERB'), ('appropriate', 'X'), ('reductions', 'NOUN'), (\"''\", '.'), ('in', 'ADP'), ('operating', 'NOUN'), ('expenses', 'NOUN'), ('.', '.'), ('He', 'PRON'), ('sold', 'VERB'), ('his', 'PRON'), ('exchange', 'NOUN'), ('seat', 'NOUN'), ('and', 'CONJ'), ('wrote', 'VERB'), ('a', 'DET'), ('bitter', 'ADJ'), ('letter', 'NOUN'), ('to', 'PRT'), ('Big', 'NOUN'), ('Board', 'NOUN'), ('Chairman', 'NOUN'), ('John', 'NOUN'), ('J.', 'NOUN'), ('Phelan', 'NOUN'), ('Jr.', 'NOUN'), ('in', 'ADP'), ('which', 'DET'), ('he', 'PRON'), ('said', 'VERB'), ('*T*-1', 'X'), ('0', 'X'), ('the', 'DET'), ('Big', 'NOUN'), ('Board', 'NOUN'), ('is', 'VERB'), ('too', 'ADV'), ('focused', 'VERB'), ('on', 'ADP'), ('machines', 'NOUN'), (',', '.'), ('rather', 'ADV'), ('than', 'ADP'), ('people', 'NOUN'), ('.', '.'), ('One', 'NUM'), ('writer', 'NOUN'), (',', '.'), ('signing', 'VERB'), ('his', 'PRON'), ('letter', 'NOUN'), ('as', 'ADP'), ('``', '.'), ('Red-blooded', 'X'), (',', '.'), ('balanced', 'X'), ('male', 'ADJ'), (',', '.'), (\"''\", '.'), ('remarked', 'VERB'), ('on', 'ADP'), ('the', 'DET'), ('``', '.'), ('frequency', 'X'), ('of', 'ADP'), ('women', 'NOUN'), ('fainting', 'X'), ('in', 'ADP'), ('peals', 'NOUN'), (',', '.'), (\"''\", '.'), ('and', 'CONJ'), ('suggested', 'VERB'), ('that', 'ADP'), ('they', 'PRON'), ('``', '.'), ('settle', 'VERB'), ('back', 'ADV'), ('into', 'ADP'), ('their', 'PRON'), ('traditional', 'ADJ'), ('role', 'NOUN'), ('of', 'ADP'), ('*', 'X'), ('making', 'VERB'), ('tea', 'X'), ('at', 'ADP'), ('meetings', 'NOUN'), ('.', '.'), (\"''\", '.'), ('It', 'PRON'), ('*EXP*-1', 'X'), ('was', 'VERB'), (\"n't\", 'ADV'), ('clear', 'ADJ'), ('how', 'ADV'), ('NL', 'NOUN'), ('and', 'CONJ'), ('Mr.', 'NOUN'), ('Simmons', 'NOUN'), ('would', 'VERB'), ('respond', 'VERB'), ('*T*-2', 'X'), ('if', 'ADP'), ('Georgia', 'NOUN'), ('Gulf', 'NOUN'), ('spurns', 'X'), ('them', 'PRON'), ('again', 'ADV'), ('.', '.'), ('The', 'DET'), ('consumer', 'NOUN'), ('confidence', 'NOUN'), ('survey', 'NOUN'), (',', '.'), ('*-2', 'X'), ('covering', 'VERB'), ('5,000', 'NUM'), ('U.S.', 'NOUN'), ('households', 'NOUN'), (',', '.'), ('is', 'VERB'), ('conducted', 'X'), ('*-2', 'X'), ('in', 'ADP'), ('the', 'DET'), ('first', 'ADJ'), ('two', 'NUM'), ('weeks', 'NOUN'), ('of', 'ADP'), ('each', 'DET'), ('month', 'NOUN'), ('for', 'ADP'), ('the', 'DET'), ('Conference', 'NOUN'), ('Board', 'NOUN'), ('by', 'ADP'), ('National', 'NOUN'), ('Family', 'NOUN'), ('Opinion', 'X'), ('Inc.', 'NOUN'), (',', '.'), ('a', 'DET'), ('Toledo', 'NOUN'), (',', '.'), ('Ohio', 'NOUN'), (',', '.'), ('market', 'NOUN'), ('researcher', 'NOUN'), ('.', '.'), ('a', 'DET'), ('-', '.'), ('Average', 'NOUN'), ('rate', 'NOUN'), ('paid', 'VERB'), ('*', 'X'), ('yesterday', 'NOUN'), ('by', 'ADP'), ('100', 'NUM'), ('large', 'ADJ'), ('banks', 'NOUN'), ('and', 'CONJ'), ('thrifts', 'NOUN'), ('in', 'ADP'), ('the', 'DET'), ('10', 'NUM'), ('largest', 'ADJ'), ('metropolitan', 'X'), ('areas', 'NOUN'), ('as', 'ADP'), ('*', 'X'), ('compiled', 'VERB'), ('*-2', 'X'), ('by', 'ADP'), ('Bank', 'NOUN'), ('Rate', 'X'), ('Monitor', 'X'), ('.', '.'), ('Soon', 'ADV'), (',', '.'), ('it', 'PRON'), ('will', 'VERB'), ('split', 'VERB'), ('those', 'DET'), ('into', 'ADP'), ('30', 'NUM'), ('.', '.'), ('A', 'DET'), ('House', 'NOUN'), ('aide', 'NOUN'), ('suggested', 'VERB'), ('that', 'ADP'), ('Mr.', 'NOUN'), ('Phelan', 'NOUN'), ('was', 'VERB'), ('so', 'ADV'), ('``', '.'), ('vague', 'X'), ('and', 'CONJ'), ('mushy', 'X'), (\"''\", '.'), ('that', 'DET'), ('it', 'PRON'), ('was', 'VERB'), ('the', 'DET'), ('kind', 'NOUN'), ('of', 'ADP'), ('meeting', 'NOUN'), ('where', 'ADV'), ('people', 'NOUN'), ('of', 'ADP'), ('all', 'DET'), ('viewpoints', 'X'), ('could', 'VERB'), ('``', '.'), ('come', 'VERB'), ('out', 'PRT'), ('*-2', 'X'), ('feeling', 'VERB'), ('good', 'ADJ'), ('*T*-1', 'X'), ('.', '.'), (\"''\", '.'), ('``', '.'), ('*-1', 'X'), ('To', 'PRT'), ('get', 'VERB'), ('people', 'NOUN'), (\"'s\", 'PRT'), ('attention', 'NOUN'), ('these', 'DET'), ('days', 'NOUN'), (',', '.'), (\"''\", '.'), ('says', 'VERB'), ('*T*-2', 'X'), ('Douglas', 'NOUN'), ('Bailey', 'NOUN'), (',', '.'), ('a', 'DET'), ('political', 'ADJ'), ('consultant', 'NOUN'), (',', '.'), ('``', '.'), ('your', 'PRON'), ('TV', 'NOUN'), ('ad', 'NOUN'), ('needs', 'VERB'), ('*-1', 'X'), ('to', 'PRT'), ('be', 'VERB'), ('bold', 'ADJ'), ('and', 'CONJ'), ('entertaining', 'X'), (',', '.'), ('and', 'CONJ'), (',', '.'), ('more', 'ADV'), ('often', 'ADV'), ('than', 'ADP'), ('not', 'ADV'), (',', '.'), ('that', 'DET'), ('means', 'NOUN'), ('confrontational', 'X'), ('.', '.'), ('Officials', 'NOUN'), ('from', 'ADP'), ('both', 'DET'), ('nations', 'NOUN'), ('say', 'VERB'), ('0', 'X'), ('the', 'DET'), ('U.S.', 'NOUN'), ('public', 'NOUN'), (\"'s\", 'PRT'), ('skittishness', 'X'), ('about', 'ADP'), ('Japanese', 'ADJ'), ('investment', 'NOUN'), ('could', 'VERB'), ('color', 'NOUN'), ('a', 'DET'), ('second', 'ADJ'), ('round', 'NOUN'), ('of', 'ADP'), ('bilateral', 'ADJ'), ('economic', 'ADJ'), ('talks', 'NOUN'), ('scheduled', 'VERB'), ('*', 'X'), ('for', 'ADP'), ('next', 'ADJ'), ('week', 'NOUN'), ('in', 'ADP'), ('Washington', 'NOUN'), ('.', '.'), ('Gasoline', 'NOUN'), ('futures', 'NOUN'), ('continued', 'VERB'), ('a', 'DET'), ('sell-off', 'X'), ('that', 'ADP'), ('*T*-1', 'X'), ('began', 'VERB'), ('Monday', 'NOUN'), ('.', '.'), ('Lawyers', 'NOUN'), ('worry', 'VERB'), ('that', 'ADP'), ('if', 'ADP'), ('they', 'PRON'), ('provide', 'VERB'), ('information', 'NOUN'), ('about', 'ADP'), ('clients', 'NOUN'), (',', '.'), ('that', 'DET'), ('data', 'NOUN'), ('could', 'VERB'), ('quickly', 'ADV'), ('end', 'VERB'), ('up', 'ADV'), ('in', 'ADP'), ('the', 'DET'), ('hands', 'NOUN'), ('of', 'ADP'), ('prosecutors', 'NOUN'), ('.', '.'), ('They', 'PRON'), ('mature', 'VERB'), ('in', 'ADP'), ('2005', 'NUM'), (',', '.'), ('2009', 'NUM'), ('and', 'CONJ'), ('2029', 'NUM'), ('.', '.'), ('Some', 'DET'), ('Democrats', 'NOUN'), (',', '.'), ('led', 'VERB'), ('*', 'X'), ('by', 'ADP'), ('Rep.', 'NOUN'), ('Jack', 'NOUN'), ('Brooks', 'X'), ('-LRB-', '.'), ('D.', 'NOUN'), (',', '.'), ('Texas', 'NOUN'), ('-RRB-', '.'), (',', '.'), ('unsuccessfully', 'ADV'), ('opposed', 'VERB'), ('the', 'DET'), ('measure', 'NOUN'), ('because', 'ADP'), ('they', 'PRON'), ('fear', 'NOUN'), ('that', 'ADP'), ('the', 'DET'), ('fees', 'NOUN'), ('may', 'VERB'), ('not', 'ADV'), ('fully', 'ADV'), ('make', 'VERB'), ('up', 'ADV'), ('for', 'ADP'), ('the', 'DET'), ('budget', 'NOUN'), ('cuts', 'NOUN'), ('.', '.'), ('They', 'PRON'), ('will', 'VERB'), ('mature', 'VERB'), ('Dec.', 'NOUN'), ('21', 'NUM'), ('.', '.'), ('Reasons', 'X'), ('for', 'ADP'), ('the', 'DET'), ('walkout', 'X'), (',', '.'), ('the', 'DET'), ('analyst', 'NOUN'), ('said', 'VERB'), ('0', 'X'), ('*T*-1', 'X'), (',', '.'), ('included', 'VERB'), ('a', 'DET'), ('number', 'NOUN'), ('of', 'ADP'), ('procedural', 'X'), ('issues', 'NOUN'), (',', '.'), ('such', 'ADJ'), ('as', 'ADP'), ('a', 'DET'), ('right', 'NOUN'), ('*', 'X'), ('to', 'PRT'), ('strike', 'NOUN'), ('.', '.'), ('As', 'ADP'), ('a', 'DET'), ('result', 'NOUN'), (',', '.'), ('Fed', 'NOUN'), ('officials', 'NOUN'), ('may', 'VERB'), ('be', 'VERB'), ('divided', 'VERB'), ('*-102', 'X'), ('over', 'ADP'), ('whether', 'ADP'), ('*-102', 'X'), ('to', 'PRT'), ('ease', 'VERB'), ('credit', 'NOUN'), ('.', '.'), ('Mr.', 'NOUN'), ('Baldwin', 'NOUN'), ('is', 'VERB'), ('also', 'ADV'), ('attacking', 'X'), ('the', 'DET'), ('greater', 'ADJ'), ('problem', 'NOUN'), (':', '.'), ('lack', 'NOUN'), ('of', 'ADP'), ('ringers', 'NOUN'), ('.', '.'), ('Mrs.', 'NOUN'), ('Gorman', 'NOUN'), ('took', 'VERB'), ('advantage', 'NOUN'), ('of', 'ADP'), ('low', 'ADJ'), ('prices', 'NOUN'), ('after', 'ADP'), ('the', 'DET'), ('1987', 'NUM'), ('crash', 'NOUN'), ('*-1', 'X'), ('to', 'PRT'), ('buy', 'VERB'), ('stocks', 'NOUN'), ('and', 'CONJ'), ('has', 'VERB'), ('hunted', 'X'), ('for', 'ADP'), ('other', 'ADJ'), ('bargains', 'X'), ('since', 'ADP'), ('the', 'DET'), ('Oct.', 'NOUN'), ('13', 'NUM'), ('plunge', 'NOUN'), ('.', '.'), ('President', 'NOUN'), ('Bush', 'NOUN'), ('should', 'VERB'), ('veto', 'NOUN'), ('appropriations', 'NOUN'), ('acts', 'VERB'), ('that', 'ADP'), ('*T*-1', 'X'), ('contain', 'VERB'), ('these', 'DET'), ('kinds', 'NOUN'), ('of', 'ADP'), ('unconstitutional', 'ADJ'), ('conditions', 'NOUN'), ('on', 'ADP'), ('the', 'DET'), ('president', 'NOUN'), (\"'s\", 'PRT'), ('ability', 'NOUN'), ('*', 'X'), ('to', 'PRT'), ('discharge', 'VERB'), ('his', 'PRON'), ('duties', 'NOUN'), ('and', 'CONJ'), ('exercise', 'VERB'), ('his', 'PRON'), ('prerogatives', 'NOUN'), ('.', '.'), ('The', 'DET'), ('Michigan', 'NOUN'), ('Democrat', 'NOUN'), (\"'s\", 'PRT'), ('proposal', 'NOUN'), (',', '.'), ('which', 'DET'), ('*T*-4', 'X'), ('is', 'VERB'), ('expected', 'VERB'), ('*-2', 'X'), ('today', 'NOUN'), (',', '.'), ('is', 'VERB'), ('described', 'VERB'), ('*-1', 'X'), ('by', 'ADP'), ('government', 'NOUN'), ('sources', 'NOUN'), ('and', 'CONJ'), ('lobbyists', 'NOUN'), ('as', 'ADP'), ('significantly', 'ADV'), ('weaker', 'ADJ'), ('than', 'ADP'), ('the', 'DET'), ('Bush', 'NOUN'), ('administration', 'NOUN'), (\"'s\", 'PRT'), ('plan', 'NOUN'), ('*', 'X'), ('to', 'PRT'), ('cut', 'VERB'), ('utility', 'NOUN'), ('emissions', 'NOUN'), ('that', 'ADP'), ('*T*-3', 'X'), ('lead', 'VERB'), ('to', 'PRT'), ('acid', 'ADJ'), ('rain', 'NOUN'), ('.', '.'), ('Federal', 'NOUN'), ('judges', 'NOUN'), ('make', 'VERB'), ('$', '.'), ('89,500', 'X'), ('*U*', 'X'), ('annually', 'ADV'), (';', '.'), ('in', 'ADP'), ('February', 'NOUN'), (',', '.'), ('Congress', 'NOUN'), ('rejected', 'VERB'), ('a', 'DET'), ('bill', 'NOUN'), ('that', 'ADP'), ('*T*-1', 'X'), ('would', 'VERB'), ('have', 'VERB'), ('increased', 'VERB'), ('their', 'PRON'), ('pay', 'VERB'), ('by', 'ADP'), ('50', 'NUM'), ('%', 'NOUN'), ('.', '.'), ('Junk-bond', 'X'), ('markdowns', 'NOUN'), (',', '.'), ('an', 'DET'), ('ongoing', 'ADJ'), ('Securities', 'NOUN'), ('and', 'CONJ'), ('Exchange', 'NOUN'), ('Commission', 'NOUN'), ('investigation', 'NOUN'), (',', '.'), ('a', 'DET'), ('Drexel', 'NOUN'), ('Burnham', 'NOUN'), ('Lambert', 'NOUN'), ('connection', 'NOUN'), (',', '.'), ('a', 'DET'), ('fizzled', 'X'), ('buy-out', 'NOUN'), ('rumor', 'NOUN'), ('.', '.'), ('Traders', 'NOUN'), ('said', 'VERB'), ('0', 'X'), ('prices', 'NOUN'), ('also', 'ADV'), ('were', 'VERB'), ('supported', 'VERB'), ('*-1', 'X'), ('by', 'ADP'), ('widespread', 'ADJ'), ('rumors', 'NOUN'), ('that', 'ADP'), ('the', 'DET'), ('Soviet', 'ADJ'), ('Union', 'NOUN'), ('is', 'VERB'), ('on', 'ADP'), ('the', 'DET'), ('verge', 'X'), ('of', 'ADP'), ('*', 'X'), ('receiving', 'VERB'), ('most', 'ADV'), ('favored', 'VERB'), ('nation', 'NOUN'), ('status', 'NOUN'), ('from', 'ADP'), ('the', 'DET'), ('U.S.', 'NOUN'), ('.', '.'), ('Although', 'ADP'), ('*-1', 'X'), ('started', 'VERB'), ('in', 'ADP'), ('1965', 'NUM'), (',', '.'), ('Wedtech', 'NOUN'), ('did', 'VERB'), (\"n't\", 'ADV'), ('really', 'ADV'), ('get', 'VERB'), ('*-1', 'X'), ('rolling', 'X'), ('until', 'ADP'), ('1975', 'NUM'), (',', '.'), ('when', 'ADV'), ('Mr.', 'NOUN'), ('Neuberger', 'NOUN'), ('discovered', 'VERB'), ('the', 'DET'), ('federal', 'ADJ'), ('government', 'NOUN'), (\"'s\", 'PRT'), ('Section', 'NOUN'), ('8', 'NUM'), ('-LRB-', '.'), ('A', 'DET'), ('-RRB-', '.'), ('minority', 'NOUN'), ('business', 'NOUN'), ('program', 'NOUN'), ('*T*-2', 'X'), ('.', '.'), ('The', 'DET'), ('Bush', 'NOUN'), ('administration', 'NOUN'), (\"'s\", 'PRT'), ('nomination', 'NOUN'), ('of', 'ADP'), ('Clarence', 'X'), ('Thomas', 'NOUN'), ('to', 'PRT'), ('a', 'DET'), ('seat', 'NOUN'), ('on', 'ADP'), ('the', 'DET'), ('federal', 'ADJ'), ('appeals', 'NOUN'), ('court', 'NOUN'), ('here', 'ADV'), ('received', 'VERB'), ('a', 'DET'), ('blow', 'NOUN'), ('this', 'DET'), ('week', 'NOUN'), ('when', 'ADV'), ('the', 'DET'), ('American', 'ADJ'), ('Bar', 'NOUN'), ('Association', 'NOUN'), ('gave', 'VERB'), ('Mr.', 'NOUN'), ('Thomas', 'NOUN'), ('only', 'ADV'), ('a', 'DET'), ('``', '.'), ('qualified', 'VERB'), (\"''\", '.'), ('rating', 'NOUN'), (',', '.'), ('rather', 'ADV'), ('than', 'ADP'), ('``', '.'), ('well', 'ADV'), ('qualified', 'VERB'), ('*T*-1', 'X'), ('.', '.'), (\"''\", '.'), ('Another', 'DET'), ('women', 'NOUN'), ('wrote', 'VERB'), ('from', 'ADP'), ('Sheffield', 'X'), ('*-1', 'X'), ('to', 'PRT'), ('say', 'VERB'), ('that', 'ADP'), ('in', 'ADP'), ('her', 'PRON'), ('60', 'NUM'), ('years', 'NOUN'), ('of', 'ADP'), ('ringing', 'NOUN'), (',', '.'), ('``', '.'), ('I', 'PRON'), ('have', 'VERB'), ('never', 'ADV'), ('known', 'VERB'), ('a', 'DET'), ('lady', 'NOUN'), ('to', 'PRT'), ('faint', 'X'), ('in', 'ADP'), ('the', 'DET'), ('belfry', 'NOUN'), ('.', '.'), ('In', 'ADP'), ('addition', 'NOUN'), (',', '.'), ('the', 'DET'), ('U.S.', 'NOUN'), ('this', 'DET'), ('year', 'NOUN'), ('offered', 'VERB'), ('its', 'PRON'), ('own', 'ADJ'), ('plan', 'NOUN'), ('for', 'ADP'), ('cooperation', 'NOUN'), ('around', 'ADP'), ('the', 'DET'), ('Pacific', 'NOUN'), ('rim', 'X'), ('in', 'ADP'), ('a', 'DET'), ('major', 'ADJ'), ('speech', 'NOUN'), ('by', 'ADP'), ('Secretary', 'NOUN'), ('of', 'ADP'), ('State', 'NOUN'), ('James', 'NOUN'), ('Baker', 'NOUN'), (',', '.'), ('following', 'VERB'), ('up', 'ADV'), ('a', 'DET'), ('proposal', 'NOUN'), ('made', 'VERB'), ('*', 'X'), ('in', 'ADP'), ('January', 'NOUN'), ('by', 'ADP'), ('Australian', 'ADJ'), ('Prime', 'NOUN'), ('Minister', 'NOUN'), ('Bob', 'NOUN'), ('Hawke', 'X'), ('.', '.'), ('But', 'CONJ'), ('in', 'ADP'), ('one', 'NUM'), ('of', 'ADP'), ('the', 'DET'), ('auctions', 'NOUN'), ('in', 'ADP'), ('question', 'NOUN'), (',', '.'), ('International', 'NOUN'), ('Business', 'NOUN'), ('Machines', 'NOUN'), ('Corp.', 'NOUN'), ('made', 'VERB'), ('a', 'DET'), ('bid', 'NOUN'), ('substantially', 'ADV'), ('higher', 'ADJ'), ('than', 'ADP'), ('the', 'DET'), ('Fujitsu', 'NOUN'), ('offer', 'NOUN'), (',', '.'), ('according', 'VERB'), ('to', 'PRT'), ('the', 'DET'), ('municipality', 'X'), ('.', '.'), ('Silver', 'NOUN'), ('is', 'VERB'), ('also', 'ADV'), ('under', 'ADP'), ('pressure', 'NOUN'), ('of', 'ADP'), ('``', '.'), ('extremely', 'ADV'), ('high', 'ADJ'), (\"''\", '.'), ('inventories', 'NOUN'), ('in', 'ADP'), ('warehouses', 'X'), ('of', 'ADP'), ('the', 'DET'), ('Commodity', 'NOUN'), ('Exchange', 'NOUN'), (',', '.'), ('he', 'PRON'), ('said', 'VERB'), ('0', 'X'), ('*T*-1', 'X'), ('.', '.'), ('October', 'NOUN'), ('sales', 'NOUN'), (',', '.'), ('compared', 'VERB'), ('*', 'X'), ('with', 'ADP'), ('the', 'DET'), ('previous', 'ADJ'), ('month', 'NOUN'), (',', '.'), ('inched', 'VERB'), ('down', 'ADV'), ('0.4', 'X'), ('%', 'NOUN'), ('.', '.'), ('The', 'DET'), ('court', 'NOUN'), ('rejected', 'VERB'), ('strict', 'ADJ'), ('liability', 'NOUN'), ('for', 'ADP'), ('prescription', 'X'), ('drugs', 'NOUN'), (',', '.'), ('*-1', 'X'), ('citing', 'VERB'), ('the', 'DET'), ('huge', 'ADJ'), (',', '.'), ('hidden', 'X'), ('social', 'ADJ'), ('costs', 'NOUN'), ('.', '.'), ('It', 'PRON'), ('also', 'ADV'), ('estimated', 'VERB'), ('that', 'ADP'), ('losses', 'NOUN'), ('from', 'ADP'), ('the', 'DET'), ('Oct.', 'NOUN'), ('17', 'NUM'), ('earthquake', 'NOUN'), ('in', 'ADP'), ('California', 'NOUN'), ('would', 'VERB'), ('be', 'VERB'), ('no', 'DET'), ('more', 'ADJ'), ('than', 'ADP'), ('$', '.'), ('6', 'NUM'), ('million', 'NUM'), ('*U*', 'X'), (',', '.'), ('and', 'CONJ'), ('would', 'VERB'), ('be', 'VERB'), ('included', 'VERB'), ('*-1', 'X'), ('in', 'ADP'), ('fourth-quarter', 'NOUN'), ('results', 'NOUN'), ('.', '.'), ('One', 'NUM'), ('big', 'ADJ'), ('reason', 'NOUN'), (':', '.'), ('thin', 'ADJ'), ('margins', 'NOUN'), ('.', '.'), ('Timex', 'NOUN'), ('is', 'VERB'), ('a', 'DET'), ('major', 'ADJ'), ('U.S.', 'NOUN'), ('producer', 'NOUN'), ('and', 'CONJ'), ('seller', 'NOUN'), ('of', 'ADP'), ('watches', 'NOUN'), (',', '.'), ('including', 'VERB'), ('low-priced', 'X'), ('battery-operated', 'X'), ('watches', 'NOUN'), ('assembled', 'VERB'), ('*', 'X'), ('in', 'ADP'), ('the', 'DET'), ('Philippines', 'NOUN'), ('and', 'CONJ'), ('other', 'ADJ'), ('developing', 'VERB'), ('nations', 'NOUN'), ('covered', 'VERB'), ('*', 'X'), ('by', 'ADP'), ('the', 'DET'), ('U.S.', 'NOUN'), ('tariff', 'NOUN'), ('preferences', 'X'), ('.', '.'), ('As', 'ADP'), ('a', 'DET'), ('private', 'ADJ'), ('company', 'NOUN'), (',', '.'), ('Random', 'NOUN'), ('House', 'NOUN'), ('does', 'VERB'), (\"n't\", 'ADV'), ('report', 'VERB'), ('its', 'PRON'), ('earnings', 'NOUN'), ('.', '.'), ('The', 'DET'), ('company', 'NOUN'), ('said', 'VERB'), ('that', 'ADP'), ('because', 'ADP'), ('of', 'ADP'), ('softening', 'X'), ('sales', 'NOUN'), ('it', 'PRON'), ('is', 'VERB'), (\"n't\", 'ADV'), ('in', 'ADP'), ('compliance', 'NOUN'), ('with', 'ADP'), ('requirements', 'NOUN'), ('that', 'ADP'), ('it', 'PRON'), ('maintain', 'VERB'), ('$', '.'), ('3', 'NUM'), ('million', 'NUM'), ('*U*', 'X'), ('in', 'ADP'), ('working', 'ADJ'), ('capital', 'NOUN'), ('.', '.'), ('The', 'DET'), ('insurance', 'NOUN'), ('and', 'CONJ'), ('financial', 'ADJ'), ('services', 'NOUN'), ('concern', 'NOUN'), ('said', 'VERB'), ('0', 'X'), ('profit', 'NOUN'), ('for', 'ADP'), ('the', 'DET'), ('quarter', 'NOUN'), ('rose', 'VERB'), ('1.1', 'NUM'), ('%', 'NOUN'), ('to', 'PRT'), ('$', '.'), ('93.9', 'X'), ('million', 'NUM'), ('*U*', 'X'), (',', '.'), ('or', 'CONJ'), ('$', '.'), ('1.19', 'X'), ('*U*', 'X'), ('a', 'DET'), ('share', 'NOUN'), (',', '.'), ('compared', 'VERB'), ('with', 'ADP'), ('$', '.'), ('92.9', 'X'), ('million', 'NUM'), ('*U*', 'X'), (',', '.'), ('or', 'CONJ'), ('$', '.'), ('1.18', 'X'), ('*U*', 'X'), ('a', 'DET'), ('share', 'NOUN'), (',', '.'), ('the', 'DET'), ('year', 'NOUN'), ('earlier', 'ADV'), ('.', '.'), ('And', 'CONJ'), ('consumer', 'NOUN'), ('groups', 'NOUN'), ('hope', 'NOUN'), ('that', 'ADP'), ('Judge', 'NOUN'), ('Curry', 'NOUN'), (\"'s\", 'PRT'), ('Byron', 'NOUN'), ('1', 'NUM'), ('order', 'NOUN'), ('may', 'VERB'), ('set', 'VERB'), ('a', 'DET'), ('precedent', 'NOUN'), ('for', 'ADP'), ('a', 'DET'), ('second', 'ADJ'), ('nuclear', 'ADJ'), ('rate', 'NOUN'), ('case', 'NOUN'), ('involving', 'VERB'), ('Commonwealth', 'NOUN'), ('Edison', 'NOUN'), (\"'s\", 'PRT'), ('Braidwood', 'NOUN'), ('2', 'NUM'), ('plant', 'NOUN'), ('.', '.'), ('The', 'DET'), ('department', 'NOUN'), (\"'s\", 'PRT'), ('roof-crush', 'ADJ'), ('proposal', 'NOUN'), ('would', 'VERB'), ('apply', 'VERB'), ('to', 'PRT'), ('vehicles', 'NOUN'), ('weighing', 'X'), ('10,000', 'NUM'), ('pounds', 'NOUN'), ('or', 'CONJ'), ('less', 'ADJ'), ('.', '.'), ('``', '.'), ('Strategic', 'X'), ('objectives', 'NOUN'), (',', '.'), ('not', 'ADV'), ('financial', 'ADJ'), ('return', 'NOUN'), (',', '.'), ('drive', 'VERB'), ('many', 'ADJ'), ('of', 'ADP'), ('the', 'DET'), ('deals', 'NOUN'), (',', '.'), (\"''\", '.'), ('says', 'VERB'), ('*T*-1', 'X'), ('a', 'DET'), ('Venture', 'NOUN'), ('Economics', 'NOUN'), ('spokesman', 'NOUN'), ('.', '.'), ('I', 'PRON'), ('was', 'VERB'), ('dumbfounded', 'X'), (',', '.'), (\"''\", '.'), ('Mrs.', 'NOUN'), ('Ward', 'NOUN'), ('recalls', 'X'), ('*T*-1', 'X'), ('.', '.'), ('She', 'PRON'), ('was', 'VERB'), ('an', 'DET'), ('unstinting', 'X'), ('teacher', 'NOUN'), ('who', 'PRON'), ('*T*-80', 'X'), ('won', 'VERB'), ('laurels', 'X'), ('and', 'CONJ'), ('inspired', 'VERB'), ('students', 'NOUN'), (',', '.'), ('but', 'CONJ'), ('she', 'PRON'), ('will', 'VERB'), ('probably', 'ADV'), ('never', 'ADV'), ('teach', 'VERB'), ('again', 'ADV'), ('.', '.'), ('U.S.', 'NOUN'), ('stock-index', 'NOUN'), ('futures', 'NOUN'), ('are', 'VERB'), (\"n't\", 'ADV'), ('even', 'ADV'), ('traded', 'VERB'), ('*-1', 'X'), ('in', 'ADP'), ('Japan', 'NOUN'), ('now', 'ADV'), ('.', '.'), ('That', 'DET'), ('process', 'NOUN'), ('of', 'ADP'), ('*', 'X'), ('sorting', 'X'), ('out', 'PRT'), ('specifics', 'X'), ('is', 'VERB'), ('likely', 'ADJ'), ('*-1', 'X'), ('to', 'PRT'), ('take', 'VERB'), ('time', 'NOUN'), (',', '.'), ('the', 'DET'), ('Japanese', 'ADJ'), ('say', 'VERB'), ('0', 'X'), ('*T*-2', 'X'), (',', '.'), ('no', 'DET'), ('matter', 'NOUN'), ('how', 'ADV'), ('badly', 'ADV'), ('the', 'DET'), ('U.S.', 'NOUN'), ('wants', 'VERB'), ('quick', 'ADJ'), ('results', 'NOUN'), ('*T*-3', 'X'), ('.', '.'), ('In', 'ADP'), ('Richmond', 'NOUN'), (',', '.'), ('Ind.', 'X'), (',', '.'), ('the', 'DET'), ('type', 'NOUN'), ('F', 'NOUN'), ('railing', 'NOUN'), ('is', 'VERB'), ('being', 'VERB'), ('used', 'VERB'), ('*-1', 'X'), ('*-2', 'X'), ('to', 'PRT'), ('replace', 'VERB'), ('arched', 'X'), ('openings', 'NOUN'), ('on', 'ADP'), ('the', 'DET'), ('G', 'X'), ('Street', 'NOUN'), ('Bridge', 'NOUN'), ('.', '.'), ('That', 'DET'), ('is', 'VERB'), ('just', 'ADV'), ('a', 'DET'), ('tad', 'X'), ('below', 'ADP'), ('the', 'DET'), ('average', 'ADJ'), ('of', 'ADP'), ('the', 'DET'), ('past', 'ADJ'), ('40', 'NUM'), ('years', 'NOUN'), ('or', 'CONJ'), ('so', 'ADV'), (',', '.'), ('he', 'PRON'), ('says', 'VERB'), ('0', 'X'), ('*T*-1', 'X'), ('.', '.'), ('Their', 'PRON'), ('books', 'NOUN'), ('are', 'VERB'), ('written', 'VERB'), ('*-1', 'X'), ('in', 'ADP'), ('idiomatic', 'X'), (',', '.'), ('contemporary', 'ADJ'), ('language', 'NOUN'), ('and', 'CONJ'), ('usually', 'ADV'), ('carry', 'VERB'), ('hefty', 'ADJ'), ('dashes', 'X'), ('of', 'ADP'), ('Americana', 'NOUN'), ('.', '.'), ('Output', 'X'), ('will', 'VERB'), ('be', 'VERB'), ('gradually', 'X'), ('increased', 'VERB'), ('*-1', 'X'), ('until', 'ADP'), ('it', 'PRON'), ('reaches', 'X'), ('about', 'ADP'), ('11,000', 'NUM'), ('barrels', 'NOUN'), ('a', 'DET'), ('day', 'NOUN'), ('.', '.'), ('``', '.'), ('The', 'DET'), ('IRS', 'NOUN'), ('is', 'VERB'), ('asking', 'VERB'), ('lawyers', 'NOUN'), ('*-1', 'X'), ('to', 'PRT'), ('red-flag', 'X'), ('a', 'DET'), ('criminal', 'ADJ'), ('problem', 'NOUN'), ('to', 'PRT'), ('the', 'DET'), ('government', 'NOUN'), (',', '.'), (\"''\", '.'), ('added', 'VERB'), ('Mr.', 'NOUN'), ('Sonnett', 'NOUN'), (',', '.'), ('a', 'DET'), ('Miami', 'NOUN'), ('lawyer', 'NOUN'), ('who', 'PRON'), ('*T*-128', 'X'), ('has', 'VERB'), ('heard', 'VERB'), ('from', 'ADP'), ('dozens', 'NOUN'), ('of', 'ADP'), ('attorneys', 'NOUN'), ('who', 'PRON'), ('*T*-129', 'X'), ('received', 'VERB'), ('letters', 'NOUN'), ('in', 'ADP'), ('recent', 'ADJ'), ('days', 'NOUN'), ('and', 'CONJ'), ('has', 'VERB'), ('himself', 'PRON'), ('received', 'VERB'), ('the', 'DET'), ('computer-generated', 'X'), ('IRS', 'NOUN'), ('forms', 'NOUN'), ('sent', 'VERB'), ('*', 'X'), ('by', 'ADP'), ('certified', 'X'), ('mail', 'X'), ('.', '.'), ('At', 'ADP'), ('the', 'DET'), ('same', 'ADJ'), ('time', 'NOUN'), (',', '.'), ('export', 'NOUN'), ('demand', 'NOUN'), ('for', 'ADP'), ('U.S.', 'NOUN'), ('wheat', 'NOUN'), (',', '.'), ('corn', 'NOUN'), ('and', 'CONJ'), ('other', 'ADJ'), ('commodities', 'NOUN'), ('strengthened', 'X'), (',', '.'), ('said', 'VERB'), ('*T*-1', 'X'), ('Keith', 'X'), ('Collins', 'NOUN'), (',', '.'), ('a', 'DET'), ('department', 'NOUN'), ('analyst', 'NOUN'), ('.', '.'), ('Mr.', 'NOUN'), ('Nichol', 'NOUN'), ('said', 'VERB'), ('0', 'X'), ('he', 'PRON'), ('was', 'VERB'), ('``', '.'), ('extremely', 'ADV'), ('disappointed', 'VERB'), ('in', 'ADP'), ('the', 'DET'), ('continuing', 'VERB'), ('deterioration', 'NOUN'), ('of', 'ADP'), ('the', 'DET'), ('company', 'NOUN'), (\"'s\", 'PRT'), ('operations', 'NOUN'), ('while', 'ADP'), ('it', 'PRON'), ('attempted', 'X'), ('*-1', 'X'), ('to', 'PRT'), ('conclude', 'VERB'), ('the', 'DET'), ('reorganization', 'NOUN'), ('during', 'ADP'), ('the', 'DET'), ('past', 'ADJ'), ('four', 'NUM'), ('months', 'NOUN'), ('.', '.'), (\"''\", '.'), ('*-1', 'X'), ('Stung', 'VERB'), ('by', 'ADP'), ('charges', 'NOUN'), ('that', 'ADP'), ('their', 'PRON'), ('greed', 'NOUN'), ('is', 'VERB'), ('turning', 'VERB'), ('the', 'DET'), ('stock', 'NOUN'), ('market', 'NOUN'), ('into', 'ADP'), ('a', 'DET'), ('gigantic', 'X'), ('crapshoot', 'X'), (',', '.'), ('almost', 'ADV'), ('all', 'DET'), ('the', 'DET'), ('big', 'ADJ'), ('investment', 'NOUN'), ('banking', 'NOUN'), ('houses', 'NOUN'), ('have', 'VERB'), ('abandoned', 'VERB'), ('index', 'NOUN'), ('arbitrage', 'NOUN'), (',', '.'), ('a', 'DET'), ('common', 'ADJ'), ('form', 'NOUN'), ('of', 'ADP'), ('program', 'NOUN'), ('trading', 'NOUN'), (',', '.'), ('for', 'ADP'), ('their', 'PRON'), ('own', 'ADJ'), ('accounts', 'NOUN'), ('in', 'ADP'), ('the', 'DET'), ('past', 'ADJ'), ('few', 'ADJ'), ('days', 'NOUN'), ('.', '.'), ('One', 'NUM'), ('official', 'NOUN'), ('newspaper', 'NOUN'), (',', '.'), ('Legal', 'X'), ('Daily', 'NOUN'), (',', '.'), ('even', 'ADV'), ('directly', 'ADV'), ('criticized', 'VERB'), ('Mr.', 'NOUN'), ('Nixon', 'NOUN'), (',', '.'), ('who', 'PRON'), ('*T*-240', 'X'), ('is', 'VERB'), ('normally', 'ADV'), ('referred', 'VERB'), ('to', 'PRT'), ('*T*-1', 'X'), ('here', 'ADV'), ('as', 'ADP'), ('an', 'DET'), ('``', '.'), ('old', 'ADJ'), ('friend', 'NOUN'), ('.', '.'), (\"''\", '.'), ('Drink', 'X'), ('Carrier', 'X'), ('Competes', 'X'), ('With', 'ADP'), ('Cartons', 'X'), ('The', 'DET'), ('State', 'NOUN'), ('Department', 'NOUN'), ('stressed', 'VERB'), ('the', 'DET'), ('pre-1933', 'X'), ('debts', 'NOUN'), ('as', 'ADP'), ('the', 'DET'), ('key', 'ADJ'), ('to', 'PRT'), ('*', 'X'), ('satisfying', 'X'), ('the', 'DET'), ('Johnson', 'NOUN'), ('Act', 'NOUN'), ('.', '.'), ('``', '.'), ('Who', 'PRON'), ('*T*-1', 'X'), (\"'s\", 'PRT'), ('really', 'ADV'), ('lying', 'VERB'), ('?', '.'), (\"''\", '.'), ('asks', 'VERB'), ('*T*-2', 'X'), ('a', 'DET'), ('female', 'ADJ'), ('voice', 'NOUN'), ('.', '.'), ('The', 'DET'), ('St.', 'NOUN'), ('Louis', 'NOUN'), ('company', 'NOUN'), ('earned', 'VERB'), ('$', '.'), ('45.2', 'X'), ('million', 'NUM'), ('*U*', 'X'), (',', '.'), ('or', 'CONJ'), ('65', 'NUM'), ('cents', 'NOUN'), ('a', 'DET'), ('share', 'NOUN'), (',', '.'), ('compared', 'VERB'), ('with', 'ADP'), ('$', '.'), ('84.9', 'X'), ('million', 'NUM'), ('*U*', 'X'), (',', '.'), ('or', 'CONJ'), ('$', '.'), ('1.24', 'X'), ('*U*', 'X'), ('a', 'DET'), ('share', 'NOUN'), (',', '.'), ('a', 'DET'), ('year', 'NOUN'), ('earlier', 'ADV'), ('.', '.'), ('The', 'DET'), ('yield', 'NOUN'), ('fell', 'VERB'), ('to', 'PRT'), ('7.88', 'NUM'), ('%', 'NOUN'), ('.', '.'), ('While', 'ADP'), ('it', 'PRON'), ('breaks', 'VERB'), ('down', 'ADV'), ('in', 'ADP'), ('prolonged', 'VERB'), ('sunlight', 'X'), (',', '.'), ('it', 'PRON'), ('is', 'VERB'), (\"n't\", 'ADV'), ('recyclable', 'X'), ('.', '.'), ('International', 'NOUN'), ('Business', 'NOUN'), ('Machines', 'NOUN'), ('Corp.', 'NOUN'), ('--', '.'), ('New', 'NOUN'), ('England', 'NOUN'), ('Electric', 'NOUN'), (',', '.'), ('based', 'VERB'), ('*', 'X'), ('in', 'ADP'), ('Westborough', 'X'), (',', '.'), ('Mass.', 'NOUN'), (',', '.'), ('had', 'VERB'), ('offered', 'VERB'), ('$', '.'), ('2', 'NUM'), ('billion', 'NUM'), ('*U*', 'X'), ('*ICH*-1', 'X'), ('*-4', 'X'), ('to', 'PRT'), ('acquire', 'VERB'), ('PS', 'NOUN'), ('of', 'ADP'), ('New', 'NOUN'), ('Hampshire', 'NOUN'), (',', '.'), ('well', 'ADV'), ('below', 'ADP'), ('the', 'DET'), ('$', '.'), ('2.29', 'X'), ('billion', 'NUM'), ('*U*', 'X'), ('value', 'NOUN'), ('0', 'X'), ('United', 'NOUN'), ('Illuminating', 'NOUN'), ('places', 'NOUN'), ('*T*-2', 'X'), ('on', 'ADP'), ('its', 'PRON'), ('bid', 'NOUN'), ('and', 'CONJ'), ('the', 'DET'), ('$', '.'), ('2.25', 'X'), ('billion', 'NUM'), ('*U*', 'X'), ('0', 'X'), ('Northeast', 'NOUN'), ('says', 'VERB'), ('0', 'X'), ('its', 'PRON'), ('bid', 'NOUN'), ('is', 'VERB'), ('worth', 'ADJ'), ('*T*-3', 'X'), ('.', '.'), ('And', 'CONJ'), ('several', 'ADJ'), ('new', 'ADJ'), ('funds', 'NOUN'), ('that', 'ADP'), ('*T*-44', 'X'), ('are', 'VERB'), (\"n't\", 'ADV'), ('even', 'ADV'), ('fully', 'ADV'), ('invested', 'VERB'), ('yet', 'ADV'), ('have', 'VERB'), ('jumped', 'VERB'), ('*-1', 'X'), ('to', 'PRT'), ('trade', 'VERB'), ('at', 'ADP'), ('big', 'ADJ'), ('premiums', 'NOUN'), ('.', '.'), ('A', 'DET'), ('Department', 'NOUN'), ('of', 'ADP'), ('Health', 'NOUN'), ('and', 'CONJ'), ('Human', 'NOUN'), ('Services', 'NOUN'), ('rule', 'NOUN'), ('adopted', 'VERB'), ('*', 'X'), ('in', 'ADP'), ('1988', 'NUM'), ('prohibits', 'VERB'), ('the', 'DET'), ('use', 'NOUN'), ('of', 'ADP'), ('so-called', 'ADJ'), ('Title', 'NOUN'), ('X', 'NOUN'), ('funds', 'NOUN'), ('for', 'ADP'), ('programs', 'NOUN'), ('that', 'ADP'), ('*T*-136', 'X'), ('assist', 'VERB'), ('a', 'DET'), ('woman', 'NOUN'), ('in', 'ADP'), ('*-1', 'X'), ('obtaining', 'X'), ('an', 'DET'), ('abortion', 'NOUN'), (',', '.'), ('such', 'ADJ'), ('as', 'ADP'), ('abortion', 'NOUN'), ('counseling', 'NOUN'), ('and', 'CONJ'), ('referrals', 'X'), ('.', '.'), ('The', 'DET'), ('U.S.', 'NOUN'), ('International', 'NOUN'), ('Trade', 'NOUN'), ('Commission', 'NOUN'), ('issued', 'VERB'), ('preliminary', 'ADJ'), ('rulings', 'NOUN'), ('under', 'ADP'), ('the', 'DET'), ('U.S.', 'NOUN'), ('anti-dumping', 'ADJ'), ('act', 'NOUN'), ('that', 'ADP'), ('imports', 'NOUN'), ('of', 'ADP'), ('sweaters', 'NOUN'), ('from', 'ADP'), ('Hong', 'NOUN'), ('Kong', 'NOUN'), (',', '.'), ('Taiwan', 'NOUN'), ('and', 'CONJ'), ('South', 'NOUN'), ('Korea', 'NOUN'), ('may', 'VERB'), ('be', 'VERB'), ('injuring', 'X'), ('a', 'DET'), ('domestic', 'ADJ'), ('industry', 'NOUN'), ('.', '.'), ('The', 'DET'), ('Chinese', 'ADJ'), ('responded', 'VERB'), ('in', 'ADP'), ('an', 'DET'), ('equally', 'ADV'), ('undiplomatic', 'X'), ('fashion', 'X'), ('.', '.'), ('$', '.'), ('750', 'NUM'), ('million', 'NUM'), ('*U*', 'X'), ('of', 'ADP'), ('8', 'NUM'), ('3\\\\/8', 'NUM'), ('%', 'NOUN'), ('debentures', 'NOUN'), ('due', 'ADJ'), ('Nov.', 'NOUN'), ('1', 'NUM'), (',', '.'), ('2019', 'NUM'), (',', '.'), ('priced', 'VERB'), ('*', 'X'), ('at', 'ADP'), ('99', 'NUM'), ('*', 'X'), ('to', 'PRT'), ('yield', 'VERB'), ('8.467', 'X'), ('%', 'NOUN'), ('.', '.'), ('The', 'DET'), ('exchange', 'NOUN'), ('also', 'ADV'), ('said', 'VERB'), ('that', 'ADP'), ('the', 'DET'), ('30-point', 'ADJ'), ('circuit', 'NOUN'), ('breaker', 'NOUN'), (',', '.'), ('which', 'DET'), ('*T*-212', 'X'), ('currently', 'ADV'), ('provides', 'VERB'), ('only', 'ADV'), ('a', 'DET'), ('one-hour', 'ADJ'), ('respite', 'X'), ('during', 'ADP'), ('market', 'NOUN'), ('sell-offs', 'X'), (',', '.'), ('will', 'VERB'), ('become', 'VERB'), ('the', 'DET'), ('maximum', 'X'), ('one-day', 'X'), ('limit', 'VERB'), ('for', 'ADP'), ('the', 'DET'), ('S&P', 'NOUN'), ('500', 'NUM'), ('stock-index', 'NOUN'), ('futures', 'NOUN'), ('contract', 'NOUN'), (';', '.'), ('the', 'DET'), ('one-day', 'X'), ('limit', 'VERB'), ('now', 'ADV'), ('is', 'VERB'), ('50', 'NUM'), ('index', 'NOUN'), ('points', 'NOUN'), ('.', '.'), ('The', 'DET'), ('program', 'NOUN'), ('traders', 'NOUN'), (',', '.'), ('on', 'ADP'), ('the', 'DET'), ('other', 'ADJ'), ('hand', 'NOUN'), (',', '.'), ('portray', 'X'), ('old-fashioned', 'X'), ('stock', 'NOUN'), ('pickers', 'NOUN'), ('as', 'ADP'), ('the', 'DET'), ('Neanderthals', 'X'), ('of', 'ADP'), ('the', 'DET'), ('industry', 'NOUN'), ('.', '.'), ('Comprehensive', 'NOUN'), ('Care', 'NOUN'), ('had', 'VERB'), ('agreed', 'VERB'), ('*-2', 'X'), ('to', 'PRT'), ('be', 'VERB'), ('acquired', 'VERB'), ('*-1', 'X'), ('by', 'ADP'), ('closely', 'ADV'), ('held', 'VERB'), ('First', 'NOUN'), ('Hospital', 'NOUN'), ('Corp.', 'NOUN'), ('of', 'ADP'), ('Norfolk', 'X'), (',', '.'), ('Va.', 'NOUN'), (',', '.'), ('but', 'CONJ'), ('the', 'DET'), ('sale', 'NOUN'), ('sputtered', 'X'), ('almost', 'ADV'), ('from', 'ADP'), ('the', 'DET'), ('beginning', 'NOUN'), ('and', 'CONJ'), ('finally', 'ADV'), ('collapsed', 'VERB'), ('last', 'ADJ'), ('week', 'NOUN'), ('.', '.'), ('The', 'DET'), ('magazine', 'NOUN'), ('combines', 'NOUN'), ('how-to', 'X'), ('pieces', 'X'), ('on', 'ADP'), ('topics', 'NOUN'), ('like', 'ADP'), ('backyard', 'X'), ('composting', 'X'), (',', '.'), ('explanatory', 'X'), ('essays', 'X'), ('on', 'ADP'), ('such', 'ADJ'), ('things', 'NOUN'), ('as', 'ADP'), ('what', 'PRON'), ('*T*-1', 'X'), ('happens', 'X'), ('after', 'ADP'), ('you', 'PRON'), ('flush', 'X'), ('your', 'PRON'), ('toilet', 'X'), (',', '.'), ('and', 'CONJ'), ('hard-hitting', 'X'), ('pieces', 'X'), ('on', 'ADP'), ('alleged', 'ADJ'), ('environmental', 'ADJ'), ('offenders', 'NOUN'), ('.', '.'), ('The', 'DET'), ('location', 'NOUN'), ('was', 'VERB'), ('disclosed', 'VERB'), ('*-4', 'X'), ('as', 'ADP'), ('the', 'DET'), ('U.S.', 'NOUN'), ('began', 'VERB'), ('*-1', 'X'), ('planning', 'VERB'), ('the', 'DET'), ('issues', 'NOUN'), ('0', 'X'), ('*T*-2', 'X'), ('to', 'PRT'), ('be', 'VERB'), ('discussed', 'VERB'), ('*-5', 'X'), ('at', 'ADP'), ('the', 'DET'), ('Dec.', 'NOUN'), ('2-3', 'X'), ('tete-a-tete', 'X'), ('.', '.'), ('The', 'DET'), ('great', 'ADJ'), ('reds', 'X'), ('of', 'ADP'), ('the', 'DET'), ('Rhone', 'X'), ('Valley', 'NOUN'), ('have', 'VERB'), ('soared', 'VERB'), ('in', 'ADP'), ('price', 'NOUN'), ('as', 'ADP'), ('well', 'ADV'), ('.', '.'), ('Enterprise', 'NOUN'), ('Rent-A-Car', 'X'), ('Inc.', 'NOUN'), ('breaks', 'VERB'), ('its', 'PRON'), ('first', 'ADJ'), ('national', 'ADJ'), ('ad', 'NOUN'), ('campaign', 'NOUN'), ('this', 'DET'), ('week', 'NOUN'), ('.', '.'), ('The', 'DET'), ('funding', 'NOUN'), ('is', 'VERB'), ('attached', 'VERB'), ('*-11', 'X'), ('to', 'PRT'), ('an', 'DET'), ('estimated', 'VERB'), ('$', '.'), ('27.1', 'X'), ('billion', 'NUM'), ('*U*', 'X'), ('transportation', 'NOUN'), ('bill', 'NOUN'), ('that', 'ADP'), ('*T*-1', 'X'), ('goes', 'VERB'), ('*ICH*-2', 'X'), ('next', 'ADJ'), ('to', 'PRT'), ('the', 'DET'), ('Senate', 'NOUN'), ('and', 'CONJ'), ('carries', 'VERB'), ('with', 'ADP'), ('it', 'PRON'), ('a', 'DET'), ('proposed', 'VERB'), ('permanent', 'ADJ'), ('smoking', 'NOUN'), ('ban', 'NOUN'), ('on', 'ADP'), ('virtually', 'ADV'), ('all', 'DET'), ('U.S.', 'NOUN'), ('domestic', 'ADJ'), ('airline', 'NOUN'), ('flights', 'NOUN'), ('.', '.'), ('A', 'DET'), ('Shearson', 'NOUN'), ('spokesman', 'NOUN'), ('had', 'VERB'), ('no', 'DET'), ('comment', 'NOUN'), ('.', '.'), ('Yesterday', 'NOUN'), (',', '.'), ('Carnival', 'NOUN'), ('said', 'VERB'), ('0', 'X'), ('a', 'DET'), ('new', 'ADJ'), ('company', 'NOUN'), ('*ICH*-1', 'X'), ('has', 'VERB'), ('been', 'VERB'), ('formed', 'VERB'), ('*-2', 'X'), ('in', 'ADP'), ('Finland', 'NOUN'), ('that', 'ADP'), ('*T*-3', 'X'), ('will', 'VERB'), ('carry', 'VERB'), ('on', 'ADP'), ('Waertsilae', 'NOUN'), (\"'s\", 'PRT'), ('shipbuilding', 'NOUN'), ('operations', 'NOUN'), ('.', '.'), ('They', 'PRON'), ('do', 'VERB'), (\"n't\", 'ADV'), ('have', 'VERB'), ('plans', 'VERB'), ('*', 'X'), ('to', 'PRT'), ('cut', 'VERB'), ('back', 'ADV'), ('.', '.'), ('It', 'PRON'), ('would', 'VERB'), ('contradict', 'VERB'), ('that', 'ADP'), ('objective', 'NOUN'), ('if', 'ADP'), ('the', 'DET'), ('appropriations', 'NOUN'), ('clause', 'NOUN'), ('-LRB-', '.'), ('technically', 'X'), ('a', 'DET'), ('limitation', 'X'), ('on', 'ADP'), ('legislative', 'ADJ'), ('power', 'NOUN'), ('-RRB-', '.'), ('could', 'VERB'), ('be', 'VERB'), ('read', 'VERB'), ('*-52', 'X'), ('as', 'ADP'), ('*-52', 'X'), ('placing', 'VERB'), ('the', 'DET'), ('president', 'NOUN'), ('on', 'ADP'), ('Congress', 'NOUN'), (\"'s\", 'PRT'), ('short', 'ADJ'), ('leash', 'X'), (',', '.'), ('*-52', 'X'), ('making', 'VERB'), ('the', 'DET'), ('executive', 'ADJ'), ('consist', 'VERB'), ('of', 'ADP'), ('the', 'DET'), ('president', 'NOUN'), ('and', 'CONJ'), ('every', 'DET'), ('member', 'NOUN'), ('of', 'ADP'), ('Congress', 'NOUN'), ('.', '.'), ('``', '.'), ('Now', 'ADV'), (',', '.'), (\"''\", '.'), ('says', 'VERB'), ('*T*-1', 'X'), ('Joseph', 'NOUN'), ('Napolitan', 'X'), (',', '.'), ('a', 'DET'), ('pioneer', 'NOUN'), ('in', 'ADP'), ('political', 'ADJ'), ('television', 'NOUN'), (',', '.'), ('``', '.'), ('the', 'DET'), ('idea', 'NOUN'), ('is', 'VERB'), ('*', 'X'), ('to', 'PRT'), ('attack', 'NOUN'), ('first', 'ADJ'), (',', '.'), ('last', 'ADJ'), ('and', 'CONJ'), ('always', 'ADV'), ('.', '.'), (\"''\", '.'), ('The', 'DET'), ('broader', 'ADJ'), ('question', 'NOUN'), ('is', 'VERB'), ('where', 'ADV'), ('the', 'DET'), ('Senate', 'NOUN'), ('stands', 'VERB'), ('*T*-1', 'X'), ('on', 'ADP'), ('the', 'DET'), ('issue', 'NOUN'), ('.', '.'), ('Oh', 'X'), (',', '.'), ('you', 'PRON'), (\"'re\", 'VERB'), ('in', 'ADP'), ('the', 'DET'), ('paper', 'NOUN'), ('business', 'NOUN'), (',', '.'), (\"''\", '.'), ('is', 'VERB'), ('one', 'NUM'), ('reaction', 'NOUN'), ('0', 'X'), ('Mr.', 'NOUN'), ('Sigler', 'NOUN'), ('says', 'VERB'), ('0', 'X'), ('he', 'PRON'), (\"'s\", 'VERB'), ('gotten', 'VERB'), ('*T*-1', 'X'), ('from', 'ADP'), ('his', 'PRON'), ('big', 'ADJ'), ('institutional', 'ADJ'), ('shareholders', 'NOUN'), ('.', '.'), ('The', 'DET'), ('compromise', 'NOUN'), ('sets', 'NOUN'), ('the', 'DET'), ('training', 'NOUN'), ('wage', 'NOUN'), ('at', 'ADP'), ('$', '.'), ('3.35', 'NUM'), ('*U*', 'X'), ('an', 'DET'), ('hour', 'NOUN'), ('next', 'ADP'), ('April', 'NOUN'), (',', '.'), ('and', 'CONJ'), ('at', 'ADP'), ('$', '.'), ('3.61', 'X'), ('*U*', 'X'), ('an', 'DET'), ('hour', 'NOUN'), (',', '.'), ('or', 'CONJ'), ('85', 'NUM'), ('%', 'NOUN'), ('of', 'ADP'), ('the', 'DET'), ('minimum', 'ADJ'), ('wage', 'NOUN'), (',', '.'), ('in', 'ADP'), ('April', 'NOUN'), ('1991', 'NUM'), ('.', '.'), ('``', '.'), ('It', 'PRON'), (\"'s\", 'VERB'), ('an', 'DET'), ('odd', 'ADJ'), ('thing', 'NOUN'), ('0', 'X'), ('*', 'X'), ('to', 'PRT'), ('put', 'VERB'), ('*T*-1', 'X'), ('on', 'ADP'), ('the', 'DET'), ('list', 'NOUN'), (',', '.'), (\"''\", '.'), ('Mr.', 'NOUN'), ('Bretz', 'NOUN'), ('noted', 'VERB'), ('*T*-2', 'X'), ('.', '.'), ('Despite', 'ADP'), ('the', 'DET'), ('enormous', 'ADJ'), ('sums', 'NOUN'), ('of', 'ADP'), ('money', 'NOUN'), ('0', 'X'), ('they', 'PRON'), (\"'re\", 'VERB'), ('paid', 'VERB'), ('*T*-1', 'X'), ('*-2', 'X'), ('to', 'PRT'), ('stand', 'VERB'), ('up', 'ADV'), ('at', 'ADP'), ('a', 'DET'), ('Japanese', 'ADJ'), ('plate', 'NOUN'), (',', '.'), ('a', 'DET'), ('good', 'ADJ'), ('number', 'NOUN'), ('decide', 'VERB'), ('0', 'X'), ('it', 'PRON'), (\"'s\", 'VERB'), ('not', 'ADV'), ('worth', 'ADJ'), ('it', 'PRON'), ('and', 'CONJ'), ('run', 'VERB'), ('for', 'ADP'), ('home', 'NOUN'), ('.', '.'), ('FEDERAL', 'NOUN'), ('FUNDS', 'X'), (':', '.'), ('9', 'NUM'), ('1\\\\/2', 'NUM'), ('%', 'NOUN'), ('high', 'ADJ'), (',', '.'), ('8', 'NUM'), ('3\\\\/4', 'NUM'), ('%', 'NOUN'), ('low', 'ADJ'), (',', '.'), ('8', 'NUM'), ('3\\\\/4', 'NUM'), ('%', 'NOUN'), ('near', 'ADP'), ('closing', 'ADJ'), ('bid', 'NOUN'), (',', '.'), ('9', 'NUM'), ('%', 'NOUN'), ('offered', 'VERB'), ('*', 'X'), ('.', '.'), ('With', 'ADP'), ('prices', 'NOUN'), ('soaring', 'X'), (',', '.'), ('they', 'PRON'), ('were', 'VERB'), ('able', 'ADJ'), ('*-1', 'X'), ('to', 'PRT'), ('sell', 'VERB'), ('the', 'DET'), ('reclaimed', 'X'), ('commodities', 'NOUN'), ('at', 'ADP'), ('``', '.'), ('considerable', 'ADJ'), ('profit', 'NOUN'), (',', '.'), (\"''\", '.'), ('the', 'DET'), ('agency', 'NOUN'), (\"'s\", 'PRT'), ('240-page', 'X'), ('report', 'VERB'), ('said', 'VERB'), ('0', 'X'), ('*T*-2', 'X'), ('.', '.'), ('``', '.'), ('All', 'DET'), ('the', 'DET'), ('``', '.'), ('sogo-shosha', 'X'), (\"''\", '.'), ('are', 'VERB'), ('looking', 'VERB'), ('for', 'ADP'), ('new', 'ADJ'), ('business', 'NOUN'), (',', '.'), (\"''\", '.'), ('says', 'VERB'), ('*T*-1', 'X'), ('Arthur', 'NOUN'), ('Klauser', 'NOUN'), (',', '.'), ('adviser', 'NOUN'), ('to', 'PRT'), ('the', 'DET'), ('president', 'NOUN'), ('of', 'ADP'), ('Mitsui', 'NOUN'), (',', '.'), ('U.S.A.', 'NOUN'), (',', '.'), ('*-2', 'X'), ('using', 'VERB'), ('the', 'DET'), ('Japanese', 'ADJ'), ('term', 'NOUN'), ('for', 'ADP'), ('the', 'DET'), ('largest', 'ADJ'), ('of', 'ADP'), ('the', 'DET'), ('global', 'ADJ'), ('trading', 'NOUN'), ('houses', 'NOUN'), ('.', '.'), ('``', '.'), ('Wall', 'NOUN'), ('Street', 'NOUN'), ('is', 'VERB'), ('facing', 'VERB'), ('a', 'DET'), ('Catch-22', 'X'), ('situation', 'NOUN'), (',', '.'), (\"''\", '.'), ('says', 'VERB'), ('*T*-1', 'X'), ('Mr.', 'NOUN'), ('Mahoney', 'NOUN'), ('of', 'ADP'), ('Moody', 'NOUN'), (\"'s\", 'PRT'), ('.', '.'), ('b', 'X'), ('-', '.'), ('Current', 'ADJ'), ('annual', 'ADJ'), ('yield', 'NOUN'), ('.', '.'), ('The', 'DET'), ('forthcoming', 'X'), ('maturity', 'NOUN'), ('in', 'ADP'), ('November', 'NOUN'), ('of', 'ADP'), ('a', 'DET'), ('10-year', 'ADJ'), ('Japanese', 'ADJ'), ('government', 'NOUN'), ('yen-denominated', 'X'), ('bond', 'NOUN'), ('issue', 'NOUN'), ('valued', 'VERB'), ('*', 'X'), ('at', 'ADP'), ('about', 'ADP'), ('$', '.'), ('16', 'NUM'), ('billion', 'NUM'), ('*U*', 'X'), ('has', 'VERB'), ('prompted', 'VERB'), ('speculation', 'NOUN'), ('*ICH*-2', 'X'), ('in', 'ADP'), ('the', 'DET'), ('market', 'NOUN'), ('that', 'ADP'), ('investors', 'NOUN'), ('redeeming', 'X'), ('the', 'DET'), ('bonds', 'NOUN'), ('will', 'VERB'), ('diversify', 'VERB'), ('into', 'ADP'), ('dollar-denominated', 'ADJ'), ('instruments', 'NOUN'), (',', '.'), ('according', 'VERB'), ('to', 'PRT'), ('Mr.', 'NOUN'), ('Madison', 'NOUN'), ('.', '.'), ('After', 'ADP'), ('numerous', 'ADJ'), ('occurrences', 'X'), ('of', 'ADP'), ('questionable', 'ADJ'), ('teacher', 'NOUN'), ('help', 'VERB'), ('to', 'PRT'), ('students', 'NOUN'), (',', '.'), ('Texas', 'NOUN'), ('is', 'VERB'), ('revising', 'X'), ('its', 'PRON'), ('security', 'NOUN'), ('practices', 'NOUN'), ('.', '.'), ('McGraw-Hill', 'NOUN'), ('was', 'VERB'), ('outraged', 'X'), ('.', '.'), ('There', 'DET'), ('is', 'VERB'), ('no', 'DET'), ('downside', 'X'), ('if', 'ADP'), ('the', 'DET'), ('president', 'NOUN'), ('asserts', 'X'), ('a', 'DET'), ('right', 'NOUN'), ('of', 'ADP'), ('excision', 'NOUN'), ('over', 'ADP'), ('unconstitutional', 'ADJ'), ('conditions', 'NOUN'), ('in', 'ADP'), ('the', 'DET'), ('fiscal', 'ADJ'), ('1990', 'NUM'), ('appropriations', 'NOUN'), ('bills', 'NOUN'), ('.', '.'), ('Worksheets', 'X'), ('in', 'ADP'), ('a', 'DET'), ('test-practice', 'X'), ('kit', 'X'), ('called', 'VERB'), ('*', 'X'), ('Learning', 'NOUN'), ('Materials', 'NOUN'), (',', '.'), ('sold', 'VERB'), ('*', 'X'), ('to', 'PRT'), ('schools', 'NOUN'), ('across', 'ADP'), ('the', 'DET'), ('country', 'NOUN'), ('by', 'ADP'), ('Macmillan\\\\/McGraw-Hill', 'NOUN'), ('School', 'NOUN'), ('Publishing', 'NOUN'), ('Co.', 'NOUN'), (',', '.'), ('contain', 'VERB'), ('the', 'DET'), ('same', 'ADJ'), ('questions', 'NOUN'), ('.', '.'), ('A', 'DET'), ('lack', 'NOUN'), ('of', 'ADP'), ('enthusiasm', 'NOUN'), ('with', 'ADP'), ('the', 'DET'), ('latest', 'ADJ'), ('economic', 'ADJ'), ('data', 'NOUN'), ('hampered', 'VERB'), ('the', 'DET'), ('stock', 'NOUN'), ('market', 'NOUN'), (\"'s\", 'PRT'), ('bid', 'NOUN'), ('*', 'X'), ('to', 'PRT'), ('extend', 'VERB'), ('Tuesday', 'NOUN'), (\"'s\", 'PRT'), ('sharp', 'ADJ'), ('gains', 'NOUN'), (',', '.'), ('as', 'ADP'), ('prices', 'NOUN'), ('closed', 'VERB'), ('slightly', 'ADV'), ('higher', 'ADJ'), ('in', 'ADP'), ('sluggish', 'ADJ'), ('trading', 'NOUN'), ('.', '.'), ('An', 'DET'), ('attempted', 'X'), ('buy-out', 'NOUN'), ('led', 'VERB'), ('*', 'X'), ('by', 'ADP'), ('John', 'NOUN'), ('J.', 'NOUN'), ('McCabe', 'X'), (',', '.'), ('chief', 'NOUN'), ('operating', 'NOUN'), ('officer', 'NOUN'), (',', '.'), ('never', 'ADV'), ('materialized', 'X'), (',', '.'), ('and', 'CONJ'), ('a', 'DET'), ('stream', 'X'), ('of', 'ADP'), ('what', 'PRON'), ('one', 'NUM'), ('staff', 'NOUN'), ('member', 'NOUN'), ('dismissed', 'VERB'), ('*T*-1', 'X'), ('as', 'ADP'), ('``', '.'), ('tire-kickers', 'X'), ('and', 'CONJ'), ('lookee-loos', 'X'), (\"''\", '.'), ('had', 'VERB'), ('filed', 'VERB'), ('through', 'ADP'), ('since', 'ADP'), ('.', '.'), ('Leighton', 'X'), ('E.', 'NOUN'), ('Cluff', 'X'), ('M.D.', 'NOUN'), ('President', 'NOUN'), ('Robert', 'NOUN'), ('Wood', 'NOUN'), ('Johnson', 'NOUN'), ('Foundation', 'NOUN'), ('Princeton', 'NOUN'), (',', '.'), ('N.J', 'NOUN'), ('.', '.'), ('Image', 'X'), ('has', 'VERB'), (',', '.'), ('of', 'ADP'), ('course', 'NOUN'), (',', '.'), ('a', 'DET'), ('great', 'ADJ'), ('deal', 'NOUN'), ('0', 'X'), ('*', 'X'), ('to', 'PRT'), ('do', 'VERB'), ('*T*-1', 'X'), ('with', 'ADP'), ('what', 'PRON'), ('*T*-170', 'X'), ('sells', 'VERB'), ('and', 'CONJ'), ('what', 'PRON'), ('*T*-171', 'X'), ('does', 'VERB'), (\"n't\", 'ADV'), ('*?*', 'X'), (',', '.'), ('and', 'CONJ'), ('it', 'PRON'), ('ca', 'VERB'), (\"n't\", 'ADV'), ('be', 'VERB'), ('forced', 'VERB'), ('*-100', 'X'), ('.', '.'), ('INGERSOLL-RAND', 'X'), ('Co', 'NOUN'), ('.', '.'), ('-LRB-', '.'), ('Woodcliff', 'X'), ('Lake', 'NOUN'), (',', '.'), ('N.J', 'NOUN'), ('.', '.'), ('-RRB-', '.'), ('--', '.'), ('*', 'X'), ('Legislating', 'X'), ('new', 'ADJ'), ('trading', 'NOUN'), ('inefficiencies', 'NOUN'), ('will', 'VERB'), ('only', 'ADV'), ('make', 'VERB'), ('things', 'NOUN'), ('harder', 'ADJ'), ('on', 'ADP'), ('the', 'DET'), ('least', 'ADJ'), ('sophisticated', 'ADJ'), ('investors', 'NOUN'), ('.', '.'), ('Compound', 'X'), ('yields', 'NOUN'), ('assume', 'VERB'), ('reinvestment', 'X'), ('of', 'ADP'), ('dividends', 'NOUN'), ('and', 'CONJ'), ('that', 'DET'), ('the', 'DET'), ('current', 'ADJ'), ('yield', 'NOUN'), ('continues', 'VERB'), ('for', 'ADP'), ('a', 'DET'), ('year', 'NOUN'), ('.', '.'), ('The', 'DET'), ('Treasury', 'NOUN'), (\"'s\", 'PRT'), ('benchmark', 'NOUN'), ('30-year', 'ADJ'), ('bond', 'NOUN'), ('gained', 'VERB'), ('about', 'ADP'), ('a', 'DET'), ('quarter', 'NOUN'), ('of', 'ADP'), ('a', 'DET'), ('point', 'NOUN'), (',', '.'), ('or', 'CONJ'), ('$', '.'), ('2.50', 'NUM'), ('*U*', 'X'), ('for', 'ADP'), ('each', 'DET'), ('$', '.'), ('1,000', 'NUM'), ('*U*', 'X'), ('of', 'ADP'), ('face', 'NOUN'), ('amount', 'NOUN'), ('.', '.'), ('More', 'ADJ'), ('common', 'ADJ'), ('chrysotile', 'NOUN'), ('fibers', 'NOUN'), ('are', 'VERB'), ('curly', 'X'), ('and', 'CONJ'), ('are', 'VERB'), ('more', 'ADV'), ('easily', 'ADV'), ('rejected', 'VERB'), ('*-1', 'X'), ('by', 'ADP'), ('the', 'DET'), ('body', 'NOUN'), (',', '.'), ('Dr.', 'NOUN'), ('Mossman', 'NOUN'), ('explained', 'VERB'), ('0', 'X'), ('*T*-2', 'X'), ('.', '.'), ('Koizumi', 'X'), ('Sangyo', 'X'), ('Corp', 'NOUN'), ('.', '.'), ('-LRB-', '.'), ('Japan', 'NOUN'), ('-RRB-', '.'), ('--', '.'), ('Mr.', 'NOUN'), ('Dingell', 'NOUN'), ('expressed', 'VERB'), ('concern', 'NOUN'), (',', '.'), ('sources', 'NOUN'), ('said', 'VERB'), ('0', 'X'), ('*T*-2', 'X'), (',', '.'), ('about', 'ADP'), ('jurisdictional', 'X'), ('problems', 'NOUN'), ('in', 'ADP'), ('*', 'X'), ('regulating', 'VERB'), ('program', 'NOUN'), ('trading', 'NOUN'), (',', '.'), ('which', 'DET'), ('*T*-217', 'X'), ('uses', 'VERB'), ('futures', 'NOUN'), ('*-1', 'X'), ('to', 'PRT'), ('offset', 'VERB'), ('stock', 'NOUN'), ('trades', 'NOUN'), ('.', '.'), ('*-1', 'X'), ('Taking', 'VERB'), ('a', 'DET'), ('cue', 'X'), ('from', 'ADP'), ('California', 'NOUN'), (',', '.'), ('more', 'ADV'), ('politicians', 'NOUN'), ('will', 'VERB'), ('launch', 'VERB'), ('their', 'PRON'), ('campaigns', 'NOUN'), ('by', 'ADP'), ('*-1', 'X'), ('backing', 'NOUN'), ('initiatives', 'NOUN'), (',', '.'), ('says', 'VERB'), ('0', 'X'), ('*T*-2', 'X'), ('David', 'NOUN'), ('Magleby', 'X'), ('of', 'ADP'), ('Brigham', 'X'), ('Young', 'NOUN'), ('University', 'NOUN'), ('.', '.'), ('In', 'ADP'), ('a', 'DET'), ('meeting', 'NOUN'), ('Tuesday', 'NOUN'), (',', '.'), ('supreme', 'X'), ('leader', 'NOUN'), (',', '.'), ('Deng', 'X'), ('Xiaoping', 'X'), (',', '.'), ('told', 'VERB'), ('Mr.', 'NOUN'), ('Nixon', 'NOUN'), (',', '.'), ('``', '.'), ('*', 'X'), ('Frankly', 'X'), ('speaking', 'X'), (',', '.'), ('the', 'DET'), ('U.S.', 'NOUN'), ('was', 'VERB'), ('involved', 'VERB'), ('*-146', 'X'), ('too', 'ADV'), ('deeply', 'X'), ('in', 'ADP'), ('the', 'DET'), ('turmoil', 'NOUN'), ('and', 'CONJ'), ('counterrevolutionary', 'X'), ('rebellion', 'X'), ('which', 'DET'), ('*T*-243', 'X'), ('occurred', 'VERB'), ('in', 'ADP'), ('Beijing', 'NOUN'), ('not', 'ADV'), ('long', 'ADJ'), ('ago', 'ADP'), ('.', '.'), ('He', 'PRON'), ('adds', 'VERB'), ('that', 'ADP'), ('program', 'NOUN'), ('trading', 'NOUN'), ('``', '.'), ('increases', 'NOUN'), ('liquidity', 'NOUN'), ('in', 'ADP'), ('the', 'DET'), ('market', 'NOUN'), ('.', '.'), ('She', 'PRON'), ('gives', 'VERB'), ('the', 'DET'), ('Artist', 'NOUN'), ('a', 'DET'), ('sense', 'NOUN'), ('of', 'ADP'), ('purpose', 'NOUN'), (',', '.'), ('but', 'CONJ'), ('also', 'ADV'), ('alerts', 'X'), ('him', 'PRON'), ('to', 'PRT'), ('the', 'DET'), ('serious', 'ADJ'), ('inadequacy', 'X'), ('of', 'ADP'), ('his', 'PRON'), ('vagrant', 'X'), ('life', 'NOUN'), ('.', '.'), ('Ford', 'NOUN'), ('Chairman', 'NOUN'), ('Donald', 'NOUN'), ('E.', 'NOUN'), ('Petersen', 'NOUN'), ('said', 'VERB'), ('yesterday', 'NOUN'), ('that', 'ADP'), ('Mr.', 'NOUN'), ('Veraldi', 'NOUN'), ('has', 'VERB'), ('``', '.'), ('helped', 'VERB'), ('*-1', 'X'), ('to', 'PRT'), ('change', 'VERB'), ('the', 'DET'), ('world', 'NOUN'), (\"'s\", 'PRT'), ('perception', 'NOUN'), ('of', 'ADP'), ('American-made', 'X'), ('cars', 'NOUN'), ('.', '.'), (\"''\", '.'), ('ECONOMIC', 'X'), ('GROWTH', 'X'), ('APPEARS', 'X'), ('*-1', 'X'), ('to', 'PRT'), ('be', 'VERB'), ('leveling', 'VERB'), ('off', 'PRT'), (',', '.'), ('latest', 'ADJ'), ('reports', 'NOUN'), ('suggest', 'VERB'), ('0', 'X'), ('*T*-2', 'X'), ('.', '.'), ('Not', 'ADV'), ('that', 'ADP'), ('Washington', 'NOUN'), ('and', 'CONJ'), ('Tokyo', 'NOUN'), ('disagree', 'VERB'), ('on', 'ADP'), ('the', 'DET'), ('Japanese', 'ADJ'), ('acquisitions', 'NOUN'), (';', '.'), ('indeed', 'ADV'), (',', '.'), ('each', 'DET'), ('has', 'VERB'), ('come', 'VERB'), ('out', 'PRT'), ('in', 'ADP'), ('favor', 'NOUN'), ('of', 'ADP'), ('unfettered', 'X'), ('investment', 'NOUN'), ('in', 'ADP'), ('the', 'DET'), ('U.S.', 'NOUN'), ('.', '.'), ('``', '.'), ('It', 'PRON'), ('is', 'VERB'), ('these', 'DET'), ('645,000', 'NUM'), ('tons', 'NOUN'), ('that', 'ADP'), ('*T*-1', 'X'), ('are', 'VERB'), ('in', 'ADP'), ('question', 'NOUN'), ('for', 'ADP'), ('this', 'DET'), ('crop', 'NOUN'), ('year', 'NOUN'), (',', '.'), (\"''\", '.'), ('explained', 'VERB'), ('*T*-2', 'X'), ('Judith', 'X'), ('Ganes', 'NOUN'), (',', '.'), ('analyst', 'NOUN'), ('for', 'ADP'), ('Shearson', 'NOUN'), ('Lehman', 'NOUN'), ('Hutton', 'NOUN'), (',', '.'), ('New', 'NOUN'), ('York', 'NOUN'), ('.', '.'), ('But', 'CONJ'), ('consumers', 'NOUN'), ('who', 'PRON'), ('*T*-169', 'X'), ('buy', 'VERB'), ('at', 'ADP'), ('this', 'DET'), ('level', 'NOUN'), ('are', 'VERB'), ('also', 'ADV'), ('more', 'ADJ'), ('knowledgeable', 'X'), ('than', 'ADP'), ('they', 'PRON'), ('were', 'VERB'), ('*?*', 'X'), ('a', 'DET'), ('few', 'ADJ'), ('years', 'NOUN'), ('ago', 'ADP'), ('.', '.')]\n"
     ]
    }
   ],
   "source": [
    "print(\"Time taken in seconds: \", difference)\n",
    "print(tagged_seq)"
   ]
  },
  {
   "cell_type": "code",
   "execution_count": 24,
   "metadata": {},
   "outputs": [
    {
     "name": "stdout",
     "output_type": "stream",
     "text": [
      "0.9099717400080742\n"
     ]
    }
   ],
   "source": [
    "# accuracy\n",
    "check = [i for i, j in zip(tagged_seq, test_run_base) if i == j] \n",
    "accuracy = len(check)/len(tagged_seq)\n",
    "print(accuracy)"
   ]
  },
  {
   "cell_type": "code",
   "execution_count": 25,
   "metadata": {},
   "outputs": [],
   "source": [
    "incorrect_tagged_cases = [[test_run_base[i-1],j] for i, j in enumerate(zip(tagged_seq, test_run_base)) if j[0]!=j[1]]"
   ]
  },
  {
   "cell_type": "code",
   "execution_count": 26,
   "metadata": {},
   "outputs": [
    {
     "data": {
      "text/plain": [
       "[[('corporate', 'ADJ'), (('purchasing', 'NOUN'), ('purchasing', 'VERB'))],\n",
       " [('.', '.'), (('Municipal', 'NOUN'), ('Municipal', 'ADJ'))],\n",
       " [('companies', 'NOUN'), (('bankroll', 'X'), ('bankroll', 'VERB'))],\n",
       " [('with', 'ADP'), (('promising', 'X'), ('promising', 'ADJ'))],\n",
       " [('The', 'DET'), (('senior', 'ADJ'), ('senior', 'NOUN'))],\n",
       " [('is', 'VERB'), (('Nigel', 'X'), ('Nigel', 'NOUN'))],\n",
       " [('Nigel', 'NOUN'), (('Judah', 'X'), ('Judah', 'NOUN'))],\n",
       " [('.', '.'), (('ORTEGA', 'X'), ('ORTEGA', 'NOUN'))],\n",
       " [('ORTEGA', 'NOUN'), (('ENDED', 'X'), ('ENDED', 'VERB'))],\n",
       " [('the', 'DET'), (('mid-1970s', 'X'), ('mid-1970s', 'NUM'))],\n",
       " [('company', 'NOUN'), (('more', 'ADV'), ('more', 'ADJ'))],\n",
       " [('already', 'ADV'), (('own', 'ADJ'), ('own', 'VERB'))],\n",
       " [('.', '.'), (('Shortly', 'X'), ('Shortly', 'ADV'))],\n",
       " [('Shortly', 'ADV'), (('afterwards', 'X'), ('afterwards', 'ADV'))],\n",
       " [('of', 'ADP'), (('anti-China', 'X'), ('anti-China', 'ADJ'))],\n",
       " [('anti-China', 'ADJ'), (('sanctions', 'VERB'), ('sanctions', 'NOUN'))],\n",
       " [('most', 'ADJ'), (('high-level', 'X'), ('high-level', 'ADJ'))],\n",
       " [('be', 'VERB'), (('codified', 'X'), ('codified', 'VERB'))],\n",
       " [('simply', 'ADV'), (('nullified', 'X'), ('nullified', 'VERB'))],\n",
       " [('an', 'DET'), (('opposite', 'X'), ('opposite', 'ADJ'))],\n",
       " [('opposite', 'ADJ'), (('trade', 'VERB'), ('trade', 'NOUN'))],\n",
       " [('backers', 'NOUN'), (('fielded', 'X'), ('fielded', 'VERB'))],\n",
       " [('the', 'DET'), (('backdrop', 'X'), ('backdrop', 'NOUN'))],\n",
       " [('of', 'ADP'), (('continuous', 'X'), ('continuous', 'ADJ'))],\n",
       " [('raise', 'VERB'), (('salaries', 'X'), ('salaries', 'NOUN'))],\n",
       " [('improve', 'VERB'), (('working', 'VERB'), ('working', 'NOUN'))],\n",
       " [('-LRB-', '.'), (('better', 'ADV'), ('better', 'ADJ'))],\n",
       " [('hire', 'VERB'), (('more', 'ADV'), ('more', 'ADJ'))],\n",
       " [('been', 'VERB'), (('averted', 'X'), ('averted', 'VERB'))],\n",
       " [('replace', 'VERB'), (('British', 'ADJ'), ('British', 'NOUN'))],\n",
       " [('British', 'NOUN'), (('Airways', 'X'), ('Airways', 'NOUN'))],\n",
       " [('the', 'DET'), (('electorate', 'X'), ('electorate', 'NOUN'))],\n",
       " [('a', 'DET'), (('valuable', 'X'), ('valuable', 'ADJ'))],\n",
       " [('valuable', 'ADJ'), (('civics', 'X'), ('civics', 'NOUN'))],\n",
       " [('powers', 'NOUN'), (('works', 'NOUN'), ('works', 'VERB'))],\n",
       " [('Intelogic', 'NOUN'), (('Trace', 'X'), ('Trace', 'NOUN'))],\n",
       " [('an', 'DET'), (('unaffiliated', 'X'), ('unaffiliated', 'ADJ'))],\n",
       " [('$', '.'), (('3.625', 'X'), ('3.625', 'NUM'))],\n",
       " [(',', '.'), (('industry-supported', 'X'), ('industry-supported', 'ADJ'))],\n",
       " [('Consumer', 'NOUN'), (('Confidence', 'X'), ('Confidence', 'NOUN'))],\n",
       " [('was', 'VERB'), (('116.4', 'X'), ('116.4', 'NUM'))],\n",
       " [('*-1', 'X'), (('barely', 'X'), ('barely', 'ADV'))],\n",
       " [('a', 'DET'), (('revised', 'X'), ('revised', 'VERB'))],\n",
       " [('revised', 'VERB'), (('116.3', 'X'), ('116.3', 'NUM'))],\n",
       " [(\"n't\", 'ADV'), (('overlap', 'X'), ('overlap', 'VERB'))],\n",
       " [('mixed', 'VERB'), (('feelings', 'X'), ('feelings', 'NOUN'))],\n",
       " [('active', 'ADJ'), (('bell-ringer', 'X'), ('bell-ringer', 'NOUN'))],\n",
       " [('made', 'VERB'), (('up', 'ADV'), ('up', 'PRT'))],\n",
       " [('and', 'CONJ'), (('that', 'DET'), ('that', 'ADP'))],\n",
       " [('that', 'ADP'), (('only', 'ADJ'), ('only', 'ADV'))],\n",
       " [('the', 'DET'), (('homeless', 'ADJ'), ('homeless', 'NOUN'))],\n",
       " [('homeless', 'NOUN'), (('exhibits', 'X'), ('exhibits', 'VERB'))],\n",
       " [('The', 'DET'), (('Soviet', 'ADJ'), ('Soviet', 'NOUN'))],\n",
       " [('crops', 'NOUN'), (('earlier', 'ADV'), ('earlier', 'ADJ'))],\n",
       " [('.', '.'), (('Odyssey', 'X'), ('Odyssey', 'NOUN'))],\n",
       " [('The', 'DET'), (('less', 'ADJ'), ('less', 'ADV'))],\n",
       " [('playing', 'VERB'), (('tunes', 'X'), ('tunes', 'NOUN'))],\n",
       " [('the', 'DET'), (('carillons', 'X'), ('carillons', 'NOUN'))],\n",
       " [('of', 'ADP'), (('continental', 'X'), ('continental', 'ADJ'))],\n",
       " [('the', 'DET'), (('English', 'ADJ'), ('English', 'NOUN'))],\n",
       " [('be', 'VERB'), (('childish', 'X'), ('childish', 'ADJ'))],\n",
       " [(',', '.'), (('fit', 'NOUN'), ('fit', 'ADJ'))],\n",
       " [('for', 'ADP'), (('foreigners', 'X'), ('foreigners', 'NOUN'))],\n",
       " [('*EXP*-1', 'X'), ((\"'s\", 'PRT'), (\"'s\", 'VERB'))],\n",
       " [('also', 'ADV'), (('refreshing', 'X'), ('refreshing', 'VERB'))],\n",
       " [('the', 'DET'), (('self-aggrandizing', 'X'), ('self-aggrandizing', 'ADJ'))],\n",
       " [('``', '.'), (('we-Japanese', 'X'), ('we-Japanese', 'ADJ'))],\n",
       " [('*T*-53', 'X'), (('perpetuate', 'X'), ('perpetuate', 'VERB'))],\n",
       " [('the', 'DET'), (('unique', 'X'), ('unique', 'ADJ'))],\n",
       " [('unique', 'ADJ'), (('Japanese', 'ADJ'), ('Japanese', 'NOUN'))],\n",
       " [(',', '.'), (('unfathomable', 'X'), ('unfathomable', 'ADJ'))],\n",
       " [('by', 'ADP'), (('outsiders', 'X'), ('outsiders', 'NOUN'))],\n",
       " [('her', 'PRON'), (('motives', 'X'), ('motives', 'NOUN'))],\n",
       " [('were', 'VERB'), (('correct', 'VERB'), ('correct', 'ADJ'))],\n",
       " [('year', 'NOUN'), (('earlier', 'ADV'), ('earlier', 'ADJ'))],\n",
       " [('$', '.'), (('169.9', 'X'), ('169.9', 'NUM'))],\n",
       " [('long', 'ADV'), (('fought', 'X'), ('fought', 'VERB'))],\n",
       " [('recently', 'ADV'), (('acceded', 'X'), ('acceded', 'VERB'))],\n",
       " [('administration', 'NOUN'), (('insistence', 'X'), ('insistence', 'NOUN'))],\n",
       " [('the', 'DET'), (('cartoonist', 'X'), ('cartoonist', 'NOUN'))],\n",
       " [('$', '.'), (('130.7', 'X'), ('130.7', 'NUM'))],\n",
       " [('for', 'ADP'), (('AC-130U', 'X'), ('AC-130U', 'NOUN'))],\n",
       " [('Charles', 'NOUN'), (('Wohlstetter', 'X'), ('Wohlstetter', 'NOUN'))],\n",
       " [('is', 'VERB'), (('rallying', 'X'), ('rallying', 'VERB'))],\n",
       " [('the', 'DET'), (('anti-program', 'X'), ('anti-program', 'ADJ'))],\n",
       " [('trading', 'NOUN'), (('cause', 'VERB'), ('cause', 'NOUN'))],\n",
       " [('``', '.'), (('countless', 'X'), ('countless', 'ADJ'))],\n",
       " [('letters', 'NOUN'), (('offering', 'NOUN'), ('offering', 'VERB'))],\n",
       " [('offering', 'VERB'), (('support', 'VERB'), ('support', 'NOUN'))],\n",
       " [('$', '.'), (('19.94', 'X'), ('19.94', 'NUM'))],\n",
       " [('Japanese', 'ADJ'), (('contribution', 'X'), ('contribution', 'NOUN'))],\n",
       " [('the', 'DET'), (('doctor', 'X'), ('doctor', 'NOUN'))],\n",
       " [('for', 'ADP'), (('upscale', 'ADJ'), ('upscale', 'NOUN'))],\n",
       " [('The', 'DET'), (('most', 'ADJ'), ('most', 'ADV'))],\n",
       " [('&', 'CONJ'), (('poor', 'ADJ'), ('poor', 'NOUN'))],\n",
       " [('a', 'DET'), (('20-stock', 'X'), ('20-stock', 'ADJ'))],\n",
       " [('index', 'NOUN'), (('that', 'ADP'), ('that', 'DET'))],\n",
       " [('*T*-1', 'X'), (('mimics', 'X'), ('mimics', 'VERB'))],\n",
       " [('the', 'DET'), (('chicago', 'X'), ('chicago', 'NOUN'))],\n",
       " [('while', 'ADP'), (('index-fund', 'ADJ'), ('index-fund', 'NOUN'))],\n",
       " [('slowly', 'ADV'), (('amass', 'X'), ('amass', 'VERB'))],\n",
       " [('electronics', 'NOUN'), (('emerged', 'X'), ('emerged', 'VERB'))],\n",
       " [('*-1', 'X'), (('muscling', 'X'), ('muscling', 'VERB'))],\n",
       " [('fact', 'NOUN'), (('that', 'ADP'), ('that', 'DET'))],\n",
       " [('a', 'DET'), (('ball', 'X'), ('ball', 'NOUN'))],\n",
       " [('a', 'DET'), (('bat', 'X'), ('bat', 'NOUN'))],\n",
       " [(':', '.'), (('Fans', 'X'), ('Fans', 'NOUN'))],\n",
       " [('Fans', 'NOUN'), (('politely', 'X'), ('politely', 'ADV'))],\n",
       " [('foul', 'ADJ'), (('balls', 'X'), ('balls', 'NOUN'))],\n",
       " [('stadium', 'NOUN'), (('ushers', 'X'), ('ushers', 'NOUN'))],\n",
       " [('zone', 'NOUN'), (('expands', 'X'), ('expands', 'VERB'))],\n",
       " [('expands', 'VERB'), (('depending', 'X'), ('depending', 'VERB'))],\n",
       " [('the', 'DET'), (('hitter', 'X'), ('hitter', 'NOUN'))],\n",
       " [('--', '.'), (('even', 'ADV'), ('even', 'ADJ'))],\n",
       " [('they', 'PRON'), (('honorably', 'X'), ('honorably', 'ADV'))],\n",
       " [('of', 'ADP'), (('defeat', 'VERB'), ('defeat', 'NOUN'))],\n",
       " [('must', 'VERB'), (('abide', 'X'), ('abide', 'VERB'))],\n",
       " [('of', 'ADP'), (('conduct', 'VERB'), ('conduct', 'NOUN'))],\n",
       " [('always', 'ADV'), (('wear', 'X'), ('wear', 'VERB'))],\n",
       " [('The', 'DET'), (('Soviet', 'ADJ'), ('Soviet', 'NOUN'))],\n",
       " [('the', 'DET'), (('most', 'ADJ'), ('most', 'ADV'))],\n",
       " [('the', 'DET'), (('Soviet', 'ADJ'), ('Soviet', 'NOUN'))],\n",
       " [('*', 'X'), (('Depending', 'X'), ('Depending', 'VERB'))],\n",
       " [('would', 'VERB'), (('issue', 'NOUN'), ('issue', 'VERB'))],\n",
       " [('and', 'CONJ'), (('2.35', 'X'), ('2.35', 'NUM'))],\n",
       " [('million', 'NUM'), (('preferred', 'ADJ'), ('preferred', 'VERB'))],\n",
       " [('see', 'VERB'), (('more', 'ADV'), ('more', 'ADJ'))],\n",
       " [('*T*-2', 'X'), (('Andrea', 'X'), ('Andrea', 'NOUN'))],\n",
       " [('of', 'ADP'), (('American', 'ADJ'), ('American', 'NOUN'))],\n",
       " [('software', 'NOUN'), (('tutorials', 'X'), ('tutorials', 'NOUN'))],\n",
       " [('No', 'DET'), (('one', 'NUM'), ('one', 'NOUN'))],\n",
       " [('could', 'VERB'), (('intimidate', 'X'), ('intimidate', 'VERB'))],\n",
       " [('*-1', 'X'), (('uttering', 'X'), ('uttering', 'VERB'))],\n",
       " [('``', '.'), (('Provided', 'X'), ('Provided', 'VERB'))],\n",
       " [(',', '.'), (('that', 'DET'), ('that', 'ADP'))],\n",
       " [('bill', 'NOUN'), (('draws', 'X'), ('draws', 'VERB'))],\n",
       " [('California', 'NOUN'), (('airplane', 'X'), ('airplane', 'NOUN'))],\n",
       " [('but', 'CONJ'), (('intriguing', 'X'), ('intriguing', 'ADJ'))],\n",
       " [('stock', 'NOUN'), (('indexes', 'X'), ('indexes', 'NOUN'))],\n",
       " [('the', 'DET'), (('underlying', 'ADJ'), ('underlying', 'VERB'))],\n",
       " [('a', 'DET'), (('stock-index', 'ADJ'), ('stock-index', 'NOUN'))],\n",
       " [('general', 'ADJ'), (('softening', 'X'), ('softening', 'NOUN'))],\n",
       " [('open', 'ADJ'), (('direct-investment', 'X'), ('direct-investment', 'ADJ'))],\n",
       " [(',', '.'), (('First', 'NOUN'), ('First', 'ADJ'))],\n",
       " [(',', '.'), (('four-color', 'X'), ('four-color', 'ADJ'))],\n",
       " [('will', 'VERB'), (('cost', 'NOUN'), ('cost', 'VERB'))],\n",
       " [('$', '.'), (('100,980', 'X'), ('100,980', 'NUM'))],\n",
       " [('operates', 'VERB'), (('hotels', 'X'), ('hotels', 'NOUN'))],\n",
       " [('rights', 'NOUN'), (('that', 'ADP'), ('that', 'DET'))],\n",
       " [('many', 'ADJ'), (('emerging', 'X'), ('emerging', 'VERB'))],\n",
       " [('have', 'VERB'), (('outpaced', 'X'), ('outpaced', 'VERB'))],\n",
       " [('more', 'ADV'), (('mature', 'VERB'), ('mature', 'ADJ'))],\n",
       " [('a', 'DET'), (('raise', 'VERB'), ('raise', 'NOUN'))],\n",
       " [('.', '.'), (('Preliminary', 'X'), ('Preliminary', 'ADJ'))],\n",
       " [('Preliminary', 'ADJ'), (('tallies', 'X'), ('tallies', 'NOUN'))],\n",
       " [('a', 'DET'), (('cloud', 'X'), ('cloud', 'NOUN'))],\n",
       " [(\"'s\", 'PRT'), (('export-oriented', 'X'), ('export-oriented', 'ADJ'))],\n",
       " [('The', 'DET'), (('Sacramento-based', 'X'), ('Sacramento-based', 'ADJ'))],\n",
       " [('in', 'ADP'), (('north', 'X'), ('north', 'ADJ'))],\n",
       " [('``', '.'), (('Unemployment', 'X'), ('Unemployment', 'NOUN'))],\n",
       " [('the', 'DET'), (('purchasing', 'NOUN'), ('purchasing', 'VERB'))],\n",
       " [('weekly', 'ADJ'), (('paycheck', 'X'), ('paycheck', 'NOUN'))],\n",
       " [('paycheck', 'NOUN'), (('reasonably', 'X'), ('reasonably', 'ADV'))],\n",
       " [('leaders', 'NOUN'), (('rebuked', 'X'), ('rebuked', 'VERB'))],\n",
       " [('and', 'CONJ'), (('fretted', 'X'), ('fretted', 'VERB'))],\n",
       " [('$', '.'), (('244,000', 'X'), ('244,000', 'NUM'))],\n",
       " [('other', 'ADJ'), (('fringe', 'X'), ('fringe', 'NOUN'))],\n",
       " [('fringe', 'NOUN'), (('benefits', 'VERB'), ('benefits', 'NOUN'))],\n",
       " [('the', 'DET'), (('Natural', 'X'), ('Natural', 'NOUN'))],\n",
       " [('potential', 'ADJ'), (('acquirer', 'X'), ('acquirer', 'NOUN'))],\n",
       " [('must', 'VERB'), (('attempt', 'NOUN'), ('attempt', 'VERB'))],\n",
       " [('its', 'PRON'), (('pilots', 'X'), ('pilots', 'NOUN'))],\n",
       " [('powerful', 'ADJ'), (('machinists', 'X'), ('machinists', 'NOUN'))],\n",
       " [('0', 'X'), (('that', 'ADP'), ('that', 'DET'))],\n",
       " [('largest', 'ADJ'), (('supplier', 'X'), ('supplier', 'NOUN'))],\n",
       " [('.', '.'), (('Showa', 'X'), ('Showa', 'NOUN'))],\n",
       " [('Showa', 'NOUN'), (('Shell', 'X'), ('Shell', 'NOUN'))],\n",
       " [('to', 'PRT'), (('1,570', 'X'), ('1,570', 'NUM'))],\n",
       " [('the', 'DET'), (('Iran\\\\/Contra', 'X'), ('Iran\\\\/Contra', 'NOUN'))],\n",
       " [('Iran\\\\/Contra', 'NOUN'), (('affair', 'X'), ('affair', 'NOUN'))],\n",
       " [('of', 'ADP'), (('Mayer', 'X'), ('Mayer', 'NOUN'))],\n",
       " [('paid', 'VERB'), (('for', 'ADP'), ('for', 'ADV'))],\n",
       " [('by', 'ADP'), (('Republican', 'ADJ'), ('Republican', 'NOUN'))],\n",
       " [('to', 'PRT'), (('phase', 'X'), ('phase', 'VERB'))],\n",
       " [('make', 'VERB'), (('appropriate', 'X'), ('appropriate', 'ADJ'))],\n",
       " [('``', '.'), (('Red-blooded', 'X'), ('Red-blooded', 'ADJ'))],\n",
       " [(',', '.'), (('balanced', 'X'), ('balanced', 'ADJ'))],\n",
       " [('balanced', 'ADJ'), (('male', 'ADJ'), ('male', 'NOUN'))],\n",
       " [('``', '.'), (('frequency', 'X'), ('frequency', 'NOUN'))],\n",
       " [('women', 'NOUN'), (('fainting', 'X'), ('fainting', 'VERB'))],\n",
       " [('making', 'VERB'), (('tea', 'X'), ('tea', 'NOUN'))],\n",
       " [('Gulf', 'NOUN'), (('spurns', 'X'), ('spurns', 'VERB'))],\n",
       " [('is', 'VERB'), (('conducted', 'X'), ('conducted', 'VERB'))],\n",
       " [('Family', 'NOUN'), (('Opinion', 'X'), ('Opinion', 'NOUN'))],\n",
       " [('.', '.'), (('a', 'DET'), ('a', 'X'))],\n",
       " [('-', '.'), (('Average', 'NOUN'), ('Average', 'ADJ'))],\n",
       " [('largest', 'ADJ'), (('metropolitan', 'X'), ('metropolitan', 'ADJ'))],\n",
       " [('Bank', 'NOUN'), (('Rate', 'X'), ('Rate', 'NOUN'))],\n",
       " [('Rate', 'NOUN'), (('Monitor', 'X'), ('Monitor', 'NOUN'))],\n",
       " [('``', '.'), (('vague', 'X'), ('vague', 'ADJ'))],\n",
       " [('and', 'CONJ'), (('mushy', 'X'), ('mushy', 'ADJ'))],\n",
       " [(\"''\", '.'), (('that', 'DET'), ('that', 'ADP'))],\n",
       " [('all', 'DET'), (('viewpoints', 'X'), ('viewpoints', 'NOUN'))],\n",
       " [('come', 'VERB'), (('out', 'PRT'), ('out', 'ADV'))],\n",
       " [('and', 'CONJ'), (('entertaining', 'X'), ('entertaining', 'ADJ'))],\n",
       " [('that', 'DET'), (('means', 'NOUN'), ('means', 'VERB'))],\n",
       " [('means', 'VERB'), (('confrontational', 'X'), ('confrontational', 'ADJ'))],\n",
       " [(\"'s\", 'PRT'), (('skittishness', 'X'), ('skittishness', 'NOUN'))],\n",
       " [('could', 'VERB'), (('color', 'NOUN'), ('color', 'VERB'))],\n",
       " [('a', 'DET'), (('sell-off', 'X'), ('sell-off', 'NOUN'))],\n",
       " [('sell-off', 'NOUN'), (('that', 'ADP'), ('that', 'DET'))],\n",
       " [('end', 'VERB'), (('up', 'ADV'), ('up', 'PRT'))],\n",
       " [('.', '.'), (('Some', 'DET'), ('Some', 'ADV'))],\n",
       " [('Jack', 'NOUN'), (('Brooks', 'X'), ('Brooks', 'NOUN'))],\n",
       " [('they', 'PRON'), (('fear', 'NOUN'), ('fear', 'VERB'))],\n",
       " [('make', 'VERB'), (('up', 'ADV'), ('up', 'PRT'))],\n",
       " [('.', '.'), (('Reasons', 'X'), ('Reasons', 'NOUN'))],\n",
       " [('the', 'DET'), (('walkout', 'X'), ('walkout', 'NOUN'))],\n",
       " [('of', 'ADP'), (('procedural', 'X'), ('procedural', 'ADJ'))],\n",
       " [('to', 'PRT'), (('strike', 'NOUN'), ('strike', 'VERB'))],\n",
       " [('also', 'ADV'), (('attacking', 'X'), ('attacking', 'VERB'))],\n",
       " [('has', 'VERB'), (('hunted', 'X'), ('hunted', 'VERB'))],\n",
       " [('other', 'ADJ'), (('bargains', 'X'), ('bargains', 'NOUN'))],\n",
       " [('should', 'VERB'), (('veto', 'NOUN'), ('veto', 'VERB'))],\n",
       " [('appropriations', 'NOUN'), (('acts', 'VERB'), ('acts', 'NOUN'))],\n",
       " [('acts', 'NOUN'), (('that', 'ADP'), ('that', 'DET'))],\n",
       " [('lobbyists', 'NOUN'), (('as', 'ADP'), ('as', 'ADV'))],\n",
       " [('emissions', 'NOUN'), (('that', 'ADP'), ('that', 'DET'))],\n",
       " [('.', '.'), (('Federal', 'NOUN'), ('Federal', 'ADJ'))],\n",
       " [('$', '.'), (('89,500', 'X'), ('89,500', 'NUM'))],\n",
       " [('bill', 'NOUN'), (('that', 'ADP'), ('that', 'DET'))],\n",
       " [('their', 'PRON'), (('pay', 'VERB'), ('pay', 'NOUN'))],\n",
       " [('.', '.'), (('Junk-bond', 'X'), ('Junk-bond', 'NOUN'))],\n",
       " [('a', 'DET'), (('fizzled', 'X'), ('fizzled', 'VERB'))],\n",
       " [('the', 'DET'), (('Soviet', 'ADJ'), ('Soviet', 'NOUN'))],\n",
       " [('the', 'DET'), (('verge', 'X'), ('verge', 'NOUN'))],\n",
       " [('most', 'ADV'), (('favored', 'VERB'), ('favored', 'ADJ'))],\n",
       " [('*-1', 'X'), (('rolling', 'X'), ('rolling', 'VERB'))],\n",
       " [('-LRB-', '.'), (('A', 'DET'), ('A', 'NOUN'))],\n",
       " [('of', 'ADP'), (('Clarence', 'X'), ('Clarence', 'NOUN'))],\n",
       " [('the', 'DET'), (('American', 'ADJ'), ('American', 'NOUN'))],\n",
       " [('``', '.'), (('qualified', 'VERB'), ('qualified', 'ADJ'))],\n",
       " [('from', 'ADP'), (('Sheffield', 'X'), ('Sheffield', 'NOUN'))],\n",
       " [('of', 'ADP'), (('ringing', 'NOUN'), ('ringing', 'VERB'))],\n",
       " [('to', 'PRT'), (('faint', 'X'), ('faint', 'VERB'))],\n",
       " [('Pacific', 'NOUN'), (('rim', 'X'), ('rim', 'NOUN'))],\n",
       " [('following', 'VERB'), (('up', 'ADV'), ('up', 'PRT'))],\n",
       " [('by', 'ADP'), (('Australian', 'ADJ'), ('Australian', 'NOUN'))],\n",
       " [('Bob', 'NOUN'), (('Hawke', 'X'), ('Hawke', 'NOUN'))],\n",
       " [('the', 'DET'), (('municipality', 'X'), ('municipality', 'NOUN'))],\n",
       " [('in', 'ADP'), (('warehouses', 'X'), ('warehouses', 'NOUN'))],\n",
       " [('down', 'ADV'), (('0.4', 'X'), ('0.4', 'NUM'))],\n",
       " [('for', 'ADP'), (('prescription', 'X'), ('prescription', 'NOUN'))],\n",
       " [(',', '.'), (('hidden', 'X'), ('hidden', 'VERB'))],\n",
       " [('be', 'VERB'), (('no', 'DET'), ('no', 'ADV'))],\n",
       " [('including', 'VERB'), (('low-priced', 'X'), ('low-priced', 'ADJ'))],\n",
       " [('low-priced', 'ADJ'),\n",
       "  (('battery-operated', 'X'), ('battery-operated', 'ADJ'))],\n",
       " [('tariff', 'NOUN'), (('preferences', 'X'), ('preferences', 'NOUN'))],\n",
       " [('of', 'ADP'), (('softening', 'X'), ('softening', 'VERB'))],\n",
       " [('in', 'ADP'), (('working', 'ADJ'), ('working', 'VERB'))],\n",
       " [('$', '.'), (('93.9', 'X'), ('93.9', 'NUM'))],\n",
       " [('$', '.'), (('1.19', 'X'), ('1.19', 'NUM'))],\n",
       " [('$', '.'), (('92.9', 'X'), ('92.9', 'NUM'))],\n",
       " [('$', '.'), (('1.18', 'X'), ('1.18', 'NUM'))],\n",
       " [('year', 'NOUN'), (('earlier', 'ADV'), ('earlier', 'ADJ'))],\n",
       " [('groups', 'NOUN'), (('hope', 'NOUN'), ('hope', 'VERB'))],\n",
       " [('vehicles', 'NOUN'), (('weighing', 'X'), ('weighing', 'VERB'))],\n",
       " [('``', '.'), (('Strategic', 'X'), ('Strategic', 'ADJ'))],\n",
       " [('was', 'VERB'), (('dumbfounded', 'X'), ('dumbfounded', 'ADJ'))],\n",
       " [('Ward', 'NOUN'), (('recalls', 'X'), ('recalls', 'VERB'))],\n",
       " [('an', 'DET'), (('unstinting', 'X'), ('unstinting', 'ADJ'))],\n",
       " [('won', 'VERB'), (('laurels', 'X'), ('laurels', 'NOUN'))],\n",
       " [('*', 'X'), (('sorting', 'X'), ('sorting', 'VERB'))],\n",
       " [('out', 'PRT'), (('specifics', 'X'), ('specifics', 'NOUN'))],\n",
       " [('the', 'DET'), (('Japanese', 'ADJ'), ('Japanese', 'NOUN'))],\n",
       " [(',', '.'), (('Ind.', 'X'), ('Ind.', 'NOUN'))],\n",
       " [('replace', 'VERB'), (('arched', 'X'), ('arched', 'ADJ'))],\n",
       " [('the', 'DET'), (('G', 'X'), ('G', 'NOUN'))],\n",
       " [('a', 'DET'), (('tad', 'X'), ('tad', 'NOUN'))],\n",
       " [('the', 'DET'), (('average', 'ADJ'), ('average', 'NOUN'))],\n",
       " [('in', 'ADP'), (('idiomatic', 'X'), ('idiomatic', 'ADJ'))],\n",
       " [('hefty', 'ADJ'), (('dashes', 'X'), ('dashes', 'NOUN'))],\n",
       " [('.', '.'), (('Output', 'X'), ('Output', 'NOUN'))],\n",
       " [('be', 'VERB'), (('gradually', 'X'), ('gradually', 'ADV'))],\n",
       " [('it', 'PRON'), (('reaches', 'X'), ('reaches', 'VERB'))],\n",
       " [('to', 'PRT'), (('red-flag', 'X'), ('red-flag', 'VERB'))],\n",
       " [('the', 'DET'),\n",
       "  (('computer-generated', 'X'), ('computer-generated', 'ADJ'))],\n",
       " [('by', 'ADP'), (('certified', 'X'), ('certified', 'ADJ'))],\n",
       " [('certified', 'ADJ'), (('mail', 'X'), ('mail', 'NOUN'))],\n",
       " [('commodities', 'NOUN'), (('strengthened', 'X'), ('strengthened', 'VERB'))],\n",
       " [('*T*-1', 'X'), (('Keith', 'X'), ('Keith', 'NOUN'))],\n",
       " [('it', 'PRON'), (('attempted', 'X'), ('attempted', 'VERB'))],\n",
       " [('a', 'DET'), (('gigantic', 'X'), ('gigantic', 'ADJ'))],\n",
       " [('gigantic', 'ADJ'), (('crapshoot', 'X'), ('crapshoot', 'NOUN'))],\n",
       " [('One', 'NUM'), (('official', 'NOUN'), ('official', 'ADJ'))],\n",
       " [(',', '.'), (('Legal', 'X'), ('Legal', 'NOUN'))],\n",
       " [(\"''\", '.'), (('Drink', 'X'), ('Drink', 'NOUN'))],\n",
       " [('Drink', 'NOUN'), (('Carrier', 'X'), ('Carrier', 'NOUN'))],\n",
       " [('Carrier', 'NOUN'), (('Competes', 'X'), ('Competes', 'VERB'))],\n",
       " [('With', 'ADP'), (('Cartons', 'X'), ('Cartons', 'NOUN'))],\n",
       " [('the', 'DET'), (('pre-1933', 'X'), ('pre-1933', 'ADJ'))],\n",
       " [('the', 'DET'), (('key', 'ADJ'), ('key', 'NOUN'))],\n",
       " [('*', 'X'), (('satisfying', 'X'), ('satisfying', 'VERB'))],\n",
       " [('*T*-1', 'X'), ((\"'s\", 'PRT'), (\"'s\", 'VERB'))],\n",
       " [('$', '.'), (('45.2', 'X'), ('45.2', 'NUM'))],\n",
       " [('$', '.'), (('84.9', 'X'), ('84.9', 'NUM'))],\n",
       " [('$', '.'), (('1.24', 'X'), ('1.24', 'NUM'))],\n",
       " [('year', 'NOUN'), (('earlier', 'ADV'), ('earlier', 'ADJ'))],\n",
       " [('breaks', 'VERB'), (('down', 'ADV'), ('down', 'PRT'))],\n",
       " [('prolonged', 'VERB'), (('sunlight', 'X'), ('sunlight', 'NOUN'))],\n",
       " [(\"n't\", 'ADV'), (('recyclable', 'X'), ('recyclable', 'ADJ'))],\n",
       " [('in', 'ADP'), (('Westborough', 'X'), ('Westborough', 'NOUN'))],\n",
       " [('$', '.'), (('2.29', 'X'), ('2.29', 'NUM'))],\n",
       " [('$', '.'), (('2.25', 'X'), ('2.25', 'NUM'))],\n",
       " [('is', 'VERB'), (('worth', 'ADJ'), ('worth', 'ADP'))],\n",
       " [('funds', 'NOUN'), (('that', 'ADP'), ('that', 'DET'))],\n",
       " [('programs', 'NOUN'), (('that', 'ADP'), ('that', 'DET'))],\n",
       " [('*-1', 'X'), (('obtaining', 'X'), ('obtaining', 'VERB'))],\n",
       " [('and', 'CONJ'), (('referrals', 'X'), ('referrals', 'NOUN'))],\n",
       " [('be', 'VERB'), (('injuring', 'X'), ('injuring', 'VERB'))],\n",
       " [('The', 'DET'), (('Chinese', 'ADJ'), ('Chinese', 'NOUN'))],\n",
       " [('equally', 'ADV'), (('undiplomatic', 'X'), ('undiplomatic', 'ADJ'))],\n",
       " [('undiplomatic', 'ADJ'), (('fashion', 'X'), ('fashion', 'NOUN'))],\n",
       " [('yield', 'VERB'), (('8.467', 'X'), ('8.467', 'NUM'))],\n",
       " [('one-hour', 'ADJ'), (('respite', 'X'), ('respite', 'NOUN'))],\n",
       " [('market', 'NOUN'), (('sell-offs', 'X'), ('sell-offs', 'NOUN'))],\n",
       " [('the', 'DET'), (('maximum', 'X'), ('maximum', 'NOUN'))],\n",
       " [('maximum', 'NOUN'), (('one-day', 'X'), ('one-day', 'ADJ'))],\n",
       " [('one-day', 'ADJ'), (('limit', 'VERB'), ('limit', 'NOUN'))],\n",
       " [('500', 'NUM'), (('stock-index', 'NOUN'), ('stock-index', 'ADJ'))],\n",
       " [('the', 'DET'), (('one-day', 'X'), ('one-day', 'ADJ'))],\n",
       " [('one-day', 'ADJ'), (('limit', 'VERB'), ('limit', 'NOUN'))],\n",
       " [(',', '.'), (('portray', 'X'), ('portray', 'VERB'))],\n",
       " [('portray', 'VERB'), (('old-fashioned', 'X'), ('old-fashioned', 'ADJ'))],\n",
       " [('the', 'DET'), (('Neanderthals', 'X'), ('Neanderthals', 'NOUN'))],\n",
       " [('of', 'ADP'), (('Norfolk', 'X'), ('Norfolk', 'NOUN'))],\n",
       " [('sale', 'NOUN'), (('sputtered', 'X'), ('sputtered', 'VERB'))],\n",
       " [('magazine', 'NOUN'), (('combines', 'NOUN'), ('combines', 'VERB'))],\n",
       " [('combines', 'VERB'), (('how-to', 'X'), ('how-to', 'ADJ'))],\n",
       " [('how-to', 'ADJ'), (('pieces', 'X'), ('pieces', 'NOUN'))],\n",
       " [('like', 'ADP'), (('backyard', 'X'), ('backyard', 'NOUN'))],\n",
       " [('backyard', 'NOUN'), (('composting', 'X'), ('composting', 'NOUN'))],\n",
       " [(',', '.'), (('explanatory', 'X'), ('explanatory', 'ADJ'))],\n",
       " [('explanatory', 'ADJ'), (('essays', 'X'), ('essays', 'NOUN'))],\n",
       " [('*T*-1', 'X'), (('happens', 'X'), ('happens', 'VERB'))],\n",
       " [('you', 'PRON'), (('flush', 'X'), ('flush', 'VERB'))],\n",
       " [('your', 'PRON'), (('toilet', 'X'), ('toilet', 'NOUN'))],\n",
       " [('and', 'CONJ'), (('hard-hitting', 'X'), ('hard-hitting', 'ADJ'))],\n",
       " [('hard-hitting', 'ADJ'), (('pieces', 'X'), ('pieces', 'NOUN'))],\n",
       " [('Dec.', 'NOUN'), (('2-3', 'X'), ('2-3', 'NUM'))],\n",
       " [('2-3', 'NUM'), (('tete-a-tete', 'X'), ('tete-a-tete', 'NOUN'))],\n",
       " [('great', 'ADJ'), (('reds', 'X'), ('reds', 'NOUN'))],\n",
       " [('the', 'DET'), (('Rhone', 'X'), ('Rhone', 'NOUN'))],\n",
       " [('price', 'NOUN'), (('as', 'ADP'), ('as', 'ADV'))],\n",
       " [('Enterprise', 'NOUN'), (('Rent-A-Car', 'X'), ('Rent-A-Car', 'NOUN'))],\n",
       " [('$', '.'), (('27.1', 'X'), ('27.1', 'NUM'))],\n",
       " [('bill', 'NOUN'), (('that', 'ADP'), ('that', 'DET'))],\n",
       " [('Finland', 'NOUN'), (('that', 'ADP'), ('that', 'DET'))],\n",
       " [('carry', 'VERB'), (('on', 'ADP'), ('on', 'PRT'))],\n",
       " [('have', 'VERB'), (('plans', 'VERB'), ('plans', 'NOUN'))],\n",
       " [('contradict', 'VERB'), (('that', 'ADP'), ('that', 'DET'))],\n",
       " [('-LRB-', '.'), (('technically', 'X'), ('technically', 'ADV'))],\n",
       " [('a', 'DET'), (('limitation', 'X'), ('limitation', 'NOUN'))],\n",
       " [('short', 'ADJ'), (('leash', 'X'), ('leash', 'NOUN'))],\n",
       " [('the', 'DET'), (('executive', 'ADJ'), ('executive', 'NOUN'))],\n",
       " [('Joseph', 'NOUN'), (('Napolitan', 'X'), ('Napolitan', 'NOUN'))],\n",
       " [('to', 'PRT'), (('attack', 'NOUN'), ('attack', 'VERB'))],\n",
       " [('attack', 'VERB'), (('first', 'ADJ'), ('first', 'ADV'))],\n",
       " [(',', '.'), (('last', 'ADJ'), ('last', 'ADV'))],\n",
       " [('compromise', 'NOUN'), (('sets', 'NOUN'), ('sets', 'VERB'))],\n",
       " [('$', '.'), (('3.61', 'X'), ('3.61', 'NUM'))],\n",
       " [('stand', 'VERB'), (('up', 'ADV'), ('up', 'PRT'))],\n",
       " [('FEDERAL', 'NOUN'), (('FUNDS', 'X'), ('FUNDS', 'NOUN'))],\n",
       " [('prices', 'NOUN'), (('soaring', 'X'), ('soaring', 'VERB'))],\n",
       " [('the', 'DET'), (('reclaimed', 'X'), ('reclaimed', 'VERB'))],\n",
       " [(\"'s\", 'PRT'), (('240-page', 'X'), ('240-page', 'ADJ'))],\n",
       " [('240-page', 'ADJ'), (('report', 'VERB'), ('report', 'NOUN'))],\n",
       " [('``', '.'), (('sogo-shosha', 'X'), ('sogo-shosha', 'NOUN'))],\n",
       " [('the', 'DET'), (('Japanese', 'ADJ'), ('Japanese', 'NOUN'))],\n",
       " [('global', 'ADJ'), (('trading', 'NOUN'), ('trading', 'VERB'))],\n",
       " [('a', 'DET'), (('Catch-22', 'X'), ('Catch-22', 'NOUN'))],\n",
       " [('The', 'DET'), (('forthcoming', 'X'), ('forthcoming', 'ADJ'))],\n",
       " [('a', 'DET'), (('10-year', 'ADJ'), ('10-year', 'NUM'))],\n",
       " [('government', 'NOUN'),\n",
       "  (('yen-denominated', 'X'), ('yen-denominated', 'ADJ'))],\n",
       " [('at', 'ADP'), (('about', 'ADP'), ('about', 'ADV'))],\n",
       " [('investors', 'NOUN'), (('redeeming', 'X'), ('redeeming', 'VERB'))],\n",
       " [('numerous', 'ADJ'), (('occurrences', 'X'), ('occurrences', 'NOUN'))],\n",
       " [('teacher', 'NOUN'), (('help', 'VERB'), ('help', 'NOUN'))],\n",
       " [('is', 'VERB'), (('revising', 'X'), ('revising', 'VERB'))],\n",
       " [('was', 'VERB'), (('outraged', 'X'), ('outraged', 'ADJ'))],\n",
       " [('no', 'DET'), (('downside', 'X'), ('downside', 'NOUN'))],\n",
       " [('president', 'NOUN'), (('asserts', 'X'), ('asserts', 'VERB'))],\n",
       " [('.', '.'), (('Worksheets', 'X'), ('Worksheets', 'NOUN'))],\n",
       " [('a', 'DET'), (('test-practice', 'X'), ('test-practice', 'ADJ'))],\n",
       " [('test-practice', 'ADJ'), (('kit', 'X'), ('kit', 'NOUN'))],\n",
       " [('An', 'DET'), (('attempted', 'X'), ('attempted', 'VERB'))],\n",
       " [('J.', 'NOUN'), (('McCabe', 'X'), ('McCabe', 'NOUN'))],\n",
       " [('never', 'ADV'), (('materialized', 'X'), ('materialized', 'VERB'))],\n",
       " [('a', 'DET'), (('stream', 'X'), ('stream', 'NOUN'))],\n",
       " [('``', '.'), (('tire-kickers', 'X'), ('tire-kickers', 'NOUN'))],\n",
       " [('and', 'CONJ'), (('lookee-loos', 'X'), ('lookee-loos', 'NOUN'))],\n",
       " [('.', '.'), (('Leighton', 'X'), ('Leighton', 'NOUN'))],\n",
       " [('E.', 'NOUN'), (('Cluff', 'X'), ('Cluff', 'NOUN'))],\n",
       " [('.', '.'), (('Image', 'X'), ('Image', 'NOUN'))],\n",
       " [('.', '.'), (('INGERSOLL-RAND', 'X'), ('INGERSOLL-RAND', 'NOUN'))],\n",
       " [('-LRB-', '.'), (('Woodcliff', 'X'), ('Woodcliff', 'NOUN'))],\n",
       " [('*', 'X'), (('Legislating', 'X'), ('Legislating', 'VERB'))],\n",
       " [('.', '.'), (('Compound', 'X'), ('Compound', 'NOUN'))],\n",
       " [('assume', 'VERB'), (('reinvestment', 'X'), ('reinvestment', 'NOUN'))],\n",
       " [('and', 'CONJ'), (('that', 'DET'), ('that', 'ADP'))],\n",
       " [('gained', 'VERB'), (('about', 'ADP'), ('about', 'ADV'))],\n",
       " [('.', '.'), (('More', 'ADJ'), ('More', 'ADV'))],\n",
       " [('are', 'VERB'), (('curly', 'X'), ('curly', 'ADJ'))],\n",
       " [('.', '.'), (('Koizumi', 'X'), ('Koizumi', 'NOUN'))],\n",
       " [('Koizumi', 'NOUN'), (('Sangyo', 'X'), ('Sangyo', 'NOUN'))],\n",
       " [('about', 'ADP'), (('jurisdictional', 'X'), ('jurisdictional', 'ADJ'))],\n",
       " [('a', 'DET'), (('cue', 'X'), ('cue', 'NOUN'))],\n",
       " [(',', '.'), (('more', 'ADV'), ('more', 'ADJ'))],\n",
       " [('*-1', 'X'), (('backing', 'NOUN'), ('backing', 'VERB'))],\n",
       " [('David', 'NOUN'), (('Magleby', 'X'), ('Magleby', 'NOUN'))],\n",
       " [('of', 'ADP'), (('Brigham', 'X'), ('Brigham', 'NOUN'))],\n",
       " [(',', '.'), (('supreme', 'X'), ('supreme', 'NOUN'))],\n",
       " [(',', '.'), (('Deng', 'X'), ('Deng', 'NOUN'))],\n",
       " [('Deng', 'NOUN'), (('Xiaoping', 'X'), ('Xiaoping', 'NOUN'))],\n",
       " [('*', 'X'), (('Frankly', 'X'), ('Frankly', 'ADV'))],\n",
       " [('Frankly', 'ADV'), (('speaking', 'X'), ('speaking', 'VERB'))],\n",
       " [('too', 'ADV'), (('deeply', 'X'), ('deeply', 'ADV'))],\n",
       " [('and', 'CONJ'),\n",
       "  (('counterrevolutionary', 'X'), ('counterrevolutionary', 'ADJ'))],\n",
       " [('counterrevolutionary', 'ADJ'),\n",
       "  (('rebellion', 'X'), ('rebellion', 'NOUN'))],\n",
       " [('not', 'ADV'), (('long', 'ADJ'), ('long', 'ADV'))],\n",
       " [('long', 'ADV'), (('ago', 'ADP'), ('ago', 'ADV'))],\n",
       " [('``', '.'), (('increases', 'NOUN'), ('increases', 'VERB'))],\n",
       " [('also', 'ADV'), (('alerts', 'X'), ('alerts', 'VERB'))],\n",
       " [('serious', 'ADJ'), (('inadequacy', 'X'), ('inadequacy', 'NOUN'))],\n",
       " [('his', 'PRON'), (('vagrant', 'X'), ('vagrant', 'ADJ'))],\n",
       " [('of', 'ADP'), (('American-made', 'X'), ('American-made', 'ADJ'))],\n",
       " [(\"''\", '.'), (('ECONOMIC', 'X'), ('ECONOMIC', 'ADJ'))],\n",
       " [('ECONOMIC', 'ADJ'), (('GROWTH', 'X'), ('GROWTH', 'NOUN'))],\n",
       " [('GROWTH', 'NOUN'), (('APPEARS', 'X'), ('APPEARS', 'VERB'))],\n",
       " [('leveling', 'VERB'), (('off', 'PRT'), ('off', 'ADP'))],\n",
       " [('of', 'ADP'), (('unfettered', 'X'), ('unfettered', 'ADJ'))],\n",
       " [('tons', 'NOUN'), (('that', 'ADP'), ('that', 'DET'))],\n",
       " [('*T*-2', 'X'), (('Judith', 'X'), ('Judith', 'NOUN'))],\n",
       " [('also', 'ADV'), (('more', 'ADJ'), ('more', 'ADV'))],\n",
       " [('more', 'ADV'), (('knowledgeable', 'X'), ('knowledgeable', 'ADJ'))],\n",
       " [('years', 'NOUN'), (('ago', 'ADP'), ('ago', 'ADV'))]]"
      ]
     },
     "execution_count": 26,
     "metadata": {},
     "output_type": "execute_result"
    }
   ],
   "source": [
    "incorrect_tagged_cases"
   ]
  },
  {
   "cell_type": "code",
   "execution_count": 27,
   "metadata": {},
   "outputs": [
    {
     "data": {
      "text/plain": [
       "Counter({'NOUN': 27442,\n",
       "         'ADP': 9378,\n",
       "         'DET': 8283,\n",
       "         'ADJ': 6064,\n",
       "         'VERB': 12900,\n",
       "         '.': 11115,\n",
       "         'NUM': 3391,\n",
       "         'X': 6296,\n",
       "         'CONJ': 2154,\n",
       "         'ADV': 3000,\n",
       "         'PRON': 2613,\n",
       "         'PRT': 3086})"
      ]
     },
     "execution_count": 27,
     "metadata": {},
     "output_type": "execute_result"
    }
   ],
   "source": [
    "#Obtain the count of all tags in the training set\n",
    "tag_counts = Counter(pair[1] for pair in train_tagged_words)\n",
    "tag_counts"
   ]
  },
  {
   "cell_type": "code",
   "execution_count": null,
   "metadata": {},
   "outputs": [],
   "source": []
  },
  {
   "cell_type": "code",
   "execution_count": 28,
   "metadata": {},
   "outputs": [
    {
     "name": "stdout",
     "output_type": "stream",
     "text": [
      "Android is a mobile operating system developed by Google.\r\n",
      "\n",
      "Android has been the best-selling OS worldwide on smartphones since 2011 and on tablets since 2013.\r\n",
      "\n",
      "Google and Twitter made a deal in 2015 that gave Google access to Twitter's firehose.\r\n",
      "\n",
      "Twitter is an online news and social networking service on which users post and interact with messages known as tweets.\r\n",
      "\n",
      "Before entering politics, Donald Trump was a domineering businessman and a television personality.\r\n",
      "\n",
      "The 2018 FIFA World Cup is the 21st FIFA World Cup, an international football tournament contested once every four years.\r\n",
      "\n",
      "This is the first World Cup to be held in Eastern Europe and the 11th time that it has been held in Europe.\r\n",
      "\n",
      "Show me the cheapest round trips from Dallas to Atlanta\r\n",
      "\n",
      "I would like to see flights from Denver to Philadelphia.\r\n",
      "\n",
      "Show me the price of the flights leaving Atlanta at about 3 in the afternoon and arriving in San Francisco.\r\n",
      "\n",
      "NASA invited social media users to experience the launch of ICESAT-2 Satellite.\r\n",
      "\n",
      "\r\n",
      "\n",
      "\r\n",
      "\n",
      "\r\n",
      "\n"
     ]
    }
   ],
   "source": [
    "#Load the test sentences with unknown words\n",
    "sentences=[]\n",
    "f = codecs.open(\"Test_sentences.txt\", encoding='utf-8')\n",
    "for s in f:\n",
    "    print(s)\n",
    "    sentences.append(s)"
   ]
  },
  {
   "cell_type": "code",
   "execution_count": 29,
   "metadata": {},
   "outputs": [
    {
     "data": {
      "text/plain": [
       "['Android is a mobile operating system developed by Google.',\n",
       " 'Android has been the best-selling OS worldwide on smartphones since 2011 and on tablets since 2013.',\n",
       " \"Google and Twitter made a deal in 2015 that gave Google access to Twitter's firehose.\",\n",
       " 'Twitter is an online news and social networking service on which users post and interact with messages known as tweets.',\n",
       " 'Before entering politics, Donald Trump was a domineering businessman and a television personality.',\n",
       " 'The 2018 FIFA World Cup is the 21st FIFA World Cup, an international football tournament contested once every four years.',\n",
       " 'This is the first World Cup to be held in Eastern Europe and the 11th time that it has been held in Europe.',\n",
       " 'Show me the cheapest round trips from Dallas to Atlanta',\n",
       " 'I would like to see flights from Denver to Philadelphia.',\n",
       " 'Show me the price of the flights leaving Atlanta at about 3 in the afternoon and arriving in San Francisco.',\n",
       " 'NASA invited social media users to experience the launch of ICESAT-2 Satellite.']"
      ]
     },
     "execution_count": 29,
     "metadata": {},
     "output_type": "execute_result"
    }
   ],
   "source": [
    "#Strip the special characters and empty strings in the list file\n",
    "test_sentences =[sent.rstrip() for sent in sentences if sent.rstrip()!='']\n",
    "test_sentences"
   ]
  },
  {
   "cell_type": "code",
   "execution_count": 30,
   "metadata": {},
   "outputs": [
    {
     "data": {
      "text/plain": [
       "[('Android', 'X'),\n",
       " ('is', 'VERB'),\n",
       " ('a', 'DET'),\n",
       " ('mobile', 'ADJ'),\n",
       " ('operating', 'NOUN'),\n",
       " ('system', 'NOUN'),\n",
       " ('developed', 'VERB'),\n",
       " ('by', 'ADP'),\n",
       " ('Google', 'X'),\n",
       " ('.', '.'),\n",
       " ('Android', 'X'),\n",
       " ('has', 'VERB'),\n",
       " ('been', 'VERB'),\n",
       " ('the', 'DET'),\n",
       " ('best-selling', 'ADJ'),\n",
       " ('OS', 'X'),\n",
       " ('worldwide', 'X'),\n",
       " ('on', 'ADP'),\n",
       " ('smartphones', 'X'),\n",
       " ('since', 'ADP'),\n",
       " ('2011', 'X'),\n",
       " ('and', 'CONJ'),\n",
       " ('on', 'ADP'),\n",
       " ('tablets', 'NOUN'),\n",
       " ('since', 'ADP'),\n",
       " ('2013', 'X'),\n",
       " ('.', '.'),\n",
       " ('Google', 'X'),\n",
       " ('and', 'CONJ'),\n",
       " ('Twitter', 'X'),\n",
       " ('made', 'VERB'),\n",
       " ('a', 'DET'),\n",
       " ('deal', 'NOUN'),\n",
       " ('in', 'ADP'),\n",
       " ('2015', 'X'),\n",
       " ('that', 'ADP'),\n",
       " ('gave', 'VERB'),\n",
       " ('Google', 'X'),\n",
       " ('access', 'NOUN'),\n",
       " ('to', 'PRT'),\n",
       " ('Twitter', 'X'),\n",
       " (\"'s\", 'PRT'),\n",
       " ('firehose', 'X'),\n",
       " ('.', '.'),\n",
       " ('Twitter', 'X'),\n",
       " ('is', 'VERB'),\n",
       " ('an', 'DET'),\n",
       " ('online', 'X'),\n",
       " ('news', 'NOUN'),\n",
       " ('and', 'CONJ'),\n",
       " ('social', 'ADJ'),\n",
       " ('networking', 'NOUN'),\n",
       " ('service', 'NOUN'),\n",
       " ('on', 'ADP'),\n",
       " ('which', 'DET'),\n",
       " ('users', 'NOUN'),\n",
       " ('post', 'NOUN'),\n",
       " ('and', 'CONJ'),\n",
       " ('interact', 'X'),\n",
       " ('with', 'ADP'),\n",
       " ('messages', 'X'),\n",
       " ('known', 'VERB'),\n",
       " ('as', 'ADP'),\n",
       " ('tweets', 'X'),\n",
       " ('.', '.'),\n",
       " ('Before', 'ADP'),\n",
       " ('entering', 'VERB'),\n",
       " ('politics', 'NOUN'),\n",
       " (',', '.'),\n",
       " ('Donald', 'NOUN'),\n",
       " ('Trump', 'NOUN'),\n",
       " ('was', 'VERB'),\n",
       " ('a', 'DET'),\n",
       " ('domineering', 'X'),\n",
       " ('businessman', 'NOUN'),\n",
       " ('and', 'CONJ'),\n",
       " ('a', 'DET'),\n",
       " ('television', 'NOUN'),\n",
       " ('personality', 'X'),\n",
       " ('.', '.'),\n",
       " ('The', 'DET'),\n",
       " ('2018', 'X'),\n",
       " ('FIFA', 'X'),\n",
       " ('World', 'NOUN'),\n",
       " ('Cup', 'X'),\n",
       " ('is', 'VERB'),\n",
       " ('the', 'DET'),\n",
       " ('21st', 'X'),\n",
       " ('FIFA', 'X'),\n",
       " ('World', 'NOUN'),\n",
       " ('Cup', 'X'),\n",
       " (',', '.'),\n",
       " ('an', 'DET'),\n",
       " ('international', 'ADJ'),\n",
       " ('football', 'NOUN'),\n",
       " ('tournament', 'X'),\n",
       " ('contested', 'X'),\n",
       " ('once', 'ADV'),\n",
       " ('every', 'DET'),\n",
       " ('four', 'NUM'),\n",
       " ('years', 'NOUN'),\n",
       " ('.', '.'),\n",
       " ('This', 'DET'),\n",
       " ('is', 'VERB'),\n",
       " ('the', 'DET'),\n",
       " ('first', 'ADJ'),\n",
       " ('World', 'NOUN'),\n",
       " ('Cup', 'X'),\n",
       " ('to', 'PRT'),\n",
       " ('be', 'VERB'),\n",
       " ('held', 'VERB'),\n",
       " ('in', 'ADP'),\n",
       " ('Eastern', 'NOUN'),\n",
       " ('Europe', 'NOUN'),\n",
       " ('and', 'CONJ'),\n",
       " ('the', 'DET'),\n",
       " ('11th', 'ADJ'),\n",
       " ('time', 'NOUN'),\n",
       " ('that', 'ADP'),\n",
       " ('it', 'PRON'),\n",
       " ('has', 'VERB'),\n",
       " ('been', 'VERB'),\n",
       " ('held', 'VERB'),\n",
       " ('in', 'ADP'),\n",
       " ('Europe', 'NOUN'),\n",
       " ('.', '.'),\n",
       " ('Show', 'NOUN'),\n",
       " ('me', 'PRON'),\n",
       " ('the', 'DET'),\n",
       " ('cheapest', 'ADJ'),\n",
       " ('round', 'NOUN'),\n",
       " ('trips', 'X'),\n",
       " ('from', 'ADP'),\n",
       " ('Dallas', 'NOUN'),\n",
       " ('to', 'PRT'),\n",
       " ('Atlanta', 'NOUN'),\n",
       " ('I', 'PRON'),\n",
       " ('would', 'VERB'),\n",
       " ('like', 'ADP'),\n",
       " ('to', 'PRT'),\n",
       " ('see', 'VERB'),\n",
       " ('flights', 'NOUN'),\n",
       " ('from', 'ADP'),\n",
       " ('Denver', 'NOUN'),\n",
       " ('to', 'PRT'),\n",
       " ('Philadelphia', 'NOUN'),\n",
       " ('.', '.'),\n",
       " ('Show', 'NOUN'),\n",
       " ('me', 'PRON'),\n",
       " ('the', 'DET'),\n",
       " ('price', 'NOUN'),\n",
       " ('of', 'ADP'),\n",
       " ('the', 'DET'),\n",
       " ('flights', 'NOUN'),\n",
       " ('leaving', 'VERB'),\n",
       " ('Atlanta', 'NOUN'),\n",
       " ('at', 'ADP'),\n",
       " ('about', 'ADP'),\n",
       " ('3', 'NUM'),\n",
       " ('in', 'ADP'),\n",
       " ('the', 'DET'),\n",
       " ('afternoon', 'NOUN'),\n",
       " ('and', 'CONJ'),\n",
       " ('arriving', 'X'),\n",
       " ('in', 'ADP'),\n",
       " ('San', 'NOUN'),\n",
       " ('Francisco', 'NOUN'),\n",
       " ('.', '.'),\n",
       " ('NASA', 'X'),\n",
       " ('invited', 'X'),\n",
       " ('social', 'ADJ'),\n",
       " ('media', 'NOUN'),\n",
       " ('users', 'NOUN'),\n",
       " ('to', 'PRT'),\n",
       " ('experience', 'NOUN'),\n",
       " ('the', 'DET'),\n",
       " ('launch', 'NOUN'),\n",
       " ('of', 'ADP'),\n",
       " ('ICESAT-2', 'X'),\n",
       " ('Satellite', 'X'),\n",
       " ('.', '.')]"
      ]
     },
     "execution_count": 30,
     "metadata": {},
     "output_type": "execute_result"
    }
   ],
   "source": [
    "#Predict using Vanilla Viterbi\n",
    "sample_pred_list =[]\n",
    "for line in test_sentences:\n",
    "    sample_pred_list=sample_pred_list+list(Viterbi(word_tokenize(line)))\n",
    "sample_pred_list"
   ]
  },
  {
   "cell_type": "code",
   "execution_count": 31,
   "metadata": {},
   "outputs": [
    {
     "data": {
      "text/plain": [
       "['21st',\n",
       " 'worldwide',\n",
       " '2015',\n",
       " 'firehose',\n",
       " 'ICESAT-2',\n",
       " 'OS',\n",
       " 'trips',\n",
       " '2013',\n",
       " 'tweets',\n",
       " 'tournament',\n",
       " 'smartphones',\n",
       " 'online',\n",
       " 'domineering',\n",
       " 'NASA',\n",
       " 'Twitter',\n",
       " '2018',\n",
       " '2011',\n",
       " 'Satellite',\n",
       " 'FIFA',\n",
       " 'contested',\n",
       " 'messages',\n",
       " 'Google',\n",
       " 'Android',\n",
       " 'Cup',\n",
       " 'interact',\n",
       " 'personality',\n",
       " 'arriving',\n",
       " 'invited']"
      ]
     },
     "execution_count": 31,
     "metadata": {},
     "output_type": "execute_result"
    }
   ],
   "source": [
    "#Obtains tokens in the test file\n",
    "sample_words=[tokens for line in test_sentences for tokens in word_tokenize(line)]\n",
    "#Obtain list of words present in test sentences but not in the training corpus\n",
    "words_not_in_corpus = list(set(sample_words) - set(tokens))\n",
    "words_not_in_corpus"
   ]
  },
  {
   "cell_type": "code",
   "execution_count": 32,
   "metadata": {},
   "outputs": [
    {
     "data": {
      "text/plain": [
       "[('Android', 'X'),\n",
       " ('Google', 'X'),\n",
       " ('Android', 'X'),\n",
       " ('OS', 'X'),\n",
       " ('worldwide', 'X'),\n",
       " ('smartphones', 'X'),\n",
       " ('2011', 'X'),\n",
       " ('2013', 'X'),\n",
       " ('Google', 'X'),\n",
       " ('Twitter', 'X'),\n",
       " ('2015', 'X'),\n",
       " ('Google', 'X'),\n",
       " ('Twitter', 'X'),\n",
       " ('firehose', 'X'),\n",
       " ('Twitter', 'X'),\n",
       " ('online', 'X'),\n",
       " ('interact', 'X'),\n",
       " ('messages', 'X'),\n",
       " ('tweets', 'X'),\n",
       " ('domineering', 'X'),\n",
       " ('personality', 'X'),\n",
       " ('2018', 'X'),\n",
       " ('FIFA', 'X'),\n",
       " ('Cup', 'X'),\n",
       " ('21st', 'X'),\n",
       " ('FIFA', 'X'),\n",
       " ('Cup', 'X'),\n",
       " ('tournament', 'X'),\n",
       " ('contested', 'X'),\n",
       " ('Cup', 'X'),\n",
       " ('trips', 'X'),\n",
       " ('arriving', 'X'),\n",
       " ('NASA', 'X'),\n",
       " ('invited', 'X'),\n",
       " ('ICESAT-2', 'X'),\n",
       " ('Satellite', 'X')]"
      ]
     },
     "execution_count": 32,
     "metadata": {},
     "output_type": "execute_result"
    }
   ],
   "source": [
    "#Obtain the tags predicted for unknown words\n",
    "[tup for tup in sample_pred_list for word in words_not_in_corpus if tup[0]==word ]"
   ]
  },
  {
   "cell_type": "code",
   "execution_count": 33,
   "metadata": {},
   "outputs": [
    {
     "data": {
      "text/plain": [
       "Counter({'NOUN': 27,\n",
       "         'X': 309,\n",
       "         'ADJ': 39,\n",
       "         'ADV': 16,\n",
       "         'VERB': 20,\n",
       "         'DET': 8,\n",
       "         'PRT': 4,\n",
       "         'ADP': 22,\n",
       "         'NUM': 1})"
      ]
     },
     "execution_count": 33,
     "metadata": {},
     "output_type": "execute_result"
    }
   ],
   "source": [
    "#Obtain the count of incorrectly classfied words for each tag\n",
    "wrong_tag_counts = Counter(pair[1][0][1] for pair in incorrect_tagged_cases)\n",
    "wrong_tag_counts"
   ]
  },
  {
   "cell_type": "markdown",
   "metadata": {},
   "source": [
    "### Solve the problem of unknown words"
   ]
  },
  {
   "cell_type": "markdown",
   "metadata": {},
   "source": [
    "#### Approaches for tagging unknown words\n",
    "\n",
    "- Lexicon based\n",
    "Improve the vocabulary with another lexicon which has sentences tagged. However the problem of uknown words would still exist, especially if the lexicon used was in vogue few years ago, and the unknown test data has current day slang or words relevant recently. Therefore this approach will not be of much use.\n",
    "\n",
    "- Rule based\n",
    "- Probability based"
   ]
  },
  {
   "cell_type": "markdown",
   "metadata": {},
   "source": [
    "#### Laplace Smoothing - Probability based model 1\n",
    "\n",
    "1. Laplace smoothing\n",
    "\n",
    "Since the emission probability will be 0 if the word never occurs in the training corpus. This can be offset by using Laplace smoothing which ensures non-zero probability for both emission and transition probabilities and results in a prediction that is slightly improved.\n",
    "\n",
    "q(s|u,v) = (c(u,v,s)+lambda)/(c(u,v)+lambda*v)\n",
    "e(x|s) = (c(s->x)+lambda)/(c(s)+lambda*v)\n",
    "\n"
   ]
  },
  {
   "cell_type": "code",
   "execution_count": 34,
   "metadata": {},
   "outputs": [],
   "source": [
    "def t2_given_t1_laplace(t2, t1, train_bag = train_tagged_words):\n",
    "    tags = [pair[1] for pair in train_bag]\n",
    "    count_t1 = len([t for t in tags if t==t1])\n",
    "    count_t2_t1 = 0\n",
    "    for index in range(len(tags)-1):\n",
    "        if tags[index]==t1 and tags[index+1] == t2:\n",
    "            count_t2_t1 += 1\n",
    "    return (count_t2_t1, count_t1)\n",
    "\n",
    "# creating t x t transition matrix of tags\n",
    "# each column is t2, each row is t1\n",
    "# thus M(i, j) represents P(tj given ti)\n",
    "#Taking lambda = 0.5 for laplace smoothing\n",
    "tags_matrix = np.zeros((len(T), len(T)), dtype='float32')\n",
    "for i, t1 in enumerate(list(T)):\n",
    "    for j, t2 in enumerate(list(T)): \n",
    "        tags_matrix[i, j] = t2_given_t1(t2, t1)[0]+0.5/(t2_given_t1(t2, t1)[1]+(0.5*len(V)))\n",
    "\n",
    "# convert the matrix to a df for better readability\n",
    "tags_df_laplace = pd.DataFrame(tags_matrix, columns = list(T), index=list(T))"
   ]
  },
  {
   "cell_type": "code",
   "execution_count": 35,
   "metadata": {},
   "outputs": [],
   "source": [
    "# Viterbi Heuristic\n",
    "def Viterbi_Laplace(words, train_bag = train_tagged_words):\n",
    "    state = []\n",
    "    T = list(set([pair[1] for pair in train_bag]))\n",
    "    \n",
    "    for key, word in enumerate(words):\n",
    "        #initialise list of probability column for a given observation\n",
    "        p = [] \n",
    "        for tag in T:\n",
    "            if key == 0:\n",
    "                transition_p = tags_df_laplace.loc['.', tag]\n",
    "            else:\n",
    "                transition_p = tags_df_laplace.loc[state[-1], tag]\n",
    "                \n",
    "            # compute emission and state probabilities\n",
    "            emission_p = word_given_tag(words[key], tag)[0]+0.5/(word_given_tag(words[key], tag)[1]+(0.5*len(V)))\n",
    "            state_probability = emission_p * transition_p    \n",
    "            p.append(state_probability)\n",
    "            \n",
    "        pmax = max(p)\n",
    "        # Obtaining state for which probability is maximum\n",
    "        state_max = T[p.index(pmax)] \n",
    "        state.append(state_max)\n",
    "    return list(zip(words, state))"
   ]
  },
  {
   "cell_type": "markdown",
   "metadata": {},
   "source": [
    "### Compare the tagging accuracies of the modifications with the vanilla Viterbi algorithm - 1 With Laplace smoothing"
   ]
  },
  {
   "cell_type": "code",
   "execution_count": 36,
   "metadata": {},
   "outputs": [
    {
     "name": "stdout",
     "output_type": "stream",
     "text": [
      "Time taken in seconds:  715.2716059684753\n"
     ]
    }
   ],
   "source": [
    "start = time.time()\n",
    "tagged_seq = Viterbi_Laplace(test_tagged_words)\n",
    "end = time.time()\n",
    "difference = end-start\n",
    "print(\"Time taken in seconds: \", difference)"
   ]
  },
  {
   "cell_type": "code",
   "execution_count": 37,
   "metadata": {},
   "outputs": [
    {
     "name": "stdout",
     "output_type": "stream",
     "text": [
      "0.9170367379895035\n"
     ]
    }
   ],
   "source": [
    "# accuracy\n",
    "check = [i for i, j in zip(tagged_seq, test_run_base) if i == j] \n",
    "accuracy = len(check)/len(tagged_seq)\n",
    "print(accuracy)"
   ]
  },
  {
   "cell_type": "markdown",
   "metadata": {},
   "source": [
    "As we can see a minor improvement of accuracy after laplace smoothening, which is non trivial. However we find that we have only eliminated non zero probability. The probability of unknown words still exist to some degree. Since we are looking for further improvements specifically around predicting unknown words, we can try out rule based taggers next "
   ]
  },
  {
   "cell_type": "markdown",
   "metadata": {},
   "source": [
    "#### Rule based model - A lexicon tagger with a rule based backup"
   ]
  },
  {
   "cell_type": "markdown",
   "metadata": {},
   "source": [
    "Few of the common rules we are aware of and can implement are as follows\n",
    "Ending in ed - Verb\n",
    "Ending in ing - Verb gerund or commonly Verb\n",
    "Adjective is followed by a noun\n",
    "Adverb is followed by a verb\n",
    "Determinant is followed by mostly a proper noun but we can generalize this to a noun\n",
    "If all else fails we can to some degree say the word is a Noun since it usually is the most occurring POS in our corpus as well as the most tagged predicted inaccurately."
   ]
  },
  {
   "cell_type": "code",
   "execution_count": 38,
   "metadata": {},
   "outputs": [
    {
     "name": "stdout",
     "output_type": "stream",
     "text": [
      "0.2058139534883721\n"
     ]
    },
    {
     "data": {
      "text/plain": [
       "[('fired', 'VERB'),\n",
       " ('committed', 'VERB'),\n",
       " ('discussed', 'VERB'),\n",
       " ('characterized', 'VERB'),\n",
       " ('learned', 'VERB')]"
      ]
     },
     "execution_count": 38,
     "metadata": {},
     "output_type": "execute_result"
    }
   ],
   "source": [
    "# Obtain the % of verbs which are classifed as 'verb which end with 'ed'\n",
    "verbs = [pair for pair in train_tagged_words if pair[1]=='VERB']\n",
    "ed_verbs = [pair for pair in verbs if pair[0].endswith('ed')]\n",
    "print(len(ed_verbs) / len(verbs))\n",
    "ed_verbs[:5]"
   ]
  },
  {
   "cell_type": "code",
   "execution_count": 39,
   "metadata": {},
   "outputs": [
    {
     "name": "stdout",
     "output_type": "stream",
     "text": [
      "0.1082170542635659\n"
     ]
    },
    {
     "data": {
      "text/plain": [
       "[('ending', 'VERB'),\n",
       " ('making', 'VERB'),\n",
       " ('controlling', 'VERB'),\n",
       " ('leaving', 'VERB'),\n",
       " ('reviewing', 'VERB')]"
      ]
     },
     "execution_count": 39,
     "metadata": {},
     "output_type": "execute_result"
    }
   ],
   "source": [
    "# Obtain the % of verbs which are classifed as 'verb which end with 'ing'\n",
    "verbs = [pair for pair in train_tagged_words if pair[1]=='VERB']\n",
    "ing_verbs = [pair for pair in verbs if pair[0].endswith('ing')]\n",
    "print(len(ing_verbs) / len(verbs))\n",
    "ing_verbs[:5]"
   ]
  },
  {
   "cell_type": "code",
   "execution_count": 40,
   "metadata": {},
   "outputs": [
    {
     "name": "stdout",
     "output_type": "stream",
     "text": [
      "6064\n",
      "4242\n",
      "0.6995382585751979\n"
     ]
    }
   ],
   "source": [
    "#Obtain % of Adjective tags followed by nouns\n",
    "# create a list of all tags (without the words)\n",
    "tags = [pair[1] for pair in train_tagged_words]\n",
    "\n",
    "# create a list of Adj tags\n",
    "adj_tags = [t for t in tags if t == 'ADJ']\n",
    "\n",
    "# create a list of (ADJ, Noun) tags\n",
    "adj_noun_tags = [(t, tags[index+1]) for index, t in enumerate(tags) \n",
    "              if t=='ADJ' and tags[index+1]=='NOUN']\n",
    "\n",
    "print(len(adj_tags))\n",
    "print(len(adj_noun_tags))\n",
    "print(len(adj_noun_tags) / len(adj_tags))"
   ]
  },
  {
   "cell_type": "code",
   "execution_count": 41,
   "metadata": {},
   "outputs": [
    {
     "name": "stdout",
     "output_type": "stream",
     "text": [
      "8283\n",
      "5287\n",
      "0.638295303633949\n"
     ]
    }
   ],
   "source": [
    "#Obtain % of Determinent tags followed by nouns\n",
    "dt_tags = [t for t in tags if t == 'DET']\n",
    "dt_noun_tags = [(t, tags[index+1]) for index, t in enumerate(tags) \n",
    "              if t=='DET' and tags[index+1]=='NOUN']\n",
    "\n",
    "print(len(dt_tags))\n",
    "print(len(dt_noun_tags))\n",
    "print(len(dt_noun_tags) / len(dt_tags))"
   ]
  },
  {
   "cell_type": "code",
   "execution_count": 42,
   "metadata": {},
   "outputs": [
    {
     "name": "stdout",
     "output_type": "stream",
     "text": [
      "3000\n",
      "1034\n",
      "0.3446666666666667\n"
     ]
    }
   ],
   "source": [
    "#Obtain % of Adverbs tags followed by Verbs\n",
    "adv_tags = [t for t in tags if t == 'ADV']\n",
    "adv_vb_tags = [(t, tags[index+1]) for index, t in enumerate(tags) \n",
    "              if t=='ADV' and tags[index+1]=='VERB']\n",
    "\n",
    "print(len(adv_tags))\n",
    "print(len(adv_vb_tags))\n",
    "print(len(adv_vb_tags) / len(adv_tags))"
   ]
  },
  {
   "cell_type": "code",
   "execution_count": 43,
   "metadata": {},
   "outputs": [],
   "source": [
    "# specify patterns for tagging\n",
    "patterns = [\n",
    "    (r'.*ing$', 'VERB'),              # gerund\n",
    "    (r'.*ed$', 'VERB'),               # past tense verbs\n",
    "    (r'.*es$', 'VERB'),               # singular present verbs\n",
    "    (r'.*ould$', 'VERB'),              # modal verbs\n",
    "    (r'.*\\'s$', 'NOUN'),              # possessive nouns\n",
    "    (r'.*s$', 'NOUN'),                # plural nouns\n",
    "    (r'^-?[0-9]+(.[0-9]+)?$', 'NUM'), # cardinal numbers\n",
    "    (r'(The|the|A|a|An|an)$', 'DET'),   # articles or determinants\n",
    "    (r'.*able$', 'ADJ'),                # adjectives\n",
    "    (r'.*ness$', 'NOUN'),                # nouns formed from adjectives\n",
    "    (r'.*ly$', 'ADV'),                  # adverbs\n",
    "    (r'.*', 'NOUN')                    # nouns\n",
    "]"
   ]
  },
  {
   "cell_type": "code",
   "execution_count": 44,
   "metadata": {},
   "outputs": [
    {
     "data": {
      "text/plain": [
       "0.9438837303189342"
      ]
     },
     "execution_count": 44,
     "metadata": {},
     "output_type": "execute_result"
    }
   ],
   "source": [
    "# rule based tagger\n",
    "rule_based_tagger = nltk.RegexpTagger(patterns)\n",
    "\n",
    "# lexicon backed up by the rule-based tagger\n",
    "lexicon_tagger = nltk.UnigramTagger(train_set, backoff=rule_based_tagger)\n",
    "lexicon_tagger.evaluate(test_set)"
   ]
  },
  {
   "cell_type": "markdown",
   "metadata": {},
   "source": [
    "#### Evaluating tagging accuracy"
   ]
  },
  {
   "cell_type": "code",
   "execution_count": 45,
   "metadata": {},
   "outputs": [],
   "source": [
    "#Trigram tagger backed by Bigram backed by Unigram which is backed by rule based tagger\n",
    "t0 = nltk.RegexpTagger(patterns)\n",
    "t1 = nltk.UnigramTagger(train_set, backoff=t0)\n",
    "t2 = nltk.BigramTagger(train_set, backoff=t1)\n",
    "t3 = nltk.TrigramTagger(train_set, backoff=t2)"
   ]
  },
  {
   "cell_type": "code",
   "execution_count": 46,
   "metadata": {},
   "outputs": [],
   "source": [
    "#Import libraries for brill\n",
    "import nltk.tag\n",
    "from nltk.tag import brill\n",
    "from nltk.tag.brill import *\n",
    "from nltk.tbl.template import Template\n",
    "from nltk.tag import BrillTaggerTrainer\n",
    "\n",
    "#Clear existing templates if any\n",
    "Template._cleartemplates()\n",
    "\n",
    "#Load the fntbl37 template\n",
    "templates = fntbl37()\n",
    " \n",
    "#Train the Brill model\n",
    "trainer = BrillTaggerTrainer(t3, templates)\n",
    "brill_tagger = trainer.train(train_set, max_rules=100, min_score=3)"
   ]
  },
  {
   "cell_type": "markdown",
   "metadata": {},
   "source": [
    "If we use laplace transformed viterbi it would be difficult to map the cases of uknown words since we have offset by a non zero probabilility for these cases.\n",
    "\n",
    "Therefore we will consider the rule based tagger without laplace transformation. The viterbi algorithm is to be modified such that when  state_probability is zero, then pmax will be zero. In such situations we can use the brill modelled with bigram, unigram and rule based backup to obtain a state_max. "
   ]
  },
  {
   "cell_type": "code",
   "execution_count": 47,
   "metadata": {},
   "outputs": [],
   "source": [
    "# Viterbi Heuristic\n",
    "def Viterbi_RuleBased(words, train_bag = train_tagged_words):\n",
    "    state = []\n",
    "    T = list(set([pair[1] for pair in train_bag]))\n",
    "    \n",
    "    for key, word in enumerate(words):\n",
    "        #initialise list of probability column for a given observation\n",
    "        p = [] \n",
    "        for tag in T:\n",
    "            if key == 0:\n",
    "                transition_p = tags_df.loc['.', tag]\n",
    "            else:\n",
    "                transition_p = tags_df.loc[state[-1], tag]\n",
    "                \n",
    "            # compute emission and state probabilities\n",
    "            emission_p = word_given_tag(words[key], tag)[0]/word_given_tag(words[key], tag)[1]\n",
    "            state_probability = emission_p * transition_p    \n",
    "            p.append(state_probability)\n",
    "            \n",
    "        pmax = max(p)\n",
    "       \n",
    "        #Check if state probability is zero\n",
    "        if(pmax==0.0):\n",
    "            #If state probability is zero i.e if the word is unknown if updates the tag based on the brill tagger\n",
    "            state_max = brill_tagger.tag([word])[0][1]\n",
    "        else:\n",
    "            # Obtaining state for which probability is maximum\n",
    "            state_max = T[p.index(pmax)] \n",
    "        state.append(state_max)\n",
    "    return list(zip(words, state))"
   ]
  },
  {
   "cell_type": "markdown",
   "metadata": {},
   "source": [
    "### Compare the tagging accuracies of the modifications with the vanilla Viterbi algorithm - 2 Rule based tagger."
   ]
  },
  {
   "cell_type": "code",
   "execution_count": 48,
   "metadata": {},
   "outputs": [
    {
     "name": "stdout",
     "output_type": "stream",
     "text": [
      "702.8513686656952\n"
     ]
    }
   ],
   "source": [
    "# tagging the test sentences with the updated Viterbi algorithm\n",
    "start = time.time()\n",
    "updated_tagged_seq = Viterbi_RuleBased(test_tagged_words)\n",
    "end = time.time()\n",
    "difference = end-start\n",
    "#Print total time taken to train the algorithm\n",
    "print(difference)"
   ]
  },
  {
   "cell_type": "code",
   "execution_count": 49,
   "metadata": {},
   "outputs": [
    {
     "data": {
      "text/plain": [
       "0.9477190149374243"
      ]
     },
     "execution_count": 49,
     "metadata": {},
     "output_type": "execute_result"
    }
   ],
   "source": [
    "# Calculate the accuracy for the updated Viterbi algorithm\n",
    "check = [i for i, j in zip(updated_tagged_seq, test_run_base) if i == j] \n",
    "accuracy = len(check)/len(updated_tagged_seq)\n",
    "accuracy"
   ]
  },
  {
   "cell_type": "markdown",
   "metadata": {},
   "source": [
    "#### Modified rule based tagger - 2 "
   ]
  },
  {
   "cell_type": "markdown",
   "metadata": {},
   "source": [
    "We find that even for tags where probability is not zero but close to zero there is a good chance that the predictions are inaccurate. Therefore instead of using zero probability for pmax - we can check for low values of pmax and use our Brill tagger with rule based backup instead. This could provide a good improvement to not just unknown tag prediction but also to tags inaccurately predicted."
   ]
  },
  {
   "cell_type": "code",
   "execution_count": 53,
   "metadata": {},
   "outputs": [],
   "source": [
    "# Viterbi Heuristic\n",
    "def Viterbi_RuleBased2(words, train_bag = train_tagged_words):\n",
    "    state = []\n",
    "    T = list(set([pair[1] for pair in train_bag]))\n",
    "    \n",
    "    for key, word in enumerate(words):\n",
    "        #initialise list of probability column for a given observation\n",
    "        p = [] \n",
    "        for tag in T:\n",
    "            if key == 0:\n",
    "                transition_p = tags_df.loc['.', tag]\n",
    "            else:\n",
    "                transition_p = tags_df.loc[state[-1], tag]\n",
    "                \n",
    "            # compute emission and state probabilities\n",
    "            emission_p = word_given_tag(words[key], tag)[0]/word_given_tag(words[key], tag)[1]\n",
    "            state_probability = emission_p * transition_p    \n",
    "            p.append(state_probability)\n",
    "            \n",
    "        pmax = max(p)\n",
    "       \n",
    "        #Check if state probability is close to zero\n",
    "        if(pmax<0.001):\n",
    "            #If state probability is very small if the word is unknown or does not have good probabilistic predictions\n",
    "            # we can utilizethe brill tagger\n",
    "            state_max = brill_tagger.tag([word])[0][1]\n",
    "        else:\n",
    "            # Obtaining state for which probability is maximum\n",
    "            state_max = T[p.index(pmax)] \n",
    "        state.append(state_max)\n",
    "    return list(zip(words, state))"
   ]
  },
  {
   "cell_type": "markdown",
   "metadata": {},
   "source": [
    "### Compare the tagging accuracies of the modifications with the vanilla Viterbi algorithm - 3 Rule based 2nd model"
   ]
  },
  {
   "cell_type": "code",
   "execution_count": 105,
   "metadata": {
    "scrolled": true
   },
   "outputs": [
    {
     "name": "stdout",
     "output_type": "stream",
     "text": [
      "36.517091274261475\n"
     ]
    }
   ],
   "source": [
    "# tagging the test sentences with the updated Viterbi algorith - Cannot run the whole test due to it taking close to 6 hours\n",
    "# list of tagged words\n",
    "test_run_base_sample = [tup for sent in test_set[100] for tup in sent]\n",
    "\n",
    "# list of untagged words\n",
    "test_tagged_words_sample = [tup[0] for sent in test_run_base_sample for tup in sent]\n",
    "\n",
    "start = time.time()\n",
    "updated_tagged_seq = Viterbi_RuleBased2(test_tagged_words_sample)\n",
    "end = time.time()\n",
    "difference = end-start\n",
    "#Print total time taken to train the algorithm\n",
    "print(difference)"
   ]
  },
  {
   "cell_type": "code",
   "execution_count": 106,
   "metadata": {
    "collapsed": true
   },
   "outputs": [
    {
     "data": {
      "text/plain": [
       "0.0"
      ]
     },
     "execution_count": 106,
     "metadata": {},
     "output_type": "execute_result"
    }
   ],
   "source": [
    "# Calculate the accuracy for the updated Viterbi algorithm\n",
    "check = [i for i, j in zip(updated_tagged_seq, test_tagged_words_sample) if i == j] \n",
    "accuracy = len(check)/len(updated_tagged_seq)\n",
    "accuracy"
   ]
  },
  {
   "cell_type": "markdown",
   "metadata": {},
   "source": [
    "### List down cases which were incorrectly tagged by original POS tagger and got corrected by your modifications"
   ]
  },
  {
   "cell_type": "code",
   "execution_count": 79,
   "metadata": {},
   "outputs": [
    {
     "name": "stdout",
     "output_type": "stream",
     "text": [
      "[[('Android', 'X'), ('is', 'VERB'), ('a', 'DET'), ('mobile', 'ADJ'), ('operating', 'NOUN'), ('system', 'NOUN'), ('developed', 'VERB'), ('by', 'ADP'), ('Google', 'X'), ('.', '.')], [('Android', 'X'), ('has', 'VERB'), ('been', 'VERB'), ('the', 'DET'), ('best-selling', 'ADJ'), ('OS', 'X'), ('worldwide', 'X'), ('on', 'ADP'), ('smartphones', 'X'), ('since', 'ADP'), ('2011', 'X'), ('and', 'CONJ'), ('on', 'ADP'), ('tablets', 'NOUN'), ('since', 'ADP'), ('2013', 'X'), ('.', '.')], [('Google', 'X'), ('and', 'CONJ'), ('Twitter', 'X'), ('made', 'VERB'), ('a', 'DET'), ('deal', 'NOUN'), ('in', 'ADP'), ('2015', 'X'), ('that', 'ADP'), ('gave', 'VERB'), ('Google', 'X'), ('access', 'NOUN'), ('to', 'PRT'), ('Twitter', 'X'), (\"'s\", 'PRT'), ('firehose', 'X'), ('.', '.')], [('Twitter', 'X'), ('is', 'VERB'), ('an', 'DET'), ('online', 'X'), ('news', 'NOUN'), ('and', 'CONJ'), ('social', 'ADJ'), ('networking', 'NOUN'), ('service', 'NOUN'), ('on', 'ADP'), ('which', 'DET'), ('users', 'NOUN'), ('post', 'NOUN'), ('and', 'CONJ'), ('interact', 'X'), ('with', 'ADP'), ('messages', 'X'), ('known', 'VERB'), ('as', 'ADP'), ('tweets', 'X'), ('.', '.')], [('Before', 'ADP'), ('entering', 'VERB'), ('politics', 'NOUN'), (',', '.'), ('Donald', 'NOUN'), ('Trump', 'NOUN'), ('was', 'VERB'), ('a', 'DET'), ('domineering', 'X'), ('businessman', 'NOUN'), ('and', 'CONJ'), ('a', 'DET'), ('television', 'NOUN'), ('personality', 'X'), ('.', '.')], [('The', 'DET'), ('2018', 'X'), ('FIFA', 'X'), ('World', 'NOUN'), ('Cup', 'X'), ('is', 'VERB'), ('the', 'DET'), ('21st', 'X'), ('FIFA', 'X'), ('World', 'NOUN'), ('Cup', 'X'), (',', '.'), ('an', 'DET'), ('international', 'ADJ'), ('football', 'NOUN'), ('tournament', 'X'), ('contested', 'X'), ('once', 'ADV'), ('every', 'DET'), ('four', 'NUM'), ('years', 'NOUN'), ('.', '.')], [('This', 'DET'), ('is', 'VERB'), ('the', 'DET'), ('first', 'ADJ'), ('World', 'NOUN'), ('Cup', 'X'), ('to', 'PRT'), ('be', 'VERB'), ('held', 'VERB'), ('in', 'ADP'), ('Eastern', 'NOUN'), ('Europe', 'NOUN'), ('and', 'CONJ'), ('the', 'DET'), ('11th', 'ADJ'), ('time', 'NOUN'), ('that', 'ADP'), ('it', 'PRON'), ('has', 'VERB'), ('been', 'VERB'), ('held', 'VERB'), ('in', 'ADP'), ('Europe', 'NOUN'), ('.', '.')], [('Show', 'NOUN'), ('me', 'PRON'), ('the', 'DET'), ('cheapest', 'ADJ'), ('round', 'NOUN'), ('trips', 'X'), ('from', 'ADP'), ('Dallas', 'NOUN'), ('to', 'PRT'), ('Atlanta', 'NOUN')], [('I', 'PRON'), ('would', 'VERB'), ('like', 'ADP'), ('to', 'PRT'), ('see', 'VERB'), ('flights', 'NOUN'), ('from', 'ADP'), ('Denver', 'NOUN'), ('to', 'PRT'), ('Philadelphia', 'NOUN'), ('.', '.')], [('Show', 'NOUN'), ('me', 'PRON'), ('the', 'DET'), ('price', 'NOUN'), ('of', 'ADP'), ('the', 'DET'), ('flights', 'NOUN'), ('leaving', 'VERB'), ('Atlanta', 'NOUN'), ('at', 'ADP'), ('about', 'ADP'), ('3', 'NUM'), ('in', 'ADP'), ('the', 'DET'), ('afternoon', 'NOUN'), ('and', 'CONJ'), ('arriving', 'X'), ('in', 'ADP'), ('San', 'NOUN'), ('Francisco', 'NOUN'), ('.', '.')], [('NASA', 'X'), ('invited', 'X'), ('social', 'ADJ'), ('media', 'NOUN'), ('users', 'NOUN'), ('to', 'PRT'), ('experience', 'NOUN'), ('the', 'DET'), ('launch', 'NOUN'), ('of', 'ADP'), ('ICESAT-2', 'X'), ('Satellite', 'X'), ('.', '.')]]\n"
     ]
    }
   ],
   "source": [
    "# print the test sentences with the initial Viterbi algorithm\n",
    "vanilla_viterbi = []\n",
    "for line in test_sentences:\n",
    "    vanilla_viterbi.append(list(Viterbi(word_tokenize(line))))\n",
    "print(vanilla_viterbi)"
   ]
  },
  {
   "cell_type": "code",
   "execution_count": 127,
   "metadata": {},
   "outputs": [],
   "source": [
    "def Diff(li1, li2): \n",
    "    li_diff = []\n",
    "    list1 = [item for sublist in li1 for item in sublist]\n",
    "    list2 = [item for sublist in li2 for item in sublist]\n",
    "    for i in list1 : \n",
    "        for j in list2:\n",
    "            if (i[0]==j[0] and i[1]!=j[1]):\n",
    "                li_diff.append((i[0],i[1],j[1]))\n",
    "    return set(li_diff) "
   ]
  },
  {
   "cell_type": "code",
   "execution_count": 128,
   "metadata": {},
   "outputs": [
    {
     "data": {
      "text/plain": [
       "{('2011', 'DET', 'X'),\n",
       " ('2013', 'DET', 'X'),\n",
       " ('2015', 'DET', 'X'),\n",
       " ('2018', 'NOUN', 'X'),\n",
       " ('21st', 'NOUN', 'X'),\n",
       " ('Android', 'DET', 'X'),\n",
       " ('Cup', '.', 'X'),\n",
       " ('FIFA', '.', 'X'),\n",
       " ('Google', 'DET', 'X'),\n",
       " ('ICESAT-2', 'DET', 'X'),\n",
       " ('NASA', 'DET', 'X'),\n",
       " ('OS', 'NOUN', 'X'),\n",
       " ('Satellite', 'NOUN', 'X'),\n",
       " ('Twitter', '.', 'X'),\n",
       " ('Twitter', 'DET', 'X'),\n",
       " ('Twitter', 'VERB', 'X'),\n",
       " ('and', 'NOUN', 'CONJ'),\n",
       " ('arriving', 'NOUN', 'X'),\n",
       " ('contested', 'DET', 'X'),\n",
       " ('domineering', 'NOUN', 'X'),\n",
       " ('firehose', 'VERB', 'X'),\n",
       " ('interact', 'NOUN', 'X'),\n",
       " ('invited', 'NOUN', 'X'),\n",
       " ('messages', 'DET', 'X'),\n",
       " ('online', 'NOUN', 'X'),\n",
       " ('personality', '.', 'X'),\n",
       " ('smartphones', 'DET', 'X'),\n",
       " ('tournament', '.', 'X'),\n",
       " ('trips', '.', 'X'),\n",
       " ('tweets', 'DET', 'X'),\n",
       " ('worldwide', '.', 'X')}"
      ]
     },
     "execution_count": 128,
     "metadata": {},
     "output_type": "execute_result"
    }
   ],
   "source": [
    "# print the test sentences with the laplace modified Viterbi algorithm\n",
    "laplace_viterbi = []\n",
    "for line in test_sentences:\n",
    "    laplace_viterbi.append(list(Viterbi_Laplace(word_tokenize(line))))\n",
    "Diff(laplace_viterbi,vanilla_viterbi)"
   ]
  },
  {
   "cell_type": "code",
   "execution_count": 129,
   "metadata": {},
   "outputs": [
    {
     "data": {
      "text/plain": [
       "{('2011', 'NUM', 'X'),\n",
       " ('2013', 'NUM', 'X'),\n",
       " ('2015', 'NUM', 'X'),\n",
       " ('2018', 'NUM', 'X'),\n",
       " ('21st', 'NOUN', 'X'),\n",
       " ('Android', 'NOUN', 'X'),\n",
       " ('Cup', 'NOUN', 'X'),\n",
       " ('FIFA', 'NOUN', 'X'),\n",
       " ('Google', 'NOUN', 'X'),\n",
       " ('ICESAT-2', 'NOUN', 'X'),\n",
       " ('NASA', 'NOUN', 'X'),\n",
       " ('OS', 'NOUN', 'X'),\n",
       " ('Satellite', 'NOUN', 'X'),\n",
       " ('Twitter', 'NOUN', 'X'),\n",
       " ('arriving', 'VERB', 'X'),\n",
       " ('contested', 'VERB', 'X'),\n",
       " ('domineering', 'VERB', 'X'),\n",
       " ('firehose', 'NOUN', 'X'),\n",
       " ('interact', 'NOUN', 'X'),\n",
       " ('invited', 'VERB', 'X'),\n",
       " ('messages', 'VERB', 'X'),\n",
       " ('online', 'NOUN', 'X'),\n",
       " ('personality', 'NOUN', 'X'),\n",
       " ('smartphones', 'VERB', 'X'),\n",
       " ('tournament', 'NOUN', 'X'),\n",
       " ('trips', 'NOUN', 'X'),\n",
       " ('tweets', 'NOUN', 'X'),\n",
       " ('worldwide', 'NOUN', 'X')}"
      ]
     },
     "execution_count": 129,
     "metadata": {},
     "output_type": "execute_result"
    }
   ],
   "source": [
    "# print the test sentences with the rule based Viterbi algorithm\n",
    "rule_viterbi1 = []\n",
    "for line in test_sentences:\n",
    "    rule_viterbi1.append(list(Viterbi_RuleBased(word_tokenize(line))))\n",
    "Diff(rule_viterbi1,vanilla_viterbi)"
   ]
  },
  {
   "cell_type": "code",
   "execution_count": 130,
   "metadata": {},
   "outputs": [
    {
     "data": {
      "text/plain": [
       "{('2011', 'NUM', 'X'),\n",
       " ('2013', 'NUM', 'X'),\n",
       " ('2015', 'NUM', 'X'),\n",
       " ('2018', 'NUM', 'X'),\n",
       " ('21st', 'NOUN', 'X'),\n",
       " ('3', 'X', 'NUM'),\n",
       " ('Android', 'NOUN', 'X'),\n",
       " ('Cup', 'NOUN', 'X'),\n",
       " ('FIFA', 'NOUN', 'X'),\n",
       " ('Google', 'NOUN', 'X'),\n",
       " ('ICESAT-2', 'NOUN', 'X'),\n",
       " ('NASA', 'NOUN', 'X'),\n",
       " ('OS', 'NOUN', 'X'),\n",
       " ('Satellite', 'NOUN', 'X'),\n",
       " ('Twitter', 'NOUN', 'X'),\n",
       " ('arriving', 'VERB', 'X'),\n",
       " ('contested', 'VERB', 'X'),\n",
       " ('domineering', 'VERB', 'X'),\n",
       " ('firehose', 'NOUN', 'X'),\n",
       " ('interact', 'NOUN', 'X'),\n",
       " ('invited', 'VERB', 'X'),\n",
       " ('messages', 'VERB', 'X'),\n",
       " ('online', 'NOUN', 'X'),\n",
       " ('personality', 'NOUN', 'X'),\n",
       " ('smartphones', 'VERB', 'X'),\n",
       " ('tournament', 'NOUN', 'X'),\n",
       " ('trips', 'NOUN', 'X'),\n",
       " ('tweets', 'NOUN', 'X'),\n",
       " ('worldwide', 'NOUN', 'X')}"
      ]
     },
     "execution_count": 130,
     "metadata": {},
     "output_type": "execute_result"
    }
   ],
   "source": [
    "# print the test sentences with the updated rule based Viterbi algorithm\n",
    "rule_viterbi2 = []\n",
    "for line in test_sentences:\n",
    "    rule_viterbi2.append(list(Viterbi_RuleBased2(word_tokenize(line))))\n",
    "Diff(rule_viterbi2,vanilla_viterbi)"
   ]
  },
  {
   "cell_type": "markdown",
   "metadata": {},
   "source": [
    "### Cases correctly predicted by modifications \n",
    "1. Laplace\n",
    "    - OS\n",
    "    - online\n",
    "    - Cup\n",
    "    - Sattelite\n",
    "    \n",
    "    \n",
    "However incorrectly predicted 'and' as a noun rather than conjunction\n",
    "\n",
    "\n",
    "2. Rule based 1\n",
    "    - Android\n",
    "    - Google\n",
    "    - 2018\n",
    "    - Cup\n",
    "3. Rule based 2\n",
    "    - Android\n",
    "    - Google\n",
    "    - 2018\n",
    "    - Cup\n",
    "    - ICESAT-2"
   ]
  },
  {
   "cell_type": "code",
   "execution_count": null,
   "metadata": {},
   "outputs": [],
   "source": []
  }
 ],
 "metadata": {
  "kernelspec": {
   "display_name": "Python 3",
   "language": "python",
   "name": "python3"
  },
  "language_info": {
   "codemirror_mode": {
    "name": "ipython",
    "version": 3
   },
   "file_extension": ".py",
   "mimetype": "text/x-python",
   "name": "python",
   "nbconvert_exporter": "python",
   "pygments_lexer": "ipython3",
   "version": "3.7.3"
  }
 },
 "nbformat": 4,
 "nbformat_minor": 2
}
