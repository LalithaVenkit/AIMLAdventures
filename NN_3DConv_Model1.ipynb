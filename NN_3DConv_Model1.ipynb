{
 "cells": [
  {
   "cell_type": "markdown",
   "metadata": {},
   "source": [
    "# Gesture Recognition\n",
    "In this group project, you are going to build a 3D Conv model that will be able to predict the 5 gestures correctly. Please import the following libraries to get started."
   ]
  },
  {
   "cell_type": "code",
   "execution_count": 1,
   "metadata": {
    "scrolled": true
   },
   "outputs": [],
   "source": [
    "import numpy as np\n",
    "import os\n",
    "from skimage.util import crop\n",
    "from skimage.io import imread\n",
    "from skimage.transform import resize\n",
    "import datetime\n",
    "import os"
   ]
  },
  {
   "cell_type": "markdown",
   "metadata": {},
   "source": [
    "We set the random seed so that the results don't vary drastically."
   ]
  },
  {
   "cell_type": "code",
   "execution_count": 2,
   "metadata": {},
   "outputs": [
    {
     "name": "stderr",
     "output_type": "stream",
     "text": [
      "Using TensorFlow backend.\n"
     ]
    }
   ],
   "source": [
    "np.random.seed(30)\n",
    "import random as rn\n",
    "rn.seed(30)\n",
    "from keras import backend as K\n",
    "import tensorflow as tf\n",
    "tf.random.set_seed(30)\n",
    "import keras"
   ]
  },
  {
   "cell_type": "code",
   "execution_count": 3,
   "metadata": {},
   "outputs": [
    {
     "name": "stdout",
     "output_type": "stream",
     "text": [
      "[PhysicalDevice(name='/physical_device:GPU:0', device_type='GPU')]\n",
      "[LogicalDevice(name='/device:GPU:0', device_type='GPU')]\n",
      "2.1.0\n",
      "WARNING:tensorflow:From <ipython-input-3-f3be6b0dde08>:6: is_gpu_available (from tensorflow.python.framework.test_util) is deprecated and will be removed in a future version.\n",
      "Instructions for updating:\n",
      "Use `tf.config.list_physical_devices('GPU')` instead.\n"
     ]
    },
    {
     "data": {
      "text/plain": [
       "True"
      ]
     },
     "execution_count": 3,
     "metadata": {},
     "output_type": "execute_result"
    }
   ],
   "source": [
    "gpus = tf.config.experimental.list_physical_devices(\"GPU\")\n",
    "print(gpus)\n",
    "logical_gpus = tf.config.experimental.list_logical_devices('GPU')\n",
    "print(logical_gpus)\n",
    "print(tf.__version__)\n",
    "tf.test.is_gpu_available()"
   ]
  },
  {
   "cell_type": "markdown",
   "metadata": {},
   "source": [
    "In this block, you read the folder names for training and validation. You also set the `batch_size` here. Note that you set the batch size in such a way that you are able to use the GPU in full capacity. You keep increasing the batch size until the machine throws an error."
   ]
  },
  {
   "cell_type": "code",
   "execution_count": 4,
   "metadata": {},
   "outputs": [],
   "source": [
    "train_doc = np.random.permutation(open('./Project_data/train.csv').readlines())\n",
    "val_doc = np.random.permutation(open('./Project_data/val.csv').readlines())\n",
    "batch_size = 16 #experiment with the batch size\n",
    "frame_size = 30//3"
   ]
  },
  {
   "cell_type": "code",
   "execution_count": 5,
   "metadata": {},
   "outputs": [
    {
     "name": "stdout",
     "output_type": "stream",
     "text": [
      "10\n"
     ]
    }
   ],
   "source": [
    "print(frame_size)"
   ]
  },
  {
   "cell_type": "markdown",
   "metadata": {},
   "source": [
    "## Generator\n",
    "This is one of the most important part of the code. The overall structure of the generator has been given. In the generator, you are going to preprocess the images as you have images of 2 different dimensions as well as create a batch of video frames. You have to experiment with `img_idx`, `y`,`z` and normalization such that you get high accuracy."
   ]
  },
  {
   "cell_type": "code",
   "execution_count": 6,
   "metadata": {},
   "outputs": [],
   "source": [
    "from keras.applications.vgg16 import preprocess_input"
   ]
  },
  {
   "cell_type": "code",
   "execution_count": 7,
   "metadata": {},
   "outputs": [],
   "source": [
    "def generator(source_path, folder_list, batch_size, preprocess=False):\n",
    "    print( 'Source path = ', source_path, '; batch size =', batch_size)\n",
    "    img_idx = range(0,30,30//frame_size) #create a list of image numbers you want to use for a particular video\n",
    "    while True:\n",
    "        t = np.random.permutation(folder_list)\n",
    "        num_batches = len(t)//batch_size # calculate the number of batches\n",
    "        for batch in range(num_batches): # we iterate over the number of batches\n",
    "            if preprocess:\n",
    "                batch_data = np.zeros((batch_size,frame_size,224,224,3)) # x is the number of images you use for each video, (y,z) is the final size of the input images and 3 is the number of channels RGB\n",
    "            else:\n",
    "                batch_data = np.zeros((batch_size,frame_size,120,120,3)) # x is the number of images you use for each video, (y,z) is the final size of the input images and 3 is the number of channels RGB\n",
    "            batch_labels = np.zeros((batch_size,5)) # batch_labels is the one hot representation of the output\n",
    "            for folder in range(batch_size): # iterate over the batch_size\n",
    "                imgs = os.listdir(source_path+'/'+ t[folder + (batch*batch_size)].split(';')[0]) # read all the images in the folder\n",
    "                for idx,item in enumerate(img_idx): #  Iterate iver the frames/images of a folder to read them in\n",
    "                    image = imread(source_path+'/'+ t[folder + (batch*batch_size)].strip().split(';')[0]+'/'+imgs[item]) #.astype(np.float32)\n",
    "                    #crop the images and resize them. Note that the images are of 2 different shape \n",
    "                    #and the conv3D will throw error if the inputs in a batch have different shapes\n",
    "                    if image.shape == (120, 160, 3):\n",
    "                            image = crop(image,((0,0),(20,20),(0,0)))\n",
    "                    if preprocess:\n",
    "                        image = resize(image, (224, 224), anti_aliasing=True)\n",
    "                        image = preprocess_input(image)\n",
    "                        batch_data[folder,idx,:,:,0] = image[:,:,0]\n",
    "                        batch_data[folder,idx,:,:,1] = image[:,:,1]\n",
    "                        batch_data[folder,idx,:,:,2] = image[:,:,2]\n",
    "                        \n",
    "                    else:\n",
    "                        image = resize(image, (120, 120), anti_aliasing=True)\n",
    "                        batch_data[folder,idx,:,:,0] = image[:,:,0]/255 #normalise and feed in the image\n",
    "                        batch_data[folder,idx,:,:,1] = image[:,:,1]/255 #normalise and feed in the image\n",
    "                        batch_data[folder,idx,:,:,2] = image[:,:,2]/255 #normalise and feed in the image\n",
    "                    \n",
    "                batch_labels[folder, int(t[folder + (batch*batch_size)].strip().split(';')[2])] = 1\n",
    "            yield batch_data, batch_labels #you yield the batch_data and the batch_labels, remember what does yield do\n",
    "\n",
    "        # write the code for the remaining data points which are left after full batches\n",
    "        if len(t) %batch_size != 0 :\n",
    "            rem = len(t)% batch_size\n",
    "            if preprocess:\n",
    "                batch_data = np.zeros((rem,frame_size,224,224,3))\n",
    "            else:\n",
    "                batch_data = np.zeros((rem,frame_size,120,120,3)) # x is the number of images you use for each video, (y,z) is the final size of the input images and 3 is the number of channels RGB\n",
    "            batch_labels = np.zeros((rem,5)) # batch_labels is the one hot representation of the output\n",
    "            imgs = os.listdir(source_path+'/'+ t[-rem].split(';')[0]) # read all the images in the folder\n",
    "            index = range(0,30,5)\n",
    "            for folder in range(rem):\n",
    "                for idx,item in enumerate(index): #  Iterate iver the frames/images of a folder to read them in\n",
    "                    image   = imread(source_path+'/'+ t[-rem].strip().split(';')[0]+'/'+imgs[item])\n",
    "                    #crop the images and resize them. Note that the images are of 2 different shape \n",
    "                    #and the conv3D will throw error if the inputs in a batch have different shapes\n",
    "                    \n",
    "                    if image.shape == (120, 160, 3):\n",
    "                            image = crop(image,((0,0),(20,20),(0,0)))\n",
    "                    \n",
    "                    if preprocess:\n",
    "                        image = resize(image, (224, 224), anti_aliasing=True)\n",
    "                        image = preprocess_input(image)\n",
    "                        batch_data[folder,idx,:,:,0] = image[:,:,0]\n",
    "                        batch_data[folder,idx,:,:,1] = image[:,:,1]\n",
    "                        batch_data[folder,idx,:,:,2] = image[:,:,2]\n",
    "                        \n",
    "                    else:\n",
    "                        image = resize(image, (120, 120), anti_aliasing=True)\n",
    "                        batch_data[folder,idx,:,:,0] = image[:,:,0]/255 #normalise and feed in the image\n",
    "                        batch_data[folder,idx,:,:,1] = image[:,:,1]/255 #normalise and feed in the image\n",
    "                        batch_data[folder,idx,:,:,2] = image[:,:,2]/255 #normalise and feed in the image\n",
    "                    \n",
    "                batch_labels[folder, int(t[-(rem - folder)].strip().split(';')[2])] = 1\n",
    "            yield batch_data, batch_labels #you yield the batch_data and the batch_labels, remember what does yield do\n"
   ]
  },
  {
   "cell_type": "markdown",
   "metadata": {},
   "source": [
    "Note here that a video is represented above in the generator as (number of images, height, width, number of channels). Take this into consideration while creating the model architecture."
   ]
  },
  {
   "cell_type": "code",
   "execution_count": 8,
   "metadata": {},
   "outputs": [
    {
     "name": "stdout",
     "output_type": "stream",
     "text": [
      "# training sequences = 663\n",
      "# validation sequences = 100\n"
     ]
    }
   ],
   "source": [
    "curr_dt_time = datetime.datetime.now()\n",
    "train_path = './Project_data/train'\n",
    "val_path = './Project_data/val'\n",
    "num_train_sequences = len(train_doc)\n",
    "print('# training sequences =', num_train_sequences)\n",
    "num_val_sequences = len(val_doc)\n",
    "print('# validation sequences =', num_val_sequences)"
   ]
  },
  {
   "cell_type": "code",
   "execution_count": 9,
   "metadata": {},
   "outputs": [
    {
     "name": "stdout",
     "output_type": "stream",
     "text": [
      "# epochs = 30\n"
     ]
    }
   ],
   "source": [
    "num_epochs = 30 # choose the number of epochs\n",
    "print ('# epochs =', num_epochs)"
   ]
  },
  {
   "cell_type": "markdown",
   "metadata": {},
   "source": [
    "## Model\n",
    "Here you make the model using different functionalities that Keras provides. Remember to use `Conv3D` and `MaxPooling3D` and not `Conv2D` and `Maxpooling2D` for a 3D convolution model. You would want to use `TimeDistributed` while building a Conv2D + RNN model. Also remember that the last layer is the softmax. Design the network in such a way that the model is able to give good accuracy on the least number of parameters so that it can fit in the memory of the webcam."
   ]
  },
  {
   "cell_type": "code",
   "execution_count": 10,
   "metadata": {},
   "outputs": [],
   "source": [
    "from keras.models import Sequential, Model\n",
    "from keras.layers import Dense, GRU, Flatten, TimeDistributed, Flatten, BatchNormalization, Activation, RepeatVector, Input, Dropout\n",
    "from keras.layers.convolutional import Conv3D, MaxPooling3D, MaxPooling2D\n",
    "from keras.callbacks import ModelCheckpoint, ReduceLROnPlateau\n",
    "from keras import optimizers\n",
    "from keras.regularizers import l2"
   ]
  },
  {
   "cell_type": "code",
   "execution_count": 11,
   "metadata": {},
   "outputs": [],
   "source": [
    "n_classes = 5\n",
    "features = 224\n",
    "channels = 3\n",
    "\n",
    "model = Sequential()\n",
    "model.add(Conv3D(batch_size, (3, 3, 3), padding='same',\n",
    "                 input_shape=(frame_size, 120, 120, 3 )))\n",
    "model.add(Activation('relu'))\n",
    "model.add(BatchNormalization())\n",
    "model.add(Conv3D(batch_size, (3, 3, 3)))\n",
    "model.add(Activation('relu'))\n",
    "model.add(BatchNormalization())\n",
    "model.add(MaxPooling3D(pool_size=(2, 2, 2)))\n",
    "model.add(Dropout(0.2))\n",
    "\n",
    "model.add(Conv3D(32, (3, 3, 3), strides=(1,1,1), padding='same'))\n",
    "model.add(Activation('relu'))\n",
    "model.add(BatchNormalization())\n",
    "model.add(MaxPooling3D(pool_size=(2, 2, 2)))\n",
    "model.add(Conv3D(32, (3, 3, 3), strides=(1,1,1), padding='same'))\n",
    "model.add(Activation('relu'))\n",
    "model.add(BatchNormalization())\n",
    "model.add(MaxPooling3D(pool_size=(2, 2, 2)))\n",
    "model.add(Dropout(0.2))\n",
    "\n",
    "\n",
    "model.add(Conv3D(64, (3, 3, 3), strides=(2,2,2), padding='same'))\n",
    "model.add(Activation('relu'))\n",
    "model.add(BatchNormalization())\n",
    "model.add(MaxPooling3D(pool_size=(1, 1, 1)))\n",
    "model.add(Conv3D(64, (3, 3, 3), strides=(2,2,2), padding='same'))\n",
    "model.add(Activation('relu'))\n",
    "model.add(BatchNormalization())\n",
    "model.add(MaxPooling3D(pool_size=(1, 1, 1)))\n",
    "model.add(Dropout(0.2))\n",
    "\n",
    "\n",
    "model.add(Conv3D(128, (3, 3, 3), strides=(4,4,4), padding='same'))\n",
    "model.add(Activation('relu'))\n",
    "model.add(BatchNormalization())\n",
    "model.add(MaxPooling3D(pool_size=(1, 1, 1)))\n",
    "model.add(Conv3D(128, (3, 3, 3), strides=(4,4,4), padding='same'))\n",
    "model.add(Activation('relu'))\n",
    "model.add(BatchNormalization())\n",
    "model.add(MaxPooling3D(pool_size=(1, 1, 1)))\n",
    "model.add(Dropout(0.2))\n",
    "\n",
    "model.add(Conv3D(256, (3, 3, 3), strides=(8,8,8), padding='same'))\n",
    "model.add(Activation('relu'))\n",
    "model.add(BatchNormalization())\n",
    "model.add(MaxPooling3D(pool_size=(1, 1, 1)))\n",
    "model.add(Conv3D(256, (3, 3, 3), strides=(8,8,8), padding='same'))\n",
    "model.add(Activation('relu'))\n",
    "model.add(BatchNormalization())\n",
    "model.add(MaxPooling3D(pool_size=(1, 1, 1)))\n",
    "model.add(Dropout(0.2))\n",
    "\n",
    "model.add(Flatten())\n",
    "model.add(Dense(128,kernel_regularizer=l2(0.01)))\n",
    "model.add(Activation('relu'))\n",
    "model.add(Dropout(0.3))\n",
    "model.add(Dense(n_classes))\n",
    "model.add(Activation('softmax'))"
   ]
  },
  {
   "cell_type": "markdown",
   "metadata": {},
   "source": [
    "Now that you have written the model, the next step is to `compile` the model. When you print the `summary` of the model, you'll see the total number of parameters you have to train."
   ]
  },
  {
   "cell_type": "code",
   "execution_count": 12,
   "metadata": {},
   "outputs": [
    {
     "name": "stdout",
     "output_type": "stream",
     "text": [
      "Model: \"sequential_1\"\n",
      "_________________________________________________________________\n",
      "Layer (type)                 Output Shape              Param #   \n",
      "=================================================================\n",
      "conv3d_1 (Conv3D)            (None, 10, 120, 120, 16)  1312      \n",
      "_________________________________________________________________\n",
      "activation_1 (Activation)    (None, 10, 120, 120, 16)  0         \n",
      "_________________________________________________________________\n",
      "batch_normalization_1 (Batch (None, 10, 120, 120, 16)  64        \n",
      "_________________________________________________________________\n",
      "conv3d_2 (Conv3D)            (None, 8, 118, 118, 16)   6928      \n",
      "_________________________________________________________________\n",
      "activation_2 (Activation)    (None, 8, 118, 118, 16)   0         \n",
      "_________________________________________________________________\n",
      "batch_normalization_2 (Batch (None, 8, 118, 118, 16)   64        \n",
      "_________________________________________________________________\n",
      "max_pooling3d_1 (MaxPooling3 (None, 4, 59, 59, 16)     0         \n",
      "_________________________________________________________________\n",
      "dropout_1 (Dropout)          (None, 4, 59, 59, 16)     0         \n",
      "_________________________________________________________________\n",
      "conv3d_3 (Conv3D)            (None, 4, 59, 59, 32)     13856     \n",
      "_________________________________________________________________\n",
      "activation_3 (Activation)    (None, 4, 59, 59, 32)     0         \n",
      "_________________________________________________________________\n",
      "batch_normalization_3 (Batch (None, 4, 59, 59, 32)     128       \n",
      "_________________________________________________________________\n",
      "max_pooling3d_2 (MaxPooling3 (None, 2, 29, 29, 32)     0         \n",
      "_________________________________________________________________\n",
      "conv3d_4 (Conv3D)            (None, 2, 29, 29, 32)     27680     \n",
      "_________________________________________________________________\n",
      "activation_4 (Activation)    (None, 2, 29, 29, 32)     0         \n",
      "_________________________________________________________________\n",
      "batch_normalization_4 (Batch (None, 2, 29, 29, 32)     128       \n",
      "_________________________________________________________________\n",
      "max_pooling3d_3 (MaxPooling3 (None, 1, 14, 14, 32)     0         \n",
      "_________________________________________________________________\n",
      "dropout_2 (Dropout)          (None, 1, 14, 14, 32)     0         \n",
      "_________________________________________________________________\n",
      "conv3d_5 (Conv3D)            (None, 1, 7, 7, 64)       55360     \n",
      "_________________________________________________________________\n",
      "activation_5 (Activation)    (None, 1, 7, 7, 64)       0         \n",
      "_________________________________________________________________\n",
      "batch_normalization_5 (Batch (None, 1, 7, 7, 64)       256       \n",
      "_________________________________________________________________\n",
      "max_pooling3d_4 (MaxPooling3 (None, 1, 7, 7, 64)       0         \n",
      "_________________________________________________________________\n",
      "conv3d_6 (Conv3D)            (None, 1, 4, 4, 64)       110656    \n",
      "_________________________________________________________________\n",
      "activation_6 (Activation)    (None, 1, 4, 4, 64)       0         \n",
      "_________________________________________________________________\n",
      "batch_normalization_6 (Batch (None, 1, 4, 4, 64)       256       \n",
      "_________________________________________________________________\n",
      "max_pooling3d_5 (MaxPooling3 (None, 1, 4, 4, 64)       0         \n",
      "_________________________________________________________________\n",
      "dropout_3 (Dropout)          (None, 1, 4, 4, 64)       0         \n",
      "_________________________________________________________________\n",
      "conv3d_7 (Conv3D)            (None, 1, 1, 1, 128)      221312    \n",
      "_________________________________________________________________\n",
      "activation_7 (Activation)    (None, 1, 1, 1, 128)      0         \n",
      "_________________________________________________________________\n",
      "batch_normalization_7 (Batch (None, 1, 1, 1, 128)      512       \n",
      "_________________________________________________________________\n",
      "max_pooling3d_6 (MaxPooling3 (None, 1, 1, 1, 128)      0         \n",
      "_________________________________________________________________\n",
      "conv3d_8 (Conv3D)            (None, 1, 1, 1, 128)      442496    \n",
      "_________________________________________________________________\n",
      "activation_8 (Activation)    (None, 1, 1, 1, 128)      0         \n",
      "_________________________________________________________________\n",
      "batch_normalization_8 (Batch (None, 1, 1, 1, 128)      512       \n",
      "_________________________________________________________________\n",
      "max_pooling3d_7 (MaxPooling3 (None, 1, 1, 1, 128)      0         \n",
      "_________________________________________________________________\n",
      "dropout_4 (Dropout)          (None, 1, 1, 1, 128)      0         \n",
      "_________________________________________________________________\n",
      "conv3d_9 (Conv3D)            (None, 1, 1, 1, 256)      884992    \n",
      "_________________________________________________________________\n",
      "activation_9 (Activation)    (None, 1, 1, 1, 256)      0         \n",
      "_________________________________________________________________\n",
      "batch_normalization_9 (Batch (None, 1, 1, 1, 256)      1024      \n",
      "_________________________________________________________________\n",
      "max_pooling3d_8 (MaxPooling3 (None, 1, 1, 1, 256)      0         \n",
      "_________________________________________________________________\n",
      "conv3d_10 (Conv3D)           (None, 1, 1, 1, 256)      1769728   \n",
      "_________________________________________________________________\n",
      "activation_10 (Activation)   (None, 1, 1, 1, 256)      0         \n",
      "_________________________________________________________________\n",
      "batch_normalization_10 (Batc (None, 1, 1, 1, 256)      1024      \n",
      "_________________________________________________________________\n",
      "max_pooling3d_9 (MaxPooling3 (None, 1, 1, 1, 256)      0         \n",
      "_________________________________________________________________\n",
      "dropout_5 (Dropout)          (None, 1, 1, 1, 256)      0         \n",
      "_________________________________________________________________\n",
      "flatten_1 (Flatten)          (None, 256)               0         \n",
      "_________________________________________________________________\n",
      "dense_1 (Dense)              (None, 128)               32896     \n",
      "_________________________________________________________________\n",
      "activation_11 (Activation)   (None, 128)               0         \n",
      "_________________________________________________________________\n",
      "dropout_6 (Dropout)          (None, 128)               0         \n",
      "_________________________________________________________________\n",
      "dense_2 (Dense)              (None, 5)                 645       \n",
      "_________________________________________________________________\n",
      "activation_12 (Activation)   (None, 5)                 0         \n",
      "=================================================================\n",
      "Total params: 3,571,829\n",
      "Trainable params: 3,569,845\n",
      "Non-trainable params: 1,984\n",
      "_________________________________________________________________\n",
      "None\n"
     ]
    }
   ],
   "source": [
    "from keras.optimizers import Adam\n",
    "optimiser = Adam(lr=0.002) #write your optimizer lr=0.001\n",
    "model.compile(optimizer=optimiser, loss='categorical_crossentropy', metrics=['categorical_accuracy'])\n",
    "print (model.summary())"
   ]
  },
  {
   "cell_type": "markdown",
   "metadata": {},
   "source": [
    "Let us create the `train_generator` and the `val_generator` which will be used in `.fit_generator`."
   ]
  },
  {
   "cell_type": "code",
   "execution_count": 13,
   "metadata": {},
   "outputs": [],
   "source": [
    "train_generator = generator(train_path, train_doc, batch_size)\n",
    "val_generator = generator(val_path, val_doc, batch_size)"
   ]
  },
  {
   "cell_type": "code",
   "execution_count": 43,
   "metadata": {},
   "outputs": [],
   "source": [
    "if not os.path.exists('models'):\n",
    "    os.mkdir('models')\n",
    "\n",
    "model_name = 'models/model_init' + '_' + str(curr_dt_time).replace(' ','').replace(':','_') + '/'\n",
    "    \n",
    "if not os.path.exists(model_name):\n",
    "    os.mkdir(model_name)\n",
    "        \n",
    "filepath = model_name + 'model-{epoch:05d}-{loss:.5f}-{categorical_accuracy:.5f}-{val_loss:.5f}-{val_categorical_accuracy:.5f}.h5'\n",
    "\n",
    "#checkpoint = ModelCheckpoint(filepath, monitor='val_categorical_accuracy', verbose=1, save_best_only=True, save_weights_only=False, mode='auto', period=1)\n",
    "checkpoint = ModelCheckpoint(filepath, monitor='val_categorical_accuracy', verbose=1, save_best_only=True, save_weights_only=False, mode='auto', period=1)\n",
    "\n",
    "# ReduceLROnPlateau(monitor='categorical_accuracy', factor= 0.125, patience=3, min_lr=0.001)\n",
    "LR = ReduceLROnPlateau(monitor='val_categorical_accuracy', factor= 0.0625, patience=3, min_lr=0.00001) # write the REducelronplateau code here\n",
    "callbacks_list = [checkpoint, LR]"
   ]
  },
  {
   "cell_type": "markdown",
   "metadata": {},
   "source": [
    "The `steps_per_epoch` and `validation_steps` are used by `fit_generator` to decide the number of next() calls it need to make."
   ]
  },
  {
   "cell_type": "code",
   "execution_count": 15,
   "metadata": {},
   "outputs": [],
   "source": [
    "if (num_train_sequences%batch_size) == 0:\n",
    "    steps_per_epoch = int(num_train_sequences/batch_size)\n",
    "else:\n",
    "    steps_per_epoch = (num_train_sequences//batch_size) + 1\n",
    "\n",
    "if (num_val_sequences%batch_size) == 0:\n",
    "    validation_steps = int(num_val_sequences/batch_size)\n",
    "else:\n",
    "    validation_steps = (num_val_sequences//batch_size) + 1"
   ]
  },
  {
   "cell_type": "code",
   "execution_count": 16,
   "metadata": {},
   "outputs": [
    {
     "name": "stdout",
     "output_type": "stream",
     "text": [
      "42\n",
      "7\n"
     ]
    }
   ],
   "source": [
    "print(steps_per_epoch)\n",
    "print(validation_steps)"
   ]
  },
  {
   "cell_type": "markdown",
   "metadata": {},
   "source": [
    "Let us now fit the model. This will start training the model and with the help of the checkpoints, you'll be able to save the model at the end of each epoch."
   ]
  },
  {
   "cell_type": "code",
   "execution_count": 17,
   "metadata": {
    "scrolled": true
   },
   "outputs": [
    {
     "name": "stdout",
     "output_type": "stream",
     "text": [
      "Epoch 1/25\n",
      "42/42 [==============================] - 59s 1s/step - loss: 1.1857 - categorical_accuracy: 0.5671 - val_loss: 2.1355 - val_categorical_accuracy: 0.2100\n",
      "\n",
      "Epoch 00001: val_categorical_accuracy improved from -inf to 0.21000, saving model to models/model_init_2020-05-0413_16_32.220504/model-00001-1.17429-0.56712-2.13546-0.21000.h5\n",
      "Epoch 2/30\n",
      "42/42 [==============================] - 58s 1s/step - loss: 1.1127 - categorical_accuracy: 0.5943 - val_loss: 3.7175 - val_categorical_accuracy: 0.1500\n",
      "\n",
      "Epoch 00002: val_categorical_accuracy did not improve from 0.21000\n",
      "Epoch 3/30\n",
      "42/42 [==============================] - 56s 1s/step - loss: 1.0648 - categorical_accuracy: 0.6290 - val_loss: 8.3055 - val_categorical_accuracy: 0.2300\n",
      "\n",
      "Epoch 00003: val_categorical_accuracy improved from 0.21000 to 0.23000, saving model to models/model_init_2020-05-0413_16_32.220504/model-00003-1.04317-0.62896-8.30549-0.23000.h5\n",
      "Epoch 4/30\n",
      "42/42 [==============================] - 56s 1s/step - loss: 1.0408 - categorical_accuracy: 0.6305 - val_loss: 2.7977 - val_categorical_accuracy: 0.2500\n",
      "\n",
      "Epoch 00004: val_categorical_accuracy improved from 0.23000 to 0.25000, saving model to models/model_init_2020-05-0413_16_32.220504/model-00004-1.00893-0.63047-2.79768-0.25000.h5\n",
      "Epoch 5/30\n",
      "42/42 [==============================] - 57s 1s/step - loss: 1.0237 - categorical_accuracy: 0.6501 - val_loss: 3.4263 - val_categorical_accuracy: 0.3200\n",
      "\n",
      "Epoch 00005: val_categorical_accuracy improved from 0.25000 to 0.32000, saving model to models/model_init_2020-05-0413_16_32.220504/model-00005-1.00009-0.65008-3.42635-0.32000.h5\n",
      "Epoch 6/30\n",
      "42/42 [==============================] - 57s 1s/step - loss: 0.9156 - categorical_accuracy: 0.6863 - val_loss: 4.8490 - val_categorical_accuracy: 0.4100\n",
      "\n",
      "Epoch 00006: val_categorical_accuracy improved from 0.32000 to 0.41000, saving model to models/model_init_2020-05-0413_16_32.220504/model-00006-0.89606-0.68627-4.84901-0.41000.h5\n",
      "Epoch 7/30\n",
      "42/42 [==============================] - 59s 1s/step - loss: 0.9881 - categorical_accuracy: 0.6772 - val_loss: 15.1506 - val_categorical_accuracy: 0.2700\n",
      "\n",
      "Epoch 00007: val_categorical_accuracy did not improve from 0.41000\n",
      "Epoch 8/30\n",
      "42/42 [==============================] - 57s 1s/step - loss: 0.8668 - categorical_accuracy: 0.7164 - val_loss: 19.8906 - val_categorical_accuracy: 0.2800\n",
      "\n",
      "Epoch 00008: val_categorical_accuracy did not improve from 0.41000\n",
      "Epoch 9/30\n",
      "42/42 [==============================] - 58s 1s/step - loss: 0.8402 - categorical_accuracy: 0.7044 - val_loss: 4.6475 - val_categorical_accuracy: 0.3900\n",
      "\n",
      "Epoch 00009: val_categorical_accuracy did not improve from 0.41000\n",
      "Epoch 10/30\n",
      "42/42 [==============================] - 57s 1s/step - loss: 0.8445 - categorical_accuracy: 0.7436 - val_loss: 6.1485 - val_categorical_accuracy: 0.3900\n",
      "\n",
      "Epoch 00010: val_categorical_accuracy did not improve from 0.41000\n",
      "Epoch 11/30\n",
      "42/42 [==============================] - 57s 1s/step - loss: 0.8681 - categorical_accuracy: 0.7270 - val_loss: 6.2944 - val_categorical_accuracy: 0.3800\n",
      "\n",
      "Epoch 00011: val_categorical_accuracy did not improve from 0.41000\n",
      "Epoch 12/30\n",
      "42/42 [==============================] - 57s 1s/step - loss: 0.7241 - categorical_accuracy: 0.7828 - val_loss: 4.6405 - val_categorical_accuracy: 0.3700\n",
      "\n",
      "Epoch 00012: val_categorical_accuracy did not improve from 0.41000\n",
      "Epoch 13/30\n",
      "42/42 [==============================] - 57s 1s/step - loss: 0.7714 - categorical_accuracy: 0.7662 - val_loss: 5.0019 - val_categorical_accuracy: 0.4100\n",
      "\n",
      "Epoch 00013: val_categorical_accuracy did not improve from 0.41000\n",
      "Epoch 14/30\n",
      "42/42 [==============================] - 57s 1s/step - loss: 0.7492 - categorical_accuracy: 0.7677 - val_loss: 3.3503 - val_categorical_accuracy: 0.4900\n",
      "\n",
      "Epoch 00014: val_categorical_accuracy improved from 0.41000 to 0.49000, saving model to models/model_init_2020-05-0413_16_32.220504/model-00014-0.72952-0.76772-3.35028-0.49000.h5\n",
      "Epoch 15/30\n",
      "42/42 [==============================] - 58s 1s/step - loss: 0.7194 - categorical_accuracy: 0.7873 - val_loss: 5.2642 - val_categorical_accuracy: 0.5600\n",
      "\n",
      "Epoch 00015: val_categorical_accuracy improved from 0.49000 to 0.56000, saving model to models/model_init_2020-05-0413_16_32.220504/model-00015-0.69927-0.78733-5.26419-0.56000.h5\n",
      "Epoch 16/30\n",
      "42/42 [==============================] - 61s 1s/step - loss: 0.7019 - categorical_accuracy: 0.7843 - val_loss: 5.5719 - val_categorical_accuracy: 0.6100\n",
      "\n",
      "Epoch 00016: val_categorical_accuracy improved from 0.56000 to 0.61000, saving model to models/model_init_2020-05-0413_16_32.220504/model-00016-0.68537-0.78431-5.57191-0.61000.h5\n",
      "Epoch 17/30\n",
      "42/42 [==============================] - 58s 1s/step - loss: 0.7012 - categorical_accuracy: 0.7979 - val_loss: 5.8106 - val_categorical_accuracy: 0.6100\n",
      "\n",
      "Epoch 00017: val_categorical_accuracy did not improve from 0.61000\n",
      "Epoch 18/30\n",
      "42/42 [==============================] - 57s 1s/step - loss: 0.6540 - categorical_accuracy: 0.8069 - val_loss: 1.9091 - val_categorical_accuracy: 0.6300\n",
      "\n",
      "Epoch 00018: val_categorical_accuracy improved from 0.61000 to 0.63000, saving model to models/model_init_2020-05-0413_16_32.220504/model-00018-0.64201-0.80694-1.90915-0.63000.h5\n",
      "Epoch 19/30\n",
      "42/42 [==============================] - 58s 1s/step - loss: 0.7464 - categorical_accuracy: 0.7858 - val_loss: 3.3394 - val_categorical_accuracy: 0.6100\n",
      "\n",
      "Epoch 00019: val_categorical_accuracy did not improve from 0.63000\n",
      "Epoch 20/30\n",
      "42/42 [==============================] - 59s 1s/step - loss: 0.7714 - categorical_accuracy: 0.7707 - val_loss: 4.7219 - val_categorical_accuracy: 0.6300\n",
      "\n",
      "Epoch 00020: val_categorical_accuracy did not improve from 0.63000\n",
      "Epoch 21/30\n",
      "42/42 [==============================] - 57s 1s/step - loss: 0.7352 - categorical_accuracy: 0.8024 - val_loss: 5.0120 - val_categorical_accuracy: 0.6100\n",
      "\n",
      "Epoch 00021: val_categorical_accuracy did not improve from 0.63000\n",
      "Epoch 22/30\n",
      "42/42 [==============================] - 58s 1s/step - loss: 0.7036 - categorical_accuracy: 0.7707 - val_loss: 1.9332 - val_categorical_accuracy: 0.6300\n",
      "\n",
      "Epoch 00022: val_categorical_accuracy did not improve from 0.63000\n",
      "Epoch 23/30\n",
      "42/42 [==============================] - 59s 1s/step - loss: 0.7739 - categorical_accuracy: 0.7722 - val_loss: 3.5270 - val_categorical_accuracy: 0.6400\n",
      "\n",
      "Epoch 00023: val_categorical_accuracy improved from 0.63000 to 0.64000, saving model to models/model_init_2020-05-0413_16_32.220504/model-00023-0.72277-0.77225-3.52702-0.64000.h5\n",
      "Epoch 24/30\n",
      "42/42 [==============================] - 58s 1s/step - loss: 0.8019 - categorical_accuracy: 0.7602 - val_loss: 4.7444 - val_categorical_accuracy: 0.6400\n",
      "\n",
      "Epoch 00024: val_categorical_accuracy did not improve from 0.64000\n",
      "Epoch 25/30\n",
      "42/42 [==============================] - 58s 1s/step - loss: 0.7261 - categorical_accuracy: 0.7753 - val_loss: 1.9089 - val_categorical_accuracy: 0.6500\n",
      "\n",
      "Epoch 00025: val_categorical_accuracy improved from 0.64000 to 0.65000, saving model to models/model_init_2020-05-0413_16_32.220504/model-00025-0.70777-0.77526-1.90892-0.65000.h5\n",
      "Epoch 26/30\n",
      "42/42 [==============================] - 57s 1s/step - loss: 0.6379 - categorical_accuracy: 0.8235 - val_loss: 3.9031 - val_categorical_accuracy: 0.6500\n",
      "\n",
      "Epoch 00026: val_categorical_accuracy did not improve from 0.65000\n",
      "Epoch 27/30\n",
      "42/42 [==============================] - 59s 1s/step - loss: 0.7933 - categorical_accuracy: 0.7059 - val_loss: 3.1594 - val_categorical_accuracy: 0.6800\n",
      "\n",
      "Epoch 00027: val_categorical_accuracy improved from 0.65000 to 0.68000, saving model to models/model_init_2020-05-0413_16_32.220504/model-00027-0.79334-0.70588-3.15941-0.68000.h5\n",
      "Epoch 28/30\n",
      "42/42 [==============================] - 58s 1s/step - loss: 0.7140 - categorical_accuracy: 0.7798 - val_loss: 3.9365 - val_categorical_accuracy: 0.6400\n",
      "\n",
      "Epoch 00028: val_categorical_accuracy did not improve from 0.68000\n",
      "Epoch 29/30\n",
      "42/42 [==============================] - 58s 1s/step - loss: 0.6854 - categorical_accuracy: 0.7753 - val_loss: 4.1225 - val_categorical_accuracy: 0.6400\n",
      "\n",
      "Epoch 00029: val_categorical_accuracy did not improve from 0.68000\n",
      "Epoch 30/30\n",
      "42/42 [==============================] - 58s 1s/step - loss: 0.7363 - categorical_accuracy: 0.7587 - val_loss: 4.5506 - val_categorical_accuracy: 0.6300\n",
      "\n",
      "Epoch 00030: val_categorical_accuracy did not improve from 0.68000\n"
     ]
    },
    {
     "data": {
      "text/plain": [
       "<keras.callbacks.callbacks.History at 0x244335e7358>"
      ]
     },
     "execution_count": 45,
     "metadata": {},
     "output_type": "execute_result"
    }
   ],
   "source": [
    "model.fit_generator(train_generator, steps_per_epoch=steps_per_epoch, epochs=num_epochs, verbose=1, \n",
    "                    callbacks=callbacks_list, validation_data=val_generator, \n",
    "                    validation_steps=validation_steps, class_weight=None, workers=1, initial_epoch=0, use_multiprocessing=False)"
   ]
  }
 ],
 "metadata": {
  "kernelspec": {
   "display_name": "Python 3",
   "language": "python",
   "name": "python3"
  },
  "language_info": {
   "codemirror_mode": {
    "name": "ipython",
    "version": 3
   },
   "file_extension": ".py",
   "mimetype": "text/x-python",
   "name": "python",
   "nbconvert_exporter": "python",
   "pygments_lexer": "ipython3",
   "version": "3.7.3"
  }
 },
 "nbformat": 4,
 "nbformat_minor": 2
}
